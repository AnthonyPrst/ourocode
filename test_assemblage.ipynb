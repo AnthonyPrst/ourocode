{
 "cells": [
  {
   "cell_type": "code",
   "execution_count": 1,
   "metadata": {},
   "outputs": [
    {
     "name": "stdout",
     "output_type": "stream",
     "text": [
      "c:\\Users\\mamessier\\Desktop\\Projet python\\ECOTIM_Catalogue eurocode\\Eurocode\\catalog\n"
     ]
    }
   ],
   "source": [
    "import sys\n",
    "import os\n",
    "\n",
    "from math import *\n",
    "import numpy as np\n",
    "import pandas as pd\n",
    "from matplotlib import pyplot as plt\n",
    "import handcalcs.render\n",
    "from handcalcs.decorator import handcalc\n",
    "import forallpeople as si\n",
    "from IPython.display import display, Latex\n",
    "\n",
    "print(os.path.join(os.getcwd(), \"catalog\"))\n",
    "sys.path.append(os.path.join(os.getcwd(), \"catalog\", \"eurocode\"))\n",
    "import A0_Projet as A0\n",
    "import EC5_Assemblage as EC5_Ass\n",
    "import EC5_Element_droit as EC5_Ele"
   ]
  },
  {
   "cell_type": "code",
   "execution_count": 2,
   "metadata": {},
   "outputs": [],
   "source": [
    "projet = A0.Projet(code_INSEE=73215, alt= 0)\n",
    "barre1 = EC5_Ass.Barre._from_parent_class(projet, b=100, h=200, section=\"Rectangulaire\", Hi=12, Hf=12, classe=\"C24\", cs=1, effet_systeme=\"False\")\n",
    "barre2 = EC5_Ass.Barre._from_parent_class(projet, b=50, h=250, section=\"Rectangulaire\", Hi=12, Hf=12, classe=\"C24\", cs=1, effet_systeme=\"False\")"
   ]
  },
  {
   "cell_type": "code",
   "execution_count": 3,
   "metadata": {},
   "outputs": [
    {
     "data": {
      "text/latex": [
       "\\[\n",
       "\\begin{aligned}\n",
       "f_{type_{Rd}} &= \\frac{ f_{type_{k}} \\cdot K_{mod} }{ \\gamma_{M} }  = \\frac{ 4.00\\ \\mathrm{MPa} \\cdot 0.80 }{ 1.30 } &= 2.46\\ \\mathrm{MPa}  \n",
       "\\end{aligned}\n",
       "\\]"
      ],
      "text/plain": [
       "<IPython.core.display.Latex object>"
      ]
     },
     "metadata": {},
     "output_type": "display_data"
    }
   ],
   "source": [
    "fvk = barre1._f_type_d(\"fvk\",\"Moyen terme\", \"Fondamentales\")\n",
    "display(Latex(fvk[0]))"
   ]
  },
  {
   "cell_type": "code",
   "execution_count": 4,
   "metadata": {},
   "outputs": [],
   "source": [
    "assemblage = EC5_Ass.Assemblage._from_parent_class(projet, beam_1=barre1, beam_2=barre2, nfile=3, nCis=2)"
   ]
  },
  {
   "cell_type": "code",
   "execution_count": 5,
   "metadata": {},
   "outputs": [
    {
     "data": {
      "text/plain": [
       "(EC5_Assemblage.Tirefond, object)"
      ]
     },
     "execution_count": 5,
     "metadata": {},
     "output_type": "execute_result"
    }
   ],
   "source": [
    "EC5_Ass.Tirefond.__mro__"
   ]
  },
  {
   "cell_type": "code",
   "execution_count": 6,
   "metadata": {},
   "outputs": [],
   "source": [
    "# connecteur = EC5_Ass.Tirefond_sup_6._from_parent_class(assemblage, d=10, d1=6.4, ds=7, dh=18.25, l=200, n=5, rho_a=350, fhead=10.5, ftensk=31400, MyRk=35830, alpha1=30, alpha2=30)\n",
    "connecteur = EC5_Ass.Broche._from_parent_class(assemblage, d=10, qualite = \"4.6\", n=5, alpha1=30, alpha2=30)"
   ]
  },
  {
   "cell_type": "code",
   "execution_count": 7,
   "metadata": {},
   "outputs": [
    {
     "data": {
      "text/plain": [
       "'4.6'"
      ]
     },
     "execution_count": 7,
     "metadata": {},
     "output_type": "execute_result"
    }
   ],
   "source": [
    "connecteur.qualite"
   ]
  },
  {
   "cell_type": "code",
   "execution_count": 8,
   "metadata": {},
   "outputs": [],
   "source": [
    "# faxk = connecteur.faxk(l_ef=69)\n",
    "# display(Latex(faxk[0]))\n",
    "# #display(Latex(connecteur.FaxaRk[0]))\n",
    "# print (connecteur.ftensk)"
   ]
  },
  {
   "cell_type": "code",
   "execution_count": 9,
   "metadata": {},
   "outputs": [
    {
     "data": {
      "text/latex": [
       "\\[\n",
       "\\begin{aligned}\n",
       "f_{h0k} &= 0.082 \\cdot \\left( 1 - 0.01 \\cdot d \\right) \\cdot \\rho_{k}  = 0.082 \\cdot \\left( 1 - 0.01 \\cdot 10.00 \\right) \\cdot 350 &= 25.83 \\; \\;\\textrm{(MPa)}\n",
       "\\end{aligned}\n",
       "\\]\\[\n",
       "\\begin{aligned}\n",
       "f_{h_{\\alpha_{k}}} &= \\frac{ f_{h0k} }{ k_{90} \\cdot \\left( \\sin { \\left( \\operatorname{radians} \\alpha \\right) } \\right) ^{ 2 } + \\left( \\cos { \\left( \\operatorname{radians} \\alpha \\right) } \\right) ^{ 2 } }  = \\frac{ 25.83\\ \\mathrm{MPa} }{ 1.50 \\cdot \\left( \\sin { \\left( \\operatorname{radians} 30 \\right) } \\right) ^{ 2 } + \\left( \\cos { \\left( \\operatorname{radians} 30 \\right) } \\right) ^{ 2 } } &= 22.96\\ \\mathrm{MPa}  \n",
       "\\end{aligned}\n",
       "\\]"
      ],
      "text/plain": [
       "<IPython.core.display.Latex object>"
      ]
     },
     "metadata": {},
     "output_type": "display_data"
    },
    {
     "data": {
      "text/latex": [
       "\\[\n",
       "\\begin{aligned}\n",
       "f_{h0k} &= 0.082 \\cdot \\left( 1 - 0.01 \\cdot d \\right) \\cdot \\rho_{k}  = 0.082 \\cdot \\left( 1 - 0.01 \\cdot 10.00 \\right) \\cdot 350 &= 25.83 \\; \\;\\textrm{(MPa)}\n",
       "\\end{aligned}\n",
       "\\]\\[\n",
       "\\begin{aligned}\n",
       "f_{h_{\\alpha_{k}}} &= \\frac{ f_{h0k} }{ k_{90} \\cdot \\left( \\sin { \\left( \\operatorname{radians} \\alpha \\right) } \\right) ^{ 2 } + \\left( \\cos { \\left( \\operatorname{radians} \\alpha \\right) } \\right) ^{ 2 } }  = \\frac{ 25.83\\ \\mathrm{MPa} }{ 1.50 \\cdot \\left( \\sin { \\left( \\operatorname{radians} 30 \\right) } \\right) ^{ 2 } + \\left( \\cos { \\left( \\operatorname{radians} 30 \\right) } \\right) ^{ 2 } } &= 22.96\\ \\mathrm{MPa}  \n",
       "\\end{aligned}\n",
       "\\]"
      ],
      "text/plain": [
       "<IPython.core.display.Latex object>"
      ]
     },
     "metadata": {},
     "output_type": "display_data"
    }
   ],
   "source": [
    "fh1k = connecteur.fh1k\n",
    "\n",
    "# Affichage avec Latex\n",
    "display(Latex(fh1k[0]))\n",
    "\n",
    "fh2k = connecteur.fh2k\n",
    "\n",
    "# Affichage avec Latex\n",
    "display(Latex(fh2k[0]))"
   ]
  },
  {
   "cell_type": "code",
   "execution_count": 10,
   "metadata": {},
   "outputs": [],
   "source": [
    "# FaxRk = connecteur.FaxRk(11.7, 40, 90, \"1\")\n",
    "# display(Latex(FaxRk[0]))\n"
   ]
  },
  {
   "cell_type": "code",
   "execution_count": 11,
   "metadata": {},
   "outputs": [],
   "source": [
    "# display(Latex(connecteur.nefTraction[0]))"
   ]
  },
  {
   "cell_type": "code",
   "execution_count": 12,
   "metadata": {},
   "outputs": [],
   "source": [
    "# FaxRk = connecteur.FaxRkTraction(11.7, 70, 90, \"1\")\n",
    "# display(Latex(FaxRk[0]))"
   ]
  },
  {
   "cell_type": "code",
   "execution_count": 13,
   "metadata": {},
   "outputs": [
    {
     "data": {
      "text/latex": [
       "\\[\n",
       "\\begin{aligned}\n",
       "n_{ef} &= \\operatorname{min} { \\left( \\left( n \\right) ^{ 0.9 } \\cdot \\left( \\frac{ a_{1} }{ 13 \\cdot d } \\right) ^{ \\left( \\frac{ 1 }{ 4 } \\right) } ,\\  n \\right) }  = \\operatorname{min} { \\left( \\left( 5 \\right) ^{ 0.9 } \\cdot \\left( \\frac{ 50.00\\ \\mathrm{mm} }{ 13 \\cdot 10.00\\ \\mathrm{mm} } \\right) ^{ \\left( \\frac{ 1 }{ 4 } \\right) } ,\\  5 \\right) } &= 3.35  \n",
       "\\end{aligned}\n",
       "\\]\\[\n",
       "\\begin{aligned}\n",
       "n_{ef_{a}} &= n_{ef} + \\alpha \\cdot \\frac{ n - n_{ef} }{ 90 }  = 3.35 + 30 \\cdot \\frac{ 5 - 3.35 }{ 90 } &= 3.90  \n",
       "\\end{aligned}\n",
       "\\]"
      ],
      "text/plain": [
       "<IPython.core.display.Latex object>"
      ]
     },
     "metadata": {},
     "output_type": "display_data"
    }
   ],
   "source": [
    "nef = connecteur.nef(a1_beam1=50, a1_beam2=60)\n",
    "display(Latex(nef[0]))\n"
   ]
  },
  {
   "cell_type": "code",
   "execution_count": 14,
   "metadata": {},
   "outputs": [
    {
     "name": "stdout",
     "output_type": "stream",
     "text": [
      "100.000 mm 50.000 mm\n"
     ]
    }
   ],
   "source": [
    "t1=connecteur.t1\n",
    "t2=connecteur.t2\n",
    "t1\n",
    "print(t1,t2)"
   ]
  },
  {
   "cell_type": "code",
   "execution_count": 15,
   "metadata": {},
   "outputs": [
    {
     "name": "stdout",
     "output_type": "stream",
     "text": [
      "0\n"
     ]
    },
    {
     "data": {
      "text/latex": [
       "\\[\n",
       "\\begin{aligned}\n",
       "\\beta &= \\frac{ f_{h2k} }{ f_{h1k} } \\\\&= \\frac{ 22.96 }{ 22.96 } \\\\&= 1.00  \\\\[10pt]\n",
       "\\\\[10pt]\n",
       "g &= f_{h1k} \\cdot t_{1} \\cdot \\mathrm{diam} \\\\&= 22.96 \\cdot 100.00 \\cdot 10.00 \\\\&= 22960.00 \\; \\;\\textrm{(N)}\\\\[10pt]\n",
       "\\\\[10pt]\n",
       "h &= 0.5 \\cdot f_{h2k} \\cdot t_{2} \\cdot \\mathrm{diam} \\\\&= 0.5 \\cdot 22.96 \\cdot 50.00 \\cdot 10.00 \\\\&= 5740.00 \\; \\;\\textrm{(N)}\\\\[10pt]\n",
       "\\\\[10pt]\n",
       "j &= 1.05 \\cdot \\frac{ g }{ 2 + \\beta } \\cdot \\left( \\sqrt { 2 \\cdot \\beta \\cdot \\left( 1 + \\beta \\right) + \\frac{ 4 \\cdot \\beta \\cdot \\left( 2 + \\beta \\right) \\cdot M_{y_{Rk}} }{ f_{h1k} \\cdot \\left( t_{1} \\right) ^{ 2 } \\cdot \\mathrm{diam} } } - \\beta \\right) \\\\&= 1.05 \\cdot \\frac{ 22960.00 }{ 2 + 1.00 } \\cdot \\left( \\sqrt { 2 \\cdot 1.00 \\cdot \\left( 1 + 1.00 \\right) + \\frac{ 4 \\cdot 1.00 \\cdot \\left( 2 + 1.00 \\right) \\cdot 47772.86 }{ 22.96 \\cdot \\left( 100.00 \\right) ^{ 2 } \\cdot 10.00 } } - 1.00 \\right) \\\\&= 8530.02 \\; \\;\\textrm{(N)}\\\\[10pt]\n",
       "\\\\[10pt]\n",
       "k &= 1.15 \\cdot \\sqrt { \\frac{ 2 \\cdot \\beta }{ 1 + \\beta } } \\cdot \\sqrt { 2 \\cdot M_{y_{Rk}} \\cdot f_{h1k} \\cdot \\mathrm{diam} } \\\\&= 1.15 \\cdot \\sqrt { \\frac{ 2 \\cdot 1.00 }{ 1 + 1.00 } } \\cdot \\sqrt { 2 \\cdot 47772.86 \\cdot 22.96 \\cdot 10.00 } \\\\&= 5386.29 \\; \\;\\textrm{(N)}\\\\[10pt]\n",
       "\\end{aligned}\n",
       "\\]\\[\n",
       "\\begin{aligned}\n",
       "F_{v_{Rk_{johansen}}} &= \\operatorname{min} { \\left( g ,\\  h ,\\  j ,\\  k \\right) }  = \\operatorname{min} { \\left( 22.96\\ \\mathrm{kN} ,\\  5.74\\ \\mathrm{kN} ,\\  8.53\\ \\mathrm{kN} ,\\  5.39\\ \\mathrm{kN} \\right) } &= 5.39\\ \\mathrm{kN}  \n",
       "\\\\[10pt]\n",
       "\\mathrm{mode}_{rupture} &= K \\; \n",
       "\\end{aligned}\n",
       "\\]\\[\n",
       "\\begin{aligned}\n",
       "F_{ax_{Rk_{reel}}} &= \\operatorname{min} { \\left( \\frac{ F_{ax_{Rk}} }{ 4 } ,\\  \\mathrm{coeflimit} \\cdot F_{v_{Rk_{johansen}}} \\right) }  = \\operatorname{min} { \\left( \\frac{ 0 }{ 4 } ,\\  0 \\cdot 5.39\\ \\mathrm{kN} \\right) } &= 0.00  \n",
       "\\\\[10pt]\n",
       "F_{v_{Rk}} &= F_{v_{Rk_{johansen}}} + F_{ax_{Rk_{reel}}}  = 5.39\\ \\mathrm{kN} + 0.00 &= 5.39\\ \\mathrm{kN}  \n",
       "\\end{aligned}\n",
       "\\]\\[\n",
       "\\begin{aligned}\n",
       "F_{v_{Rk_{ass}}} &= F_{v_{Rk}} \\cdot n_{file} \\cdot n_{ef} \\cdot n_{cisaillement}  = 5.39\\ \\mathrm{kN} \\cdot 3 \\cdot 3.90 \\cdot 2 &= 126.09\\ \\mathrm{kN}  \n",
       "\\end{aligned}\n",
       "\\]"
      ],
      "text/plain": [
       "<IPython.core.display.Latex object>"
      ]
     },
     "metadata": {},
     "output_type": "display_data"
    }
   ],
   "source": [
    "FvRk = connecteur.FvRk(True)\n",
    "display(Latex(FvRk[0]))"
   ]
  },
  {
   "cell_type": "code",
   "execution_count": 16,
   "metadata": {},
   "outputs": [
    {
     "data": {
      "text/html": [
       "<div>\n",
       "<style scoped>\n",
       "    .dataframe tbody tr th:only-of-type {\n",
       "        vertical-align: middle;\n",
       "    }\n",
       "\n",
       "    .dataframe tbody tr th {\n",
       "        vertical-align: top;\n",
       "    }\n",
       "\n",
       "    .dataframe thead th {\n",
       "        text-align: right;\n",
       "    }\n",
       "</style>\n",
       "<table border=\"1\" class=\"dataframe\">\n",
       "  <thead>\n",
       "    <tr style=\"text-align: right;\">\n",
       "      <th></th>\n",
       "      <th>barre 1</th>\n",
       "      <th>barre 2</th>\n",
       "    </tr>\n",
       "  </thead>\n",
       "  <tbody>\n",
       "    <tr>\n",
       "      <th>a1</th>\n",
       "      <td>47.3 mm</td>\n",
       "      <td>47.3 mm</td>\n",
       "    </tr>\n",
       "    <tr>\n",
       "      <th>a2</th>\n",
       "      <td>30.0 mm</td>\n",
       "      <td>30.0 mm</td>\n",
       "    </tr>\n",
       "    <tr>\n",
       "      <th>a3t</th>\n",
       "      <td>80.0 mm</td>\n",
       "      <td>80.0 mm</td>\n",
       "    </tr>\n",
       "    <tr>\n",
       "      <th>a3c</th>\n",
       "      <td>40.0 mm</td>\n",
       "      <td>40.0 mm</td>\n",
       "    </tr>\n",
       "    <tr>\n",
       "      <th>a4t</th>\n",
       "      <td>30.0 mm</td>\n",
       "      <td>30.0 mm</td>\n",
       "    </tr>\n",
       "    <tr>\n",
       "      <th>a4c</th>\n",
       "      <td>30.0 mm</td>\n",
       "      <td>30.0 mm</td>\n",
       "    </tr>\n",
       "  </tbody>\n",
       "</table>\n",
       "</div>"
      ],
      "text/plain": [
       "     barre 1  barre 2\n",
       "a1   47.3 mm  47.3 mm\n",
       "a2   30.0 mm  30.0 mm\n",
       "a3t  80.0 mm  80.0 mm\n",
       "a3c  40.0 mm  40.0 mm\n",
       "a4t  30.0 mm  30.0 mm\n",
       "a4c  30.0 mm  30.0 mm"
      ]
     },
     "execution_count": 16,
     "metadata": {},
     "output_type": "execute_result"
    }
   ],
   "source": [
    "\n",
    "pince = connecteur.pince\n",
    "pd.DataFrame(pince)"
   ]
  },
  {
   "cell_type": "code",
   "execution_count": 17,
   "metadata": {},
   "outputs": [
    {
     "data": {
      "text/latex": [
       "\\[\n",
       "\\begin{aligned}\n",
       "M_{y_{Rk}} &= 0.3 \\cdot f_{uk} \\cdot \\left( d \\right) ^{ 2.6 }  = 0.3 \\cdot 400.00 \\cdot \\left( 10.00 \\right) ^{ 2.6 } &= 47772.86 \\; \\;\\textrm{(N.mm)}\n",
       "\\end{aligned}\n",
       "\\]"
      ],
      "text/plain": [
       "<IPython.core.display.Latex object>"
      ]
     },
     "metadata": {},
     "output_type": "display_data"
    }
   ],
   "source": [
    "display(Latex(connecteur.MyRk[0]))"
   ]
  }
 ],
 "metadata": {
  "kernelspec": {
   "display_name": "env",
   "language": "python",
   "name": "python3"
  },
  "language_info": {
   "codemirror_mode": {
    "name": "ipython",
    "version": 3
   },
   "file_extension": ".py",
   "mimetype": "text/x-python",
   "name": "python",
   "nbconvert_exporter": "python",
   "pygments_lexer": "ipython3",
   "version": "3.12.2"
  }
 },
 "nbformat": 4,
 "nbformat_minor": 2
}
