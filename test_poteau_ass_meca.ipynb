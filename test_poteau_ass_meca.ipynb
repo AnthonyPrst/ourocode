{
 "cells": [
  {
   "cell_type": "markdown",
   "metadata": {},
   "source": [
    "# N° projet - Projet - Note de calcul\n",
    "---\n",
    "## Element :\n",
    "- Annexe : ANxx\n",
    "- Date : 03/10/2022\n",
    "- Ingénieur : Anthony PARISOT\n",
    "---"
   ]
  },
  {
   "cell_type": "code",
   "execution_count": 1,
   "metadata": {},
   "outputs": [],
   "source": [
    "# Pour impression sans le code executer cette commande dans un terminale:\n",
    "#               jupyter nbconvert --no-input --to html Nom_fichier.ipynb    "
   ]
  },
  {
   "cell_type": "code",
   "execution_count": 2,
   "metadata": {},
   "outputs": [],
   "source": [
    "import sys\n",
    "import os\n",
    "from math import *\n",
    "from IPython.display import display, Latex\n",
    "\n",
    "import numpy as np\n",
    "import pandas as pd\n",
    "from matplotlib import pyplot as plt\n",
    "import handcalcs.render\n",
    "from handcalcs.decorator import handcalc\n",
    "import forallpeople as si\n",
    "\n",
    "sys.path.append(os.path.join(os.getcwd(), \"catalog\", \"eurocode\"))\n",
    "import A0_Projet as A0\n",
    "import A1_MEF as A1\n",
    "import EC0_Combinaison as EC0\n",
    "import EC5_Assemblage as EC5_Ass\n",
    "import EC5_Element_droit as EC5_Ele"
   ]
  },
  {
   "cell_type": "code",
   "execution_count": 3,
   "metadata": {},
   "outputs": [],
   "source": [
    "si.environment(\"structural\")\n"
   ]
  },
  {
   "cell_type": "markdown",
   "metadata": {},
   "source": [
    "### Définition des éléments\n",
    "---"
   ]
  },
  {
   "cell_type": "markdown",
   "metadata": {},
   "source": [
    "#### Générale"
   ]
  },
  {
   "cell_type": "markdown",
   "metadata": {},
   "source": [
    "- <font color=\"red\">**Bois**</font>"
   ]
  },
  {
   "cell_type": "code",
   "execution_count": 4,
   "metadata": {},
   "outputs": [
    {
     "data": {
      "text/latex": [
       "\\[\n",
       "\\begin{aligned}\n",
       "I_{ef} &= \\frac{ \\mathrm{EI}_{ef} }{ E_{mean} }  = \\frac{ 960.74\\ \\mathrm{kN} \\cdot \\mathrm{m²} }{ 11.25\\ \\mathrm{GPa} } &= 85399074.74\\ \\mathrm{mm}^{4} \\; \\;\\textrm{(equC.4)}\n",
       "\\end{aligned}\n",
       "\\]"
      ],
      "text/plain": [
       "<IPython.core.display.Latex object>"
      ]
     },
     "metadata": {},
     "output_type": "display_data"
    }
   ],
   "source": [
    "beam2 = EC5_Ele.Barre(80,220,\"Rectangulaire\", classe=\"GL24h\", cs=1)\n",
    "beam3 = EC5_Ele.Barre(60,100,\"Rectangulaire\", classe=\"C24\", cs=1)\n",
    "beam_ass = EC5_Ele.Poutre_assemblee_meca(beam_2=beam2, l=5000, disposition=\"Latérale\", recouvrement=[0,120], Kser=[None,None,700], entraxe=[None,None,250], psy_2=0, beam_3=beam3)\n",
    "pole_ass = EC5_Ele.Poteau_assemble_meca._from_parent_class(beam_ass, lo_y=5000, lo_z=5000, type_appuis=\"Rotule - Rotule\")\n",
    "\n",
    "display(Latex(pole_ass.Ief[0]))\n"
   ]
  },
  {
   "cell_type": "code",
   "execution_count": 5,
   "metadata": {},
   "outputs": [
    {
     "data": {
      "text/latex": [
       "\\[\n",
       "\\begin{aligned}\n",
       "f_{m0_{d}} &= k_{sys} \\cdot f_{m0_{k}} \\cdot \\frac{ K_{mod} }{ \\gamma_{M} }  = 1.10 \\cdot 24.00\\ \\mathrm{MPa} \\cdot \\frac{ 0.80 }{ 1.25 } &= 16.90\\ \\mathrm{MPa}  \n",
       "\\end{aligned}\n",
       "\\]"
      ],
      "text/plain": [
       "<IPython.core.display.Latex object>"
      ]
     },
     "metadata": {},
     "output_type": "display_data"
    }
   ],
   "source": [
    "display(Latex(pole_ass.pole[1]._f_type_d(\"fm0k\", \"Moyen terme\", \"Fondamentales\")[0]))"
   ]
  },
  {
   "cell_type": "code",
   "execution_count": 6,
   "metadata": {},
   "outputs": [
    {
     "name": "stdout",
     "output_type": "stream",
     "text": [
      "lamb,ef,z :\n"
     ]
    },
    {
     "data": {
      "text/latex": [
       "\\[\n",
       "\\begin{aligned}\n",
       "\\lambda_{z_{ef}} &= \\mathrm{lo}_{z} \\cdot \\sqrt { \\frac{ A_{tot} }{ I_{z_{ef}} } }  = 5000.00 \\cdot \\sqrt { \\frac{ 23600.00\\ \\mathrm{mm}^{2} }{ 85399074.74\\ \\mathrm{mm}^{4} } } &= 83.12 \\; \\;\\textrm{(equC.3)}\n",
       "\\end{aligned}\n",
       "\\]"
      ],
      "text/plain": [
       "<IPython.core.display.Latex object>"
      ]
     },
     "metadata": {},
     "output_type": "display_data"
    },
    {
     "name": "stdout",
     "output_type": "stream",
     "text": [
      "Pole2 lamb,y :\n"
     ]
    },
    {
     "data": {
      "text/latex": [
       "\\[\n",
       "\\begin{aligned}\n",
       "\\lambda_{y} &= \\frac{ \\mathrm{lo}_{y} \\cdot \\mathrm{coef}_{lef} }{ \\sqrt { \\frac{ I_{y} }{ A } } }  = \\frac{ 5000.00 \\cdot 1 }{ \\sqrt { \\frac{ 70986666.67 }{ 17600.00 } } } &= 78.73  \n",
       "\\end{aligned}\n",
       "\\]"
      ],
      "text/plain": [
       "<IPython.core.display.Latex object>"
      ]
     },
     "metadata": {},
     "output_type": "display_data"
    },
    {
     "name": "stdout",
     "output_type": "stream",
     "text": [
      "Pole3 lamb,y :\n"
     ]
    },
    {
     "data": {
      "text/latex": [
       "\\[\n",
       "\\begin{aligned}\n",
       "\\lambda_{y} &= \\frac{ \\mathrm{lo}_{y} \\cdot \\mathrm{coef}_{lef} }{ \\sqrt { \\frac{ I_{y} }{ A } } }  = \\frac{ 5000.00 \\cdot 1 }{ \\sqrt { \\frac{ 5000000.00 }{ 6000.00 } } } &= 173.21  \n",
       "\\end{aligned}\n",
       "\\]"
      ],
      "text/plain": [
       "<IPython.core.display.Latex object>"
      ]
     },
     "metadata": {},
     "output_type": "display_data"
    }
   ],
   "source": [
    "for key in pole_ass.lamb.keys():\n",
    "    print(key, \":\")\n",
    "    display(Latex(pole_ass.lamb[key][0]))"
   ]
  },
  {
   "cell_type": "code",
   "execution_count": 7,
   "metadata": {},
   "outputs": [
    {
     "name": "stdout",
     "output_type": "stream",
     "text": [
      "lamb,rel,ef,z :\n"
     ]
    },
    {
     "data": {
      "text/latex": [
       "\\[\n",
       "\\begin{aligned}\n",
       "\\lambda_{rel_{ef_{z}}} &= \\left( \\frac{ \\lambda_{ef_{z}} }{ \\pi } \\right) \\cdot \\sqrt { \\frac{ f_{c0k_{mean}} }{ E_{0_{05_{mean}}} } }  = \\left( \\frac{ 83.119 }{ 3.142 } \\right) \\cdot \\sqrt { \\frac{ 22.500\\ \\mathrm{MPa} }{ 8.500\\ \\mathrm{GPa} } } &= 1.361  \n",
       "\\end{aligned}\n",
       "\\]"
      ],
      "text/plain": [
       "<IPython.core.display.Latex object>"
      ]
     },
     "metadata": {},
     "output_type": "display_data"
    },
    {
     "name": "stdout",
     "output_type": "stream",
     "text": [
      "Pole2 lamb,rel,y :\n"
     ]
    },
    {
     "data": {
      "text/latex": [
       "\\[\n",
       "\\begin{aligned}\n",
       "\\lambda_{rel_{y}} &= \\left( \\frac{ \\lambda_{y} }{ \\pi } \\right) \\cdot \\sqrt { \\frac{ f_{c0k} }{ E_{0_{05}} } }  = \\left( \\frac{ 78.730 }{ 3.142 } \\right) \\cdot \\sqrt { \\frac{ 24.000\\ \\mathrm{MPa} }{ 9.600\\ \\mathrm{GPa} } } &= 1.253  \n",
       "\\end{aligned}\n",
       "\\]"
      ],
      "text/plain": [
       "<IPython.core.display.Latex object>"
      ]
     },
     "metadata": {},
     "output_type": "display_data"
    },
    {
     "name": "stdout",
     "output_type": "stream",
     "text": [
      "Pole3 lamb,rel,y :\n"
     ]
    },
    {
     "data": {
      "text/latex": [
       "\\[\n",
       "\\begin{aligned}\n",
       "\\lambda_{rel_{y}} &= \\left( \\frac{ \\lambda_{y} }{ \\pi } \\right) \\cdot \\sqrt { \\frac{ f_{c0k} }{ E_{0_{05}} } }  = \\left( \\frac{ 173.205 }{ 3.142 } \\right) \\cdot \\sqrt { \\frac{ 21.000\\ \\mathrm{MPa} }{ 7.400\\ \\mathrm{GPa} } } &= 2.937  \n",
       "\\end{aligned}\n",
       "\\]"
      ],
      "text/plain": [
       "<IPython.core.display.Latex object>"
      ]
     },
     "metadata": {},
     "output_type": "display_data"
    }
   ],
   "source": [
    "for key in pole_ass.lamb_rel_Axe.keys():\n",
    "    print(key, \":\")\n",
    "    display(Latex(pole_ass.lamb_rel_Axe[key][0]))"
   ]
  },
  {
   "cell_type": "code",
   "execution_count": 8,
   "metadata": {},
   "outputs": [
    {
     "name": "stdout",
     "output_type": "stream",
     "text": [
      "Pole2 ky :\n"
     ]
    },
    {
     "data": {
      "text/latex": [
       "\\[\n",
       "\\begin{aligned}\n",
       "k_{y} &= 0.5 \\cdot \\left( 1 + \\beta_{C} \\cdot \\left( \\lambda_{rel_{y}} - 0.3 \\right) + \\left( \\lambda_{rel_{y}} \\right) ^{ 2 } \\right)  = 0.5 \\cdot \\left( 1 + 0.10 \\cdot \\left( 1.25 - 0.3 \\right) + \\left( 1.25 \\right) ^{ 2 } \\right) &= 1.33  \n",
       "\\end{aligned}\n",
       "\\]"
      ],
      "text/plain": [
       "<IPython.core.display.Latex object>"
      ]
     },
     "metadata": {},
     "output_type": "display_data"
    },
    {
     "name": "stdout",
     "output_type": "stream",
     "text": [
      "Pole3 ky :\n"
     ]
    },
    {
     "data": {
      "text/latex": [
       "\\[\n",
       "\\begin{aligned}\n",
       "k_{y} &= 0.5 \\cdot \\left( 1 + \\beta_{C} \\cdot \\left( \\lambda_{rel_{y}} - 0.3 \\right) + \\left( \\lambda_{rel_{y}} \\right) ^{ 2 } \\right)  = 0.5 \\cdot \\left( 1 + 0.20 \\cdot \\left( 2.94 - 0.3 \\right) + \\left( 2.94 \\right) ^{ 2 } \\right) &= 5.08  \n",
       "\\end{aligned}\n",
       "\\]"
      ],
      "text/plain": [
       "<IPython.core.display.Latex object>"
      ]
     },
     "metadata": {},
     "output_type": "display_data"
    },
    {
     "name": "stdout",
     "output_type": "stream",
     "text": [
      "k,ef,z :\n"
     ]
    },
    {
     "data": {
      "text/latex": [
       "\\[\n",
       "\\begin{aligned}\n",
       "k_{ef_{y}} &= 0.5 \\cdot \\left( 1 + \\beta_{C_{poles}} \\cdot \\left( \\lambda_{rel_{ef_{z}}} - 0.3 \\right) + \\left( \\lambda_{rel_{ef_{z}}} \\right) ^{ 2 } \\right)  = 0.5 \\cdot \\left( 1 + 0.200 \\cdot \\left( 1.361 - 0.3 \\right) + \\left( 1.361 \\right) ^{ 2 } \\right) &= 1.533  \n",
       "\\end{aligned}\n",
       "\\]"
      ],
      "text/plain": [
       "<IPython.core.display.Latex object>"
      ]
     },
     "metadata": {},
     "output_type": "display_data"
    }
   ],
   "source": [
    "for key in pole_ass.k_Axe.keys():\n",
    "    print(key, \":\")\n",
    "    display(Latex(pole_ass.k_Axe[key][0]))"
   ]
  },
  {
   "cell_type": "code",
   "execution_count": 9,
   "metadata": {},
   "outputs": [
    {
     "name": "stdout",
     "output_type": "stream",
     "text": [
      "kc,ef,z :\n"
     ]
    },
    {
     "data": {
      "text/latex": [
       "\\[\n",
       "\\begin{aligned}\n",
       "k_{c_{ef_{z}}} &= \\frac{ 1 }{ k_{ef_{z}} + \\sqrt { \\left( k_{ef_{z}} \\right) ^{ 2 } - \\left( \\lambda_{rel_{ef_{z}}} \\right) ^{ 2 } } }  = \\frac{ 1 }{ 1.533 + \\sqrt { \\left( 1.533 \\right) ^{ 2 } - \\left( 1.361 \\right) ^{ 2 } } } &= 0.447  \n",
       "\\end{aligned}\n",
       "\\]"
      ],
      "text/plain": [
       "<IPython.core.display.Latex object>"
      ]
     },
     "metadata": {},
     "output_type": "display_data"
    },
    {
     "name": "stdout",
     "output_type": "stream",
     "text": [
      "Pole2 kc,y :\n"
     ]
    },
    {
     "data": {
      "text/latex": [
       "\\[\n",
       "\\begin{aligned}\n",
       "k_{c_{y}} &= \\frac{ 1 }{ k_{y} + \\sqrt { \\left( k_{y} \\right) ^{ 2 } - \\left( \\lambda_{rel_{y}} \\right) ^{ 2 } } }  = \\frac{ 1 }{ 1.33 + \\sqrt { \\left( 1.33 \\right) ^{ 2 } - \\left( 1.25 \\right) ^{ 2 } } } &= 0.56  \n",
       "\\end{aligned}\n",
       "\\]"
      ],
      "text/plain": [
       "<IPython.core.display.Latex object>"
      ]
     },
     "metadata": {},
     "output_type": "display_data"
    },
    {
     "name": "stdout",
     "output_type": "stream",
     "text": [
      "Pole3 kc,y :\n"
     ]
    },
    {
     "data": {
      "text/latex": [
       "\\[\n",
       "\\begin{aligned}\n",
       "k_{c_{y}} &= \\frac{ 1 }{ k_{y} + \\sqrt { \\left( k_{y} \\right) ^{ 2 } - \\left( \\lambda_{rel_{y}} \\right) ^{ 2 } } }  = \\frac{ 1 }{ 5.08 + \\sqrt { \\left( 5.08 \\right) ^{ 2 } - \\left( 2.94 \\right) ^{ 2 } } } &= 0.11  \n",
       "\\end{aligned}\n",
       "\\]"
      ],
      "text/plain": [
       "<IPython.core.display.Latex object>"
      ]
     },
     "metadata": {},
     "output_type": "display_data"
    }
   ],
   "source": [
    "for key in pole_ass.kc_Axe.keys():\n",
    "    print(key, \":\")\n",
    "    display(Latex(pole_ass.kc_Axe[key][0]))"
   ]
  },
  {
   "cell_type": "code",
   "execution_count": 12,
   "metadata": {},
   "outputs": [
    {
     "data": {
      "text/plain": [
       "{'Pole2 fc,0,d': ('\\\\[\\n\\\\begin{aligned}\\nf_{c0_{d}} &= \\\\frac{ f_{c0_{k}} \\\\cdot K_{mod} }{ \\\\gamma_{M} }  = \\\\frac{ 24.00\\\\ \\\\mathrm{MPa} \\\\cdot 0.80 }{ 1.25 } &= 15.36\\\\ \\\\mathrm{MPa}  \\n\\\\end{aligned}\\n\\\\]',\n",
       "  15.360 MPa),\n",
       " 'Pole3 fc,0,d': ('\\\\[\\n\\\\begin{aligned}\\nf_{c0_{d}} &= \\\\frac{ f_{c0_{k}} \\\\cdot K_{mod} }{ \\\\gamma_{M} }  = \\\\frac{ 21.00\\\\ \\\\mathrm{MPa} \\\\cdot 0.80 }{ 1.30 } &= 12.92\\\\ \\\\mathrm{MPa}  \\n\\\\end{aligned}\\n\\\\]',\n",
       "  12.923 MPa),\n",
       " 'fc,0,ef,d': 14.142 MPa}"
      ]
     },
     "execution_count": 12,
     "metadata": {},
     "output_type": "execute_result"
    }
   ],
   "source": [
    "\n",
    "pole_ass.f_c_0_d(\"Moyen terme\", \"Fondamentales\")\n",
    "pole_ass.dict_fc0d"
   ]
  },
  {
   "cell_type": "code",
   "execution_count": 18,
   "metadata": {},
   "outputs": [
    {
     "data": {
      "text/latex": [
       "\\[\n",
       "\\begin{aligned}\n",
       "\\sigma_{c_{0_{d}}} &= \\frac{ \\mathrm{Fc}_{0_{d}} }{ A_{tot} }  = \\frac{ 40.00\\ \\mathrm{kN} }{ 23600.00\\ \\mathrm{mm}^{2} } &= 1.69\\ \\mathrm{MPa} \\; \\;\\textrm{(equC.2)}\n",
       "\\end{aligned}\n",
       "\\]"
      ],
      "text/plain": [
       "<IPython.core.display.Latex object>"
      ]
     },
     "metadata": {},
     "output_type": "display_data"
    }
   ],
   "source": [
    "display(Latex(pole_ass.sigma_c_0_d(40)[0]))"
   ]
  },
  {
   "cell_type": "code",
   "execution_count": 19,
   "metadata": {},
   "outputs": [
    {
     "data": {
      "text/latex": [
       "\\[\n",
       "\\begin{aligned}\n",
       "\\mathrm{taux}_{6_{2}} &= \\frac{ \\sigma_{c_{0_{d}}} }{ f_{c0_{d_{tot}}} }  = \\frac{ 1.695\\ \\mathrm{MPa} }{ 28.283\\ \\mathrm{MPa} } &= 0.060 \\; \\;\\textrm{(equ6.2)}\n",
       "\\\\[10pt]\n",
       "\\mathrm{taux}_{6_{23}} &= \\left( \\frac{ \\sigma_{c_{0_{d}}} }{ f_{c0d_{tot_{Kcy}}} } \\right) + \\mathrm{taux}_{6_{11}}  = \\left( \\frac{ 1.695\\ \\mathrm{MPa} }{ 10.000\\ \\mathrm{MPa} } \\right) + 0 &= 0.169 \\; \\;\\textrm{(equ6.23)}\n",
       "\\\\[10pt]\n",
       "\\mathrm{taux}_{6_{24}} &= \\frac{ \\sigma_{c_{0_{d}}} }{ f_{c_{0_{ef_{d}}}} \\cdot K_{c_{eff_{z}}} } + \\mathrm{taux}_{6_{12}}  = \\frac{ 1.695\\ \\mathrm{MPa} }{ 14.142\\ \\mathrm{MPa} \\cdot 0.447 } + 0 &= 0.268 \\; \\;\\textrm{(equC.1)}\n",
       "\\end{aligned}\n",
       "\\]"
      ],
      "text/plain": [
       "<IPython.core.display.Latex object>"
      ]
     },
     "metadata": {},
     "output_type": "display_data"
    }
   ],
   "source": [
    "display(Latex(pole_ass.taux_c_0_d()[0]))"
   ]
  },
  {
   "cell_type": "code",
   "execution_count": 20,
   "metadata": {},
   "outputs": [
    {
     "data": {
      "text/latex": [
       "\\[\n",
       "\\begin{aligned}\n",
       "V_{d} &= \\frac{ \\mathrm{Fc}_{0_{d}} }{ 60 \\cdot K_{c_{eff_{z}}} }  = \\frac{ 40.00\\ \\mathrm{kN} }{ 60 \\cdot 0.45 } &= 1.49\\ \\mathrm{kN}  \n",
       "\\end{aligned}\n",
       "\\]"
      ],
      "text/plain": [
       "<IPython.core.display.Latex object>"
      ]
     },
     "metadata": {},
     "output_type": "display_data"
    }
   ],
   "source": [
    "display(Latex(pole_ass.Vd_organe(40)[0]))"
   ]
  }
 ],
 "metadata": {
  "kernelspec": {
   "display_name": "Python 3",
   "language": "python",
   "name": "python3"
  },
  "language_info": {
   "codemirror_mode": {
    "name": "ipython",
    "version": 3
   },
   "file_extension": ".py",
   "mimetype": "text/x-python",
   "name": "python",
   "nbconvert_exporter": "python",
   "pygments_lexer": "ipython3",
   "version": "3.12.0"
  },
  "orig_nbformat": 4,
  "vscode": {
   "interpreter": {
    "hash": "1d15cea6636cd277c10e238197c7817de72ffcac41896e88a6024ee719cf5e5f"
   }
  }
 },
 "nbformat": 4,
 "nbformat_minor": 2
}
