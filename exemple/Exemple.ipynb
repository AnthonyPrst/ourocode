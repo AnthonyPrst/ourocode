{
 "cells": [
  {
   "cell_type": "markdown",
   "metadata": {},
   "source": [
    "# N° projet - Projet - Note de calcul\n",
    "---\n",
    "## Element : Assemblage bois/métal\n",
    "- Annexe : ANxx\n",
    "- Date : 13/11/2022\n",
    "- Ingénieur : Anthony PARISOT\n",
    "---"
   ]
  },
  {
   "cell_type": "code",
   "execution_count": 1,
   "metadata": {},
   "outputs": [],
   "source": [
    "# Pour impression sans le code executer cette commande dans un terminale:\n",
    "#               jupyter nbconvert --no-input --to html Nom_fichier.ipynb    "
   ]
  },
  {
   "cell_type": "code",
   "execution_count": 2,
   "metadata": {},
   "outputs": [
    {
     "ename": "ModuleNotFoundError",
     "evalue": "No module named 'numpy'",
     "output_type": "error",
     "traceback": [
      "\u001b[31m---------------------------------------------------------------------------\u001b[39m",
      "\u001b[31mModuleNotFoundError\u001b[39m                       Traceback (most recent call last)",
      "\u001b[36mCell\u001b[39m\u001b[36m \u001b[39m\u001b[32mIn[2]\u001b[39m\u001b[32m, line 3\u001b[39m\n\u001b[32m      1\u001b[39m \u001b[38;5;28;01mfrom\u001b[39;00m\u001b[38;5;250m \u001b[39m\u001b[34;01mmath\u001b[39;00m\u001b[38;5;250m \u001b[39m\u001b[38;5;28;01mimport\u001b[39;00m *\n\u001b[32m----> \u001b[39m\u001b[32m3\u001b[39m \u001b[38;5;28;01mimport\u001b[39;00m\u001b[38;5;250m \u001b[39m\u001b[34;01mnumpy\u001b[39;00m\u001b[38;5;250m \u001b[39m\u001b[38;5;28;01mas\u001b[39;00m\u001b[38;5;250m \u001b[39m\u001b[34;01mnp\u001b[39;00m\n\u001b[32m      4\u001b[39m \u001b[38;5;28;01mimport\u001b[39;00m\u001b[38;5;250m \u001b[39m\u001b[34;01mpandas\u001b[39;00m\u001b[38;5;250m \u001b[39m\u001b[38;5;28;01mas\u001b[39;00m\u001b[38;5;250m \u001b[39m\u001b[34;01mpd\u001b[39;00m\n\u001b[32m      5\u001b[39m \u001b[38;5;28;01mfrom\u001b[39;00m\u001b[38;5;250m \u001b[39m\u001b[34;01mmatplotlib\u001b[39;00m\u001b[38;5;250m \u001b[39m\u001b[38;5;28;01mimport\u001b[39;00m pyplot \u001b[38;5;28;01mas\u001b[39;00m plt\n",
      "\u001b[31mModuleNotFoundError\u001b[39m: No module named 'numpy'"
     ]
    }
   ],
   "source": [
    "from math import *\n",
    "\n",
    "import numpy as np\n",
    "import pandas as pd\n",
    "from matplotlib import pyplot as plt\n",
    "import handcalcs.render\n",
    "from handcalcs.decorator import handcalc\n",
    "import forallpeople as si\n",
    "\n",
    "from eurocode import EC5_Element_droit as EC5_Ele\n",
    "from eurocode import EC5_Assemblage as EC5_Ass\n",
    "from eurocode import EC3_Assemblage as EC3_Ass"
   ]
  },
  {
   "cell_type": "code",
   "execution_count": 3,
   "metadata": {},
   "outputs": [
    {
     "name": "stdout",
     "output_type": "stream",
     "text": [
      "{'mm': 1.000 mm, 'ft': 1.000 ft, 'inch': 1.000 inch, 'N': 1.000 N, 'kN': 1.000 kN, 'MN': 1.000 MN, 'Pa': 1.000 Pa, 'kPa': 1.000 kPa, 'MPa': 1.000 MPa, 'GPa': 1.000 GPa, 'Nm': 1.000 N·m, 'N_m': 1.000 N/m, 'lbft': 1.000 lb·ft, 'kipft': 1.000 kip·ft, 'psf': 1.000 psf, 'lbin': 1.000 lb·in, 'kipin': 1.000 kip·in, 'ksf': 1.000 ksf, 'lb': 1.000 lb, 'lb_ft': 1.000 lb/ft, 'kip_ft': 1.000 kip/ft, 'kip': 1.000 kip, 'lbm': 1.000 lbm, 'psi': 1.000 psi, 'ksi': 1.000 ksi, 'pcf': 1.000 pcf, 'kcf': 1.000 kcf, 'pci': 1.000 pci, 'kci': 1.000 kcf, 'N_m3': 1.000 N/m³, 'Nm2': 1.000 N·m², 'lbft2': 1.000 lb·ft², 'kft2': 1.000 kip·ft²} \n",
      " {'kg': 1.000 kg, 'm': 1.000 m, 's': 1.000 s, 'A': 1.000 A, 'cd': 1.000 cd, 'K': 1.000 K, 'mol': 1.000 mol}\n"
     ]
    }
   ],
   "source": [
    "si.environment(\"structural\")\n",
    "si.environment()\n"
   ]
  },
  {
   "cell_type": "markdown",
   "metadata": {},
   "source": [
    "### Définition des éléments\n",
    "---"
   ]
  },
  {
   "cell_type": "markdown",
   "metadata": {},
   "source": [
    "#### Générale"
   ]
  },
  {
   "cell_type": "code",
   "execution_count": 4,
   "metadata": {},
   "outputs": [
    {
     "data": {
      "text/latex": [
       "\\[\n",
       "\\begin{aligned}\n",
       "\\mathrm{classe}_{service} &= 2 \\;\n",
       "\\end{aligned}\n",
       "\\]"
      ],
      "text/plain": [
       "<IPython.core.display.Latex object>"
      ]
     },
     "metadata": {},
     "output_type": "display_data"
    }
   ],
   "source": [
    "%%render params 1\n",
    "classe_service = 2"
   ]
  },
  {
   "cell_type": "markdown",
   "metadata": {},
   "source": [
    "#### Bois"
   ]
  },
  {
   "cell_type": "code",
   "execution_count": 5,
   "metadata": {},
   "outputs": [
    {
     "data": {
      "text/latex": [
       "\\[\n",
       "\\begin{aligned}\n",
       "\\mathrm{classe} &= \\mathrm{C24} \\; \n",
       " &\\mathrm{b1} &= 60.0\\ \\mathrm{mm} \\; \n",
       " &\\mathrm{h1} &= 140.0\\ \\mathrm{mm} \\; \n",
       "\\\\[10pt]\n",
       " \\mathrm{Hi} &= 12 \\; \\;\\textrm{(Humidité initiale en pourcent)}\n",
       "\\end{aligned}\n",
       "\\]"
      ],
      "text/plain": [
       "<IPython.core.display.Latex object>"
      ]
     },
     "metadata": {},
     "output_type": "display_data"
    }
   ],
   "source": [
    "%%render params 1\n",
    "\n",
    "classe = \"C24\"\n",
    "b1 = 60*si.mm\n",
    "h1 = 140*si.mm\n",
    "Hi = 12 # Humidité initiale en pourcent"
   ]
  },
  {
   "cell_type": "markdown",
   "metadata": {},
   "source": [
    "- <font color=\"red\">**Caratéristique du bois**</font>"
   ]
  },
  {
   "cell_type": "code",
   "execution_count": 6,
   "metadata": {},
   "outputs": [
    {
     "data": {
      "text/plain": [
       "fm0k          24\n",
       "ft0k        14.5\n",
       "ft90k        0.4\n",
       "fc0k          21\n",
       "fc90k        2.5\n",
       "fvk            4\n",
       "E0mean     11000\n",
       "E005        7400\n",
       "E90mean      370\n",
       "Gmoy         690\n",
       "rhok         350\n",
       "rhomean      420\n",
       "Name: C24, dtype: object"
      ]
     },
     "execution_count": 6,
     "metadata": {},
     "output_type": "execute_result"
    }
   ],
   "source": [
    "Beam = EC5_Ele.Beam(b1, h1, Hi= Hi, classe= classe, cs= classe_service)\n",
    "Beam.caract_meca"
   ]
  },
  {
   "cell_type": "markdown",
   "metadata": {},
   "source": [
    "- <font color=\"red\">**Kmod**</font>"
   ]
  },
  {
   "cell_type": "code",
   "execution_count": 7,
   "metadata": {},
   "outputs": [
    {
     "data": {
      "text/html": [
       "<div>\n",
       "<style scoped>\n",
       "    .dataframe tbody tr th:only-of-type {\n",
       "        vertical-align: middle;\n",
       "    }\n",
       "\n",
       "    .dataframe tbody tr th {\n",
       "        vertical-align: top;\n",
       "    }\n",
       "\n",
       "    .dataframe thead th {\n",
       "        text-align: right;\n",
       "    }\n",
       "</style>\n",
       "<table border=\"1\" class=\"dataframe\">\n",
       "  <thead>\n",
       "    <tr style=\"text-align: right;\">\n",
       "      <th></th>\n",
       "      <th>CS</th>\n",
       "      <th>Permanente</th>\n",
       "      <th>Long terme</th>\n",
       "      <th>Moyen terme</th>\n",
       "      <th>Court terme</th>\n",
       "      <th>Instantanee</th>\n",
       "    </tr>\n",
       "    <tr>\n",
       "      <th>Materiau</th>\n",
       "      <th></th>\n",
       "      <th></th>\n",
       "      <th></th>\n",
       "      <th></th>\n",
       "      <th></th>\n",
       "      <th></th>\n",
       "    </tr>\n",
       "  </thead>\n",
       "  <tbody>\n",
       "    <tr>\n",
       "      <th>Massif</th>\n",
       "      <td>2</td>\n",
       "      <td>0.6</td>\n",
       "      <td>0.7</td>\n",
       "      <td>0.8</td>\n",
       "      <td>0.9</td>\n",
       "      <td>1.1</td>\n",
       "    </tr>\n",
       "  </tbody>\n",
       "</table>\n",
       "</div>"
      ],
      "text/plain": [
       "          CS  Permanente  Long terme  Moyen terme  Court terme  Instantanee\n",
       "Materiau                                                                   \n",
       "Massif     2         0.6         0.7          0.8          0.9          1.1"
      ]
     },
     "execution_count": 7,
     "metadata": {},
     "output_type": "execute_result"
    }
   ],
   "source": [
    "Beam.kmod"
   ]
  },
  {
   "cell_type": "code",
   "execution_count": 8,
   "metadata": {},
   "outputs": [
    {
     "data": {
      "text/latex": [
       "\\[\n",
       "\\begin{aligned}\n",
       "k_{mod} &= 0.800 \\;\n",
       "\\end{aligned}\n",
       "\\]"
      ],
      "text/plain": [
       "<IPython.core.display.Latex object>"
      ]
     },
     "metadata": {},
     "output_type": "display_data"
    }
   ],
   "source": [
    "%%render params\n",
    "\n",
    "k_mod = Beam.kmod[\"Moyen terme\"].iloc[0]"
   ]
  },
  {
   "cell_type": "markdown",
   "metadata": {},
   "source": [
    "- <font color=\"red\">**Gamma M**</font>"
   ]
  },
  {
   "cell_type": "code",
   "execution_count": 9,
   "metadata": {},
   "outputs": [
    {
     "data": {
      "text/latex": [
       "\\[\n",
       "\\begin{aligned}\n",
       "\\gamma_{m_{bois_{fond}}} &= 1.300 \\; \\;\\textrm{(Fondamentales)}\n",
       " &\\gamma_{m_{bois_{acc}}} &= 1.000 \\; \\;\\textrm{(Accidentelles)}\n",
       "\\end{aligned}\n",
       "\\]"
      ],
      "text/plain": [
       "<IPython.core.display.Latex object>"
      ]
     },
     "metadata": {},
     "output_type": "display_data"
    }
   ],
   "source": [
    "%%render params\n",
    "gamma_m_bois_fond = Beam.gamma_M[0] # Fondamentales\n",
    "gamma_m_bois_acc = Beam.gamma_M[1] # Accidentelles"
   ]
  },
  {
   "cell_type": "markdown",
   "metadata": {},
   "source": [
    "#### Plaque acier"
   ]
  },
  {
   "cell_type": "code",
   "execution_count": 10,
   "metadata": {},
   "outputs": [
    {
     "data": {
      "text/latex": [
       "\\[\n",
       "\\begin{aligned}\n",
       "\\mathrm{classe}_{acier} &= \\mathrm{S275} \\; \n",
       " &\\mathrm{ep}_{plaque} &= 6.0\\ \\mathrm{mm} \\;\n",
       "\\end{aligned}\n",
       "\\]"
      ],
      "text/plain": [
       "<IPython.core.display.Latex object>"
      ]
     },
     "metadata": {},
     "output_type": "display_data"
    }
   ],
   "source": [
    "%%render params 1\n",
    "classe_acier = \"S275\"\n",
    "ep_plaque = 6*si.mm"
   ]
  },
  {
   "cell_type": "markdown",
   "metadata": {},
   "source": [
    "#### Boulon"
   ]
  },
  {
   "cell_type": "code",
   "execution_count": 11,
   "metadata": {},
   "outputs": [
    {
     "data": {
      "text/latex": [
       "\\[\n",
       "\\begin{aligned}\n",
       "\\mathrm{qualite}_{acier} &= 8.8 \\; \n",
       " &d &= 12.0\\ \\mathrm{mm} \\; \n",
       " &d_{0} &= 14.0\\ \\mathrm{mm} \\; \n",
       "\\\\[10pt]\n",
       "\\end{aligned}\n",
       "\\]"
      ],
      "text/plain": [
       "<IPython.core.display.Latex object>"
      ]
     },
     "metadata": {},
     "output_type": "display_data"
    }
   ],
   "source": [
    "%%render params 1\n",
    "\n",
    "qualite_acier = 8.8\n",
    "d = 12*si.mm\n",
    "d_0 = 14*si.mm "
   ]
  },
  {
   "cell_type": "code",
   "execution_count": 12,
   "metadata": {},
   "outputs": [],
   "source": [
    "boulon = EC3_Ass.Boulon(int(d), int(d_0), qualite_acier, verif_filetage=False, filetage_EN1090=True, t=int(ep_plaque), classe=classe_acier)"
   ]
  },
  {
   "cell_type": "markdown",
   "metadata": {},
   "source": [
    "- **Caractéristique de la plaque**"
   ]
  },
  {
   "cell_type": "code",
   "execution_count": 13,
   "metadata": {},
   "outputs": [
    {
     "data": {
      "text/latex": [
       "\\[\n",
       "\\begin{aligned}\n",
       "f_{y} &= 275\\ \\mathrm{MPa} \\; \n",
       " &f_{u} &= 430\\ \\mathrm{MPa} \\;\n",
       "\\end{aligned}\n",
       "\\]"
      ],
      "text/plain": [
       "<IPython.core.display.Latex object>"
      ]
     },
     "metadata": {},
     "output_type": "display_data"
    }
   ],
   "source": [
    "%%render params 0\n",
    "f_y = boulon.fy * si.MPa\n",
    "f_u = boulon.fu * si.MPa"
   ]
  },
  {
   "cell_type": "markdown",
   "metadata": {},
   "source": [
    "- **Caractéristique du boulon**"
   ]
  },
  {
   "cell_type": "code",
   "execution_count": 14,
   "metadata": {},
   "outputs": [
    {
     "data": {
      "text/latex": [
       "\\[\n",
       "\\begin{aligned}\n",
       "f_{yb} &= 640\\ \\mathrm{MPa} \\; \n",
       " &f_{ub} &= 800\\ \\mathrm{MPa} \\;\n",
       "\\end{aligned}\n",
       "\\]"
      ],
      "text/plain": [
       "<IPython.core.display.Latex object>"
      ]
     },
     "metadata": {},
     "output_type": "display_data"
    }
   ],
   "source": [
    "%%render params 0\n",
    "f_yb = boulon.fyb * si.MPa\n",
    "f_ub = boulon.fub * si.MPa"
   ]
  },
  {
   "cell_type": "markdown",
   "metadata": {},
   "source": [
    "- **Pince acier selon EN 1993 1-8**"
   ]
  },
  {
   "cell_type": "code",
   "execution_count": 15,
   "metadata": {},
   "outputs": [
    {
     "data": {
      "text/plain": [
       "{'e1': {'e1_min': 16.8, 'e1_max': 125},\n",
       " 'e2': {'e2_min': 16.8, 'e2_max': 125},\n",
       " 'p1': {'p1_min': 30.8, 'p1_max': 84},\n",
       " 'p2': {'p2_min': 33.6, 'p2_max': 84}}"
      ]
     },
     "execution_count": 15,
     "metadata": {},
     "output_type": "execute_result"
    }
   ],
   "source": [
    "boulon.pince_metal_boulon(trous_oblongs=False, corrosion=False, EN_10025_5=True)"
   ]
  },
  {
   "cell_type": "markdown",
   "metadata": {},
   "source": [
    "> Pinces considérées"
   ]
  },
  {
   "cell_type": "code",
   "execution_count": 16,
   "metadata": {},
   "outputs": [
    {
     "data": {
      "text/latex": [
       "\\[\n",
       "\\begin{aligned}\n",
       "e_{1} &= 20\\ \\mathrm{mm} \\; \n",
       " &e_{2} &= 20\\ \\mathrm{mm} \\; \n",
       " &p_{1} &= 60\\ \\mathrm{mm} \\; \n",
       "\\\\[10pt]\n",
       " p_{2} &= 40\\ \\mathrm{mm} \\;\n",
       "\\end{aligned}\n",
       "\\]"
      ],
      "text/plain": [
       "<IPython.core.display.Latex object>"
      ]
     },
     "metadata": {},
     "output_type": "display_data"
    }
   ],
   "source": [
    "%%render params 0\n",
    "\n",
    "e_1 = 20*si.mm\n",
    "e_2 = 20*si.mm\n",
    "p_1 = 60*si.mm\n",
    "p_2 = 40*si.mm"
   ]
  },
  {
   "cell_type": "markdown",
   "metadata": {},
   "source": [
    "### Dimensionnement"
   ]
  },
  {
   "cell_type": "markdown",
   "metadata": {},
   "source": [
    "#### Effort"
   ]
  },
  {
   "cell_type": "code",
   "execution_count": 17,
   "metadata": {},
   "outputs": [
    {
     "data": {
      "text/latex": [
       "\\[\n",
       "\\begin{aligned}\n",
       "N_{Ed} &= 15.0\\ \\mathrm{kN} \\; \n",
       " &V_{Ed} &= 5.0\\ \\mathrm{kN} \\;\n",
       "\\end{aligned}\n",
       "\\]"
      ],
      "text/plain": [
       "<IPython.core.display.Latex object>"
      ]
     },
     "metadata": {},
     "output_type": "display_data"
    }
   ],
   "source": [
    "%%render params 1\n",
    "N_Ed = 15*si.kN\n",
    "V_Ed = 5*si.kN"
   ]
  },
  {
   "cell_type": "markdown",
   "metadata": {},
   "source": [
    "#### Vérification du boulon"
   ]
  },
  {
   "cell_type": "markdown",
   "metadata": {},
   "source": [
    "- **Vérification cisaillement, traction et effort combiné**"
   ]
  },
  {
   "cell_type": "code",
   "execution_count": 18,
   "metadata": {},
   "outputs": [
    {
     "data": {
      "text/latex": [
       "\\[\n",
       "\\begin{aligned}\n",
       "A_{s} &= 84.3\\ \\mathrm{mm}^{2} \\; \n",
       " &A_{n} &= 113.0\\ \\mathrm{mm}^{2} \\; \n",
       " &\\gamma_{M2} &= 1.2 \\; \n",
       "\\\\[10pt]\n",
       "\\end{aligned}\n",
       "\\]"
      ],
      "text/plain": [
       "<IPython.core.display.Latex object>"
      ]
     },
     "metadata": {},
     "output_type": "display_data"
    }
   ],
   "source": [
    "%%render params 1\n",
    "A_s = boulon.As * si.mm**2\n",
    "A_n = boulon.An * si.mm**2\n",
    "gamma_M2 = boulon.GAMMA_M[\"gamma_M2\"]"
   ]
  },
  {
   "cell_type": "code",
   "execution_count": 19,
   "metadata": {},
   "outputs": [
    {
     "data": {
      "text/latex": [
       "\\[\n",
       "\\begin{aligned}\n",
       "F_{tRd_{bl}} &= 0.9 \\cdot f_{ub} \\cdot \\frac{ A_{s} }{ \\gamma_{M2} }  = 0.9 \\cdot 800.0\\ \\mathrm{MPa} \\cdot \\frac{ 84.3\\ \\mathrm{mm}^{2} }{ 1.2 } &= 48.6\\ \\mathrm{kN}  \n",
       "\\\\[10pt]\n",
       "F_{vRd_{bl}} &= 0.6 \\cdot f_{ub} \\cdot \\frac{ A_{n} }{ \\gamma_{M2} }  = 0.6 \\cdot 800.0\\ \\mathrm{MPa} \\cdot \\frac{ 113.0\\ \\mathrm{mm}^{2} }{ 1.2 } &= 43.4\\ \\mathrm{kN}  \n",
       "\\end{aligned}\n",
       "\\]"
      ],
      "text/plain": [
       "<IPython.core.display.Latex object>"
      ]
     },
     "metadata": {},
     "output_type": "display_data"
    }
   ],
   "source": [
    "%%render 1\n",
    "F_tRd_bl = 0.9 * f_ub * A_s / gamma_M2\n",
    "F_vRd_bl = 0.6 * f_ub * A_n / gamma_M2"
   ]
  },
  {
   "cell_type": "markdown",
   "metadata": {},
   "source": [
    "- Taux de tavail\n",
    "---"
   ]
  },
  {
   "cell_type": "code",
   "execution_count": 20,
   "metadata": {},
   "outputs": [],
   "source": [
    "verif = \"Critère non vérifié\""
   ]
  },
  {
   "cell_type": "code",
   "execution_count": 21,
   "metadata": {},
   "outputs": [
    {
     "data": {
      "text/latex": [
       "\\[\n",
       "\\begin{aligned}\n",
       "&\\text{Since, } N_{Ed} \\leq F_{tRd_{bl}} \\rightarrow \\left( 15.000\\ \\mathrm{kN} \\leq 48.557\\ \\mathrm{kN} \\right) :   \\end{aligned}\n",
       "\\]\n",
       "\\[\n",
       "\\begin{aligned}\n",
       "\\\\[10pt]\n",
       "\\mathrm{taux} &= \\frac{ N_{Ed} }{ F_{tRd_{bl}} }  = \\frac{ 15.000\\ \\mathrm{kN} }{ 48.557\\ \\mathrm{kN} } &= 0.336  \n",
       "\\\\[10pt]\n",
       "&\\text{Since, } V_{Ed} \\leq F_{vRd_{bl}} \\rightarrow \\left( 5.000\\ \\mathrm{kN} \\leq 43.392\\ \\mathrm{kN} \\right) :   \\end{aligned}\n",
       "\\]\n",
       "\\[\n",
       "\\begin{aligned}\n",
       "\\\\[10pt]\n",
       "\\mathrm{taux} &= \\frac{ V_{Ed} }{ F_{vRd_{bl}} }  = \\frac{ 5.000\\ \\mathrm{kN} }{ 43.392\\ \\mathrm{kN} } &= 0.336  \n",
       "\\\\[10pt]\n",
       "&\\text{Since, } V_{Ed} \\leq F_{vRd_{bl}} + \\frac{ N_{Ed} }{ 1.4 \\cdot F_{tRd_{bl}} } \\rightarrow \\left( 5.000\\ \\mathrm{kN} \\leq 43.392\\ \\mathrm{kN} + \\frac{ 15.000\\ \\mathrm{kN} }{ 1.4 \\cdot 48.557\\ \\mathrm{kN} } \\right) :   \\end{aligned}\n",
       "\\]\n",
       "\\[\n",
       "\\begin{aligned}\n",
       "\\\\[10pt]\n",
       "\\mathrm{taux} &= \\frac{ V_{Ed} }{ F_{vRd_{bl}} } + \\frac{ N_{Ed} }{ 1.4 \\cdot F_{tRd_{bl}} }  = \\frac{ 5.000\\ \\mathrm{kN} }{ 43.392\\ \\mathrm{kN} } + \\frac{ 15.000\\ \\mathrm{kN} }{ 1.4 \\cdot 48.557\\ \\mathrm{kN} } &= 0.336  \n",
       "\\end{aligned}\n",
       "\\]"
      ],
      "text/plain": [
       "<IPython.core.display.Latex object>"
      ]
     },
     "metadata": {},
     "output_type": "display_data"
    }
   ],
   "source": [
    "%%render\n",
    "\n",
    "if N_Ed <= F_tRd_bl:\n",
    "    taux = N_Ed / F_tRd_bl\n",
    "\n",
    "if V_Ed <= F_vRd_bl:\n",
    "    taux = V_Ed / F_vRd_bl\n",
    "\n",
    "if V_Ed <= F_vRd_bl + N_Ed / (1.4 * F_tRd_bl) :\n",
    "    taux = V_Ed / F_vRd_bl + N_Ed / (1.4 * F_tRd_bl) \n"
   ]
  },
  {
   "cell_type": "markdown",
   "metadata": {},
   "source": [
    "- Vérification de la pression diamétrale"
   ]
  },
  {
   "cell_type": "code",
   "execution_count": 22,
   "metadata": {},
   "outputs": [
    {
     "data": {
      "text/latex": [
       "\\[\n",
       "\\begin{aligned}\n",
       "F_{bRd} &= 27.127\\ \\mathrm{kN} \\;\n",
       "\\end{aligned}\n",
       "\\]"
      ],
      "text/plain": [
       "<IPython.core.display.Latex object>"
      ]
     },
     "metadata": {},
     "output_type": "display_data"
    }
   ],
   "source": [
    "%%render params\n",
    "\n",
    "F_bRd = boulon.FbRd(int(e_1), int(e_2), int(p_1), int(p_2)) * si.N"
   ]
  },
  {
   "cell_type": "code",
   "execution_count": 23,
   "metadata": {},
   "outputs": [
    {
     "data": {
      "text/latex": [
       "\\[\n",
       "\\begin{aligned}\n",
       "&\\text{Since, } V_{Ed} \\leq F_{bRd} \\rightarrow \\left( 5.000\\ \\mathrm{kN} \\leq 27.127\\ \\mathrm{kN} \\right) :   \\end{aligned}\n",
       "\\]\n",
       "\\[\n",
       "\\begin{aligned}\n",
       "\\\\[10pt]\n",
       "\\mathrm{taux} &= \\frac{ V_{Ed} }{ F_{bRd} }  = \\frac{ 5.000\\ \\mathrm{kN} }{ 27.127\\ \\mathrm{kN} } &= 0.184  \n",
       "\\end{aligned}\n",
       "\\]"
      ],
      "text/plain": [
       "<IPython.core.display.Latex object>"
      ]
     },
     "metadata": {},
     "output_type": "display_data"
    }
   ],
   "source": [
    "%%render\n",
    "\n",
    "if V_Ed <= F_bRd:\n",
    "    taux = V_Ed / F_bRd"
   ]
  }
 ],
 "metadata": {
  "kernelspec": {
   "display_name": "Python 3",
   "language": "python",
   "name": "python3"
  },
  "language_info": {
   "codemirror_mode": {
    "name": "ipython",
    "version": 3
   },
   "file_extension": ".py",
   "mimetype": "text/x-python",
   "name": "python",
   "nbconvert_exporter": "python",
   "pygments_lexer": "ipython3",
   "version": "3.12.9"
  },
  "orig_nbformat": 4
 },
 "nbformat": 4,
 "nbformat_minor": 2
}
