{
 "cells": [
  {
   "cell_type": "code",
   "execution_count": 1,
   "metadata": {},
   "outputs": [],
   "source": [
    "import sys\n",
    "import os\n",
    "\n",
    "from math import *\n",
    "import inspect\n",
    "import numpy as np\n",
    "import pandas as pd\n",
    "from copy import deepcopy\n",
    "from matplotlib import pyplot as plt\n",
    "import handcalcs.render\n",
    "from handcalcs.decorator import handcalc\n",
    "import forallpeople as si\n",
    "from IPython.display import display, Latex\n",
    "from PySide6.QtCore import Qt \n",
    "from PySide6.QtWidgets import QApplication, QInputDialog\n",
    "\n",
    "\n",
    "sys.path.append(os.path.join(os.getcwd(), \"catalog\", \"eurocode\"))\n",
    "import A0_Projet as A0\n",
    "import A1_MEF as A1\n",
    "import EC0_Combinaison as EC0\n",
    "import EC5_Assemblage as EC5_Ass\n",
    "import EC5_Element_droit as EC5_Ele"
   ]
  },
  {
   "cell_type": "markdown",
   "metadata": {},
   "source": [
    "# N° projet - Projet - Note de calcul\n",
    "---\n",
    "## Élément :\n",
    "- Annexe : ANxx\n",
    "- Date : 03/10/2022\n",
    "- Ingénieur : Anthony PARISOT\n",
    "---"
   ]
  },
  {
   "cell_type": "markdown",
   "metadata": {},
   "source": [
    "## 1. Paramètres\n",
    "----"
   ]
  },
  {
   "cell_type": "markdown",
   "metadata": {},
   "source": [
    "- <font color=\"blue\" size =\"5\">**Chargement**</font>"
   ]
  },
  {
   "cell_type": "code",
   "execution_count": 2,
   "metadata": {},
   "outputs": [],
   "source": [
    "Charge1 = [1, '', 'Permanente G', 'Linéique', -10, '0/4000', 'Z']\n",
    "Charge2 = [0, 'Poids propre', 'Permanente G', 'Linéique', -36, '0/4000', 'Z']\n",
    "Charge3 = [2, '', 'Neige normale Sn', 'Linéique', -200, '0/4000', 'Z']\n",
    "Charge4 = [3, '', 'Exploitation Q', 'Linéique', -150, '0/4000', 'Z']"
   ]
  },
  {
   "cell_type": "code",
   "execution_count": 3,
   "metadata": {},
   "outputs": [
    {
     "data": {
      "text/html": [
       "<div>\n",
       "<style scoped>\n",
       "    .dataframe tbody tr th:only-of-type {\n",
       "        vertical-align: middle;\n",
       "    }\n",
       "\n",
       "    .dataframe tbody tr th {\n",
       "        vertical-align: top;\n",
       "    }\n",
       "\n",
       "    .dataframe thead th {\n",
       "        text-align: right;\n",
       "    }\n",
       "</style>\n",
       "<table border=\"1\" class=\"dataframe\">\n",
       "  <thead>\n",
       "    <tr style=\"text-align: right;\">\n",
       "      <th></th>\n",
       "      <th>Index</th>\n",
       "      <th>Nom</th>\n",
       "      <th>Action</th>\n",
       "      <th>Type</th>\n",
       "      <th>Charge (daN ou daN/m)</th>\n",
       "      <th>Position (mm)</th>\n",
       "      <th>Axe</th>\n",
       "    </tr>\n",
       "  </thead>\n",
       "  <tbody>\n",
       "    <tr>\n",
       "      <th>0</th>\n",
       "      <td>1</td>\n",
       "      <td></td>\n",
       "      <td>Permanente G</td>\n",
       "      <td>Linéique</td>\n",
       "      <td>-10</td>\n",
       "      <td>0/4000</td>\n",
       "      <td>Z</td>\n",
       "    </tr>\n",
       "    <tr>\n",
       "      <th>1</th>\n",
       "      <td>0</td>\n",
       "      <td>Poids propre</td>\n",
       "      <td>Permanente G</td>\n",
       "      <td>Linéique</td>\n",
       "      <td>-36</td>\n",
       "      <td>0/4000</td>\n",
       "      <td>Z</td>\n",
       "    </tr>\n",
       "    <tr>\n",
       "      <th>2</th>\n",
       "      <td>2</td>\n",
       "      <td></td>\n",
       "      <td>Neige normale Sn</td>\n",
       "      <td>Linéique</td>\n",
       "      <td>-200</td>\n",
       "      <td>0/4000</td>\n",
       "      <td>Z</td>\n",
       "    </tr>\n",
       "    <tr>\n",
       "      <th>3</th>\n",
       "      <td>3</td>\n",
       "      <td></td>\n",
       "      <td>Exploitation Q</td>\n",
       "      <td>Linéique</td>\n",
       "      <td>-150</td>\n",
       "      <td>0/4000</td>\n",
       "      <td>Z</td>\n",
       "    </tr>\n",
       "  </tbody>\n",
       "</table>\n",
       "</div>"
      ],
      "text/plain": [
       "   Index           Nom            Action      Type  Charge (daN ou daN/m)  \\\n",
       "0      1                    Permanente G  Linéique                    -10   \n",
       "1      0  Poids propre      Permanente G  Linéique                    -36   \n",
       "2      2                Neige normale Sn  Linéique                   -200   \n",
       "3      3                  Exploitation Q  Linéique                   -150   \n",
       "\n",
       "  Position (mm) Axe  \n",
       "0        0/4000   Z  \n",
       "1        0/4000   Z  \n",
       "2        0/4000   Z  \n",
       "3        0/4000   Z  "
      ]
     },
     "execution_count": 3,
     "metadata": {},
     "output_type": "execute_result"
    }
   ],
   "source": [
    "_list_loads = [Charge1,Charge2, Charge3, Charge4]\n",
    "pd.DataFrame(_list_loads, columns=[\"Index\", \"Nom\",\"Action\",\"Type\",\"Charge (daN ou daN/m)\",\"Position (mm)\",\"Axe\"])"
   ]
  },
  {
   "cell_type": "markdown",
   "metadata": {},
   "source": [
    "- <font color=\"blue\" size =\"5\">**Appuis**</font>"
   ]
  },
  {
   "cell_type": "code",
   "execution_count": 4,
   "metadata": {},
   "outputs": [
    {
     "data": {
      "text/html": [
       "<div>\n",
       "<style scoped>\n",
       "    .dataframe tbody tr th:only-of-type {\n",
       "        vertical-align: middle;\n",
       "    }\n",
       "\n",
       "    .dataframe tbody tr th {\n",
       "        vertical-align: top;\n",
       "    }\n",
       "\n",
       "    .dataframe thead th {\n",
       "        text-align: right;\n",
       "    }\n",
       "</style>\n",
       "<table border=\"1\" class=\"dataframe\">\n",
       "  <thead>\n",
       "    <tr style=\"text-align: right;\">\n",
       "      <th></th>\n",
       "      <th>Index</th>\n",
       "      <th>Type d'appuis</th>\n",
       "      <th>Position (mm)</th>\n",
       "      <th>Largeur d'appuis (mm)</th>\n",
       "    </tr>\n",
       "  </thead>\n",
       "  <tbody>\n",
       "    <tr>\n",
       "      <th>0</th>\n",
       "      <td>1</td>\n",
       "      <td>Rotule</td>\n",
       "      <td>0</td>\n",
       "      <td>40</td>\n",
       "    </tr>\n",
       "    <tr>\n",
       "      <th>1</th>\n",
       "      <td>2</td>\n",
       "      <td>Rotule</td>\n",
       "      <td>4000</td>\n",
       "      <td>40</td>\n",
       "    </tr>\n",
       "  </tbody>\n",
       "</table>\n",
       "</div>"
      ],
      "text/plain": [
       "   Index Type d'appuis  Position (mm)  Largeur d'appuis (mm)\n",
       "0      1        Rotule              0                     40\n",
       "1      2        Rotule           4000                     40"
      ]
     },
     "execution_count": 4,
     "metadata": {},
     "output_type": "execute_result"
    }
   ],
   "source": [
    "listdeplacement = [[1, \"Rotule\", 0, 40], [2, \"Rotule\", 4000, 40]]\n",
    "pd.DataFrame(listdeplacement, columns=[\"Index\",\"Type d'appuis\",\"Position (mm)\",\"Largeur d'appuis (mm)\"])"
   ]
  },
  {
   "cell_type": "markdown",
   "metadata": {},
   "source": [
    "- <font color=\"blue\" size =\"5\">**Dalle**</font>"
   ]
  },
  {
   "cell_type": "code",
   "execution_count": 5,
   "metadata": {},
   "outputs": [],
   "source": [
    "app = QApplication()\n",
    "disposition, ok = QInputDialog.getItem(\n",
    "    None, \"Position des planches\", \"Position des planches :\", [\"Latérale\", \"Dessus / Dessous\"], 0, False, flags=Qt.FramelessWindowHint)\n",
    "\n",
    "# longueur, ok = QInputDialog.getInt(\n",
    "#         None, \"Longueur dalle\", \"Longueur dalle :\", 0, minValue= 0, step=100, flags=Qt.FramelessWindowHint)\n",
    "\n",
    "verif_barre, ok = QInputDialog.getItem(\n",
    "    None, \"Barre à vérifier\", \"Barre à vérifier :\", [\"Planche_intermédiaire\", \"Planche_basse\"], 0, False, flags=Qt.FramelessWindowHint)"
   ]
  },
  {
   "cell_type": "code",
   "execution_count": 6,
   "metadata": {},
   "outputs": [],
   "source": [
    "#recouvrement (int):Cela correspond à la distance entre le centre géométrique de la pièce 2 et celui de la pièce i. ATTENTION z local est vers le bas quand vous donnez le recouvrement."
   ]
  },
  {
   "cell_type": "code",
   "execution_count": 7,
   "metadata": {},
   "outputs": [
    {
     "data": {
      "text/latex": [
       "\\[\n",
       "\\begin{aligned}\n",
       "\\mathrm{longueur} &= 4.00\\ \\mathrm{m} \\; \n",
       " &\\mathrm{disposition} &= \\mathrm{Latérale} \\; \n",
       " &\\mathrm{classe}_{service} &= 1 \\; \n",
       "\\\\[10pt]\n",
       " \\mathrm{humidite}_{initiale} &= 12 \\; \\;\\textrm{(pourcent)}\n",
       " &\\mathrm{humidite}_{finale} &= 12 \\; \\;\\textrm{(pourcent)}\n",
       " &\\mathrm{recouvrement} &= -40 \\; \\;\\textrm{(mm)}\n",
       "\\\\[10pt]\n",
       " \\mathrm{entraxe}_{connecteurs} &= 200 \\; \\;\\textrm{(mm)}\n",
       " &\\mathrm{verif}_{barre} &= \\mathrm{Planche}_{intermédiaire} \\;\n",
       "\\end{aligned}\n",
       "\\]"
      ],
      "text/plain": [
       "<IPython.core.display.Latex object>"
      ]
     },
     "metadata": {},
     "output_type": "display_data"
    }
   ],
   "source": [
    "%%render params 2\n",
    "longueur = 4000 * si.mm\n",
    "disposition\n",
    "classe_service = 1\n",
    "humidite_initiale = 12 #pourcent\n",
    "humidite_finale = 12 #pourcent\n",
    "recouvrement = -40 #mm\n",
    "entraxe_connecteurs = 200 #mm\n",
    "verif_barre = verif_barre"
   ]
  },
  {
   "cell_type": "code",
   "execution_count": 8,
   "metadata": {},
   "outputs": [],
   "source": [
    "def calcs_number_node(long):\n",
    "        \"\"\"Retourne le nombre de d'élément pour le maillage MEF\n",
    "\n",
    "        Returns:\n",
    "            int: nombre d'élément MEF\n",
    "        \"\"\"\n",
    "        round_long = ceil(long/10)*10\n",
    "        \n",
    "        if round_long <= 1000:\n",
    "            ele = int(round_long/10)\n",
    "        elif round_long <= 10000:\n",
    "            ele = int(round_long/100)\n",
    "        else:\n",
    "            ele = int(round_long/200)\n",
    "        return ele\n",
    "    \n",
    "node = calcs_number_node(longueur.value*10**3)"
   ]
  },
  {
   "cell_type": "markdown",
   "metadata": {},
   "source": [
    "- <font color=\"blue\" size =\"5\">**Planche basse**</font>"
   ]
  },
  {
   "cell_type": "code",
   "execution_count": 9,
   "metadata": {},
   "outputs": [
    {
     "data": {
      "text/latex": [
       "\\[\n",
       "\\begin{aligned}\n",
       "b_{planche_{basse}} &= 77.00\\ \\mathrm{mm} \\; \n",
       " &h_{planche_{basse}} &= 360.00\\ \\mathrm{mm} \\; \n",
       " &\\mathrm{classe}_{bois_{planche_{basse}}} &= \\mathrm{C24} \\; \n",
       "\\\\[10pt]\n",
       "\\end{aligned}\n",
       "\\]"
      ],
      "text/plain": [
       "<IPython.core.display.Latex object>"
      ]
     },
     "metadata": {},
     "output_type": "display_data"
    }
   ],
   "source": [
    "%%render params 2\n",
    "b_planche_basse = 77 * si.mm\n",
    "h_planche_basse = 360 * si.mm\n",
    "classe_bois_planche_basse = \"C24\"\n"
   ]
  },
  {
   "cell_type": "code",
   "execution_count": 10,
   "metadata": {},
   "outputs": [
    {
     "data": {
      "text/html": [
       "<div>\n",
       "<style scoped>\n",
       "    .dataframe tbody tr th:only-of-type {\n",
       "        vertical-align: middle;\n",
       "    }\n",
       "\n",
       "    .dataframe tbody tr th {\n",
       "        vertical-align: top;\n",
       "    }\n",
       "\n",
       "    .dataframe thead th {\n",
       "        text-align: right;\n",
       "    }\n",
       "</style>\n",
       "<table border=\"1\" class=\"dataframe\">\n",
       "  <thead>\n",
       "    <tr style=\"text-align: right;\">\n",
       "      <th></th>\n",
       "      <th>fm0k</th>\n",
       "      <th>ft0k</th>\n",
       "      <th>ft90k</th>\n",
       "      <th>fc0k</th>\n",
       "      <th>fc90k</th>\n",
       "      <th>fvk</th>\n",
       "      <th>E0mean</th>\n",
       "      <th>E005</th>\n",
       "      <th>E90mean</th>\n",
       "      <th>Gmoy</th>\n",
       "      <th>rhok</th>\n",
       "      <th>rhomean</th>\n",
       "    </tr>\n",
       "  </thead>\n",
       "  <tbody>\n",
       "    <tr>\n",
       "      <th>C24</th>\n",
       "      <td>24</td>\n",
       "      <td>14.5</td>\n",
       "      <td>0.4</td>\n",
       "      <td>21</td>\n",
       "      <td>2.5</td>\n",
       "      <td>4</td>\n",
       "      <td>11000</td>\n",
       "      <td>7400</td>\n",
       "      <td>370</td>\n",
       "      <td>690</td>\n",
       "      <td>350</td>\n",
       "      <td>420</td>\n",
       "    </tr>\n",
       "  </tbody>\n",
       "</table>\n",
       "</div>"
      ],
      "text/plain": [
       "    fm0k  ft0k ft90k fc0k fc90k fvk E0mean  E005 E90mean Gmoy rhok rhomean\n",
       "C24   24  14.5   0.4   21   2.5   4  11000  7400     370  690  350     420"
      ]
     },
     "execution_count": 10,
     "metadata": {},
     "output_type": "execute_result"
    }
   ],
   "source": [
    "projet = A0.Projet(code_INSEE=73215, alt= 1200)\n",
    "barre2 = EC5_Ass.Barre._from_parent_class(projet, b=b_planche_basse.value*10**3, h=h_planche_basse.value*10**3, section=\"Rectangulaire\", Hi=humidite_initiale, Hf=humidite_finale, classe=classe_bois_planche_basse, cs=classe_service, effet_systeme=\"False\")\n",
    "pd.DataFrame(barre2.caract_meca).T"
   ]
  },
  {
   "cell_type": "markdown",
   "metadata": {},
   "source": [
    "- <font color=\"blue\" size =\"5\">**Planche haute**</font>"
   ]
  },
  {
   "cell_type": "code",
   "execution_count": 11,
   "metadata": {},
   "outputs": [
    {
     "data": {
      "text/latex": [
       "\\[\n",
       "\\begin{aligned}\n",
       "b_{planche_{intermediaire}} &= 83.00\\ \\mathrm{mm} \\; \n",
       " &h_{planche_{intermediaire}} &= 120.00\\ \\mathrm{mm} \\; \n",
       " &\\mathrm{classe}_{bois_{planche_{intermediaire}}} &= \\mathrm{C24} \\; \n",
       "\\\\[10pt]\n",
       "\\end{aligned}\n",
       "\\]"
      ],
      "text/plain": [
       "<IPython.core.display.Latex object>"
      ]
     },
     "metadata": {},
     "output_type": "display_data"
    }
   ],
   "source": [
    "%%render params 2\n",
    "b_planche_intermediaire = 83 * si.mm\n",
    "h_planche_intermediaire = 120 * si.mm\n",
    "classe_bois_planche_intermediaire = \"C24\""
   ]
  },
  {
   "cell_type": "code",
   "execution_count": 12,
   "metadata": {},
   "outputs": [
    {
     "data": {
      "text/html": [
       "<div>\n",
       "<style scoped>\n",
       "    .dataframe tbody tr th:only-of-type {\n",
       "        vertical-align: middle;\n",
       "    }\n",
       "\n",
       "    .dataframe tbody tr th {\n",
       "        vertical-align: top;\n",
       "    }\n",
       "\n",
       "    .dataframe thead th {\n",
       "        text-align: right;\n",
       "    }\n",
       "</style>\n",
       "<table border=\"1\" class=\"dataframe\">\n",
       "  <thead>\n",
       "    <tr style=\"text-align: right;\">\n",
       "      <th></th>\n",
       "      <th>fm0k</th>\n",
       "      <th>ft0k</th>\n",
       "      <th>ft90k</th>\n",
       "      <th>fc0k</th>\n",
       "      <th>fc90k</th>\n",
       "      <th>fvk</th>\n",
       "      <th>E0mean</th>\n",
       "      <th>E005</th>\n",
       "      <th>E90mean</th>\n",
       "      <th>Gmoy</th>\n",
       "      <th>rhok</th>\n",
       "      <th>rhomean</th>\n",
       "    </tr>\n",
       "  </thead>\n",
       "  <tbody>\n",
       "    <tr>\n",
       "      <th>C24</th>\n",
       "      <td>24</td>\n",
       "      <td>14.5</td>\n",
       "      <td>0.4</td>\n",
       "      <td>21</td>\n",
       "      <td>2.5</td>\n",
       "      <td>4</td>\n",
       "      <td>11000</td>\n",
       "      <td>7400</td>\n",
       "      <td>370</td>\n",
       "      <td>690</td>\n",
       "      <td>350</td>\n",
       "      <td>420</td>\n",
       "    </tr>\n",
       "  </tbody>\n",
       "</table>\n",
       "</div>"
      ],
      "text/plain": [
       "    fm0k  ft0k ft90k fc0k fc90k fvk E0mean  E005 E90mean Gmoy rhok rhomean\n",
       "C24   24  14.5   0.4   21   2.5   4  11000  7400     370  690  350     420"
      ]
     },
     "execution_count": 12,
     "metadata": {},
     "output_type": "execute_result"
    }
   ],
   "source": [
    "barre3 = EC5_Ass.Barre._from_parent_class(projet, b=b_planche_intermediaire.value*10**3, h=h_planche_intermediaire.value*10**3, section=\"Rectangulaire\", Hi=humidite_initiale, Hf=humidite_finale, classe=classe_bois_planche_intermediaire, cs=classe_service, effet_systeme=\"False\")\n",
    "pd.DataFrame(barre3.caract_meca).T"
   ]
  },
  {
   "cell_type": "markdown",
   "metadata": {},
   "source": [
    "- <font color=\"blue\" size =\"5\">**Connecteurs**</font>"
   ]
  },
  {
   "cell_type": "code",
   "execution_count": 13,
   "metadata": {},
   "outputs": [
    {
     "data": {
      "text/latex": [
       "\\[\n",
       "\\begin{aligned}\n",
       "d &= 6.00\\ \\mathrm{mm} \\; \n",
       " &\\mathrm{d1} &= 3.90\\ \\mathrm{mm} \\; \n",
       " &\\mathrm{ds} &= 4.30\\ \\mathrm{mm} \\; \n",
       "\\\\[10pt]\n",
       " \\mathrm{dh} &= 12.00\\ \\mathrm{mm} \\; \n",
       " &l &= 200.00\\ \\mathrm{mm} \\; \n",
       " &\\rho_{a} &= 350.00\\ \\mathrm{kg} \\cdot \\mathrm{m}^{-3} \\; \n",
       "\\\\[10pt]\n",
       " \\mathrm{fhead} &= 10.50\\ \\mathrm{MPa} \\; \n",
       " &\\mathrm{ftensk} &= 11.30\\ \\mathrm{kN} \\; \n",
       " &f_{ax_{k}} &= 11.70\\ \\mathrm{MPa} \\; \n",
       "\\\\[10pt]\n",
       " \\mathrm{MyRk} &= 9.49\\ \\mathrm{N} \\cdot \\mathrm{m} \\; \n",
       " &\\mathrm{alpha1} &= 90 \\; \\;\\textrm{(°)}\n",
       " &\\mathrm{alpha2} &= 90 \\; \\;\\textrm{(°)}\n",
       "\\\\[10pt]\n",
       "\\end{aligned}\n",
       "\\]"
      ],
      "text/plain": [
       "<IPython.core.display.Latex object>"
      ]
     },
     "metadata": {},
     "output_type": "display_data"
    }
   ],
   "source": [
    "%%render params 2\n",
    "d = 6 * si.mm\n",
    "d1 = 3.9 * si.mm\n",
    "ds = 4.3 * si.mm\n",
    "dh = 12 * si.mm\n",
    "l = 200 * si.mm\n",
    "rho_a = 350 * si.kg / si.m**3\n",
    "fhead = 10.5 * si.MPa\n",
    "ftensk = 11300 * si.N\n",
    "f_ax_k = 11.7 *si.MPa\n",
    "MyRk = 9494 * si.N*si.mm\n",
    "alpha1 = 90 #°\n",
    "alpha2 = 90 #°"
   ]
  },
  {
   "cell_type": "code",
   "execution_count": 14,
   "metadata": {},
   "outputs": [
    {
     "data": {
      "text/plain": [
       "[[2, '', 'Neige normale Sn', 'Linéique', -300.0, '0/4000', 'Z'],\n",
       " [3, '', 'Exploitation Q', 'Linéique', -157.49999999999997, '0/4000', 'Z'],\n",
       " [0, 'Poids propre', 'Permanente G', 'Linéique', -48.6, '0/4000', 'Z'],\n",
       " [1, '', 'Permanente G', 'Linéique', -13.5, '0/4000', 'Z']]"
      ]
     },
     "execution_count": 14,
     "metadata": {},
     "output_type": "execute_result"
    }
   ],
   "source": [
    "chargement = EC0.Chargement._from_parent_class(projet)\n",
    "chargement.create_load_by_list(_list_loads)\n",
    "c1 = A1.Combinaison._from_parent_class(chargement, cat=\"Cat A : habitation\")\n",
    "rcombi = \"ELU_STR 1.35G + 1.5Sn + 1.05Q\"\n",
    "c1.get_combi_list_load(rcombi)"
   ]
  },
  {
   "cell_type": "code",
   "execution_count": 15,
   "metadata": {},
   "outputs": [],
   "source": [
    "action = c1.min_type_load(rcombi)\n",
    "barre2.K_mod = barre2.K_mod_table[action].iloc[0]\n",
    "barre3.K_mod = barre3.K_mod_table[action].iloc[0]\n",
    "assemblage = EC5_Ass.Assemblage._from_parent_class(projet, beam_1=barre3, beam_2=barre2, nfile=1, nCis=2)"
   ]
  },
  {
   "cell_type": "code",
   "execution_count": 16,
   "metadata": {},
   "outputs": [],
   "source": [
    "if d1.value*10**3*1.1 > 6:\n",
    "    connecteur = EC5_Ass.Tirefond_sup_6._from_parent_class(assemblage, d=d.value*10**3, d1=d1.value*10**3, ds=ds.value*10**3, dh=dh.value*10**3, l=l.value*10**3, n=1, rho_a=rho_a.value, fhead=fhead.value*10**-6, ftensk=ftensk.value, MyRk=MyRk.value*10**3, alpha1=alpha1, alpha2=alpha2)\n",
    "else:\n",
    "    connecteur = EC5_Ass.Tirefond_inf_7._from_parent_class(assemblage, d=d.value*10**3, d1=d1.value*10**3, ds=ds.value*10**3, dh=dh.value*10**3, l=l.value*10**3, n=1, rho_a=rho_a.value, fhead=fhead.value*10**-6, ftensk=ftensk.value, MyRk=MyRk.value*10**3, alpha1=alpha1, alpha2=alpha2, percage = True)"
   ]
  },
  {
   "cell_type": "code",
   "execution_count": 17,
   "metadata": {},
   "outputs": [],
   "source": [
    "match verif_barre:\n",
    "    case \"Planche_basse\":\n",
    "        index_barre=2\n",
    "        barre = deepcopy(barre2)\n",
    "    case \"Planche_intermédiaire\":\n",
    "        index_barre=3\n",
    "        barre = deepcopy(barre3)"
   ]
  },
  {
   "cell_type": "markdown",
   "metadata": {},
   "source": [
    "## 3. Combinaisons d'action\n",
    "---"
   ]
  },
  {
   "cell_type": "code",
   "execution_count": 18,
   "metadata": {},
   "outputs": [],
   "source": [
    "kmod = barre.K_mod_table[action].iloc[0]\n",
    "gamma_M = barre.gamma_M_table.iloc[0]"
   ]
  },
  {
   "cell_type": "code",
   "execution_count": 19,
   "metadata": {},
   "outputs": [
    {
     "data": {
      "text/html": [
       "<div>\n",
       "<style scoped>\n",
       "    .dataframe tbody tr th:only-of-type {\n",
       "        vertical-align: middle;\n",
       "    }\n",
       "\n",
       "    .dataframe tbody tr th {\n",
       "        vertical-align: top;\n",
       "    }\n",
       "\n",
       "    .dataframe thead th {\n",
       "        text-align: right;\n",
       "    }\n",
       "</style>\n",
       "<table border=\"1\" class=\"dataframe\">\n",
       "  <thead>\n",
       "    <tr style=\"text-align: right;\">\n",
       "      <th></th>\n",
       "      <th>Combinaison</th>\n",
       "    </tr>\n",
       "  </thead>\n",
       "  <tbody>\n",
       "    <tr>\n",
       "      <th>0</th>\n",
       "      <td>ELS_C G</td>\n",
       "    </tr>\n",
       "    <tr>\n",
       "      <th>1</th>\n",
       "      <td>ELS_C G + Q</td>\n",
       "    </tr>\n",
       "    <tr>\n",
       "      <th>2</th>\n",
       "      <td>ELS_C G + Q + 0.7Sn</td>\n",
       "    </tr>\n",
       "    <tr>\n",
       "      <th>3</th>\n",
       "      <td>ELS_C G + Sn</td>\n",
       "    </tr>\n",
       "    <tr>\n",
       "      <th>4</th>\n",
       "      <td>ELS_C G + Sn + 0.7Q</td>\n",
       "    </tr>\n",
       "    <tr>\n",
       "      <th>5</th>\n",
       "      <td>ELS_QP G</td>\n",
       "    </tr>\n",
       "    <tr>\n",
       "      <th>6</th>\n",
       "      <td>ELS_QP G + 0.2Sn</td>\n",
       "    </tr>\n",
       "    <tr>\n",
       "      <th>7</th>\n",
       "      <td>ELS_QP G + 0.3Q</td>\n",
       "    </tr>\n",
       "    <tr>\n",
       "      <th>8</th>\n",
       "      <td>ELS_QP G + 0.3Q + 0.2Sn</td>\n",
       "    </tr>\n",
       "    <tr>\n",
       "      <th>9</th>\n",
       "      <td>ELU_STR 1.35G</td>\n",
       "    </tr>\n",
       "    <tr>\n",
       "      <th>10</th>\n",
       "      <td>ELU_STR 1.35G + 1.5Q</td>\n",
       "    </tr>\n",
       "    <tr>\n",
       "      <th>11</th>\n",
       "      <td>ELU_STR 1.35G + 1.5Q + 1.05Sn</td>\n",
       "    </tr>\n",
       "    <tr>\n",
       "      <th>12</th>\n",
       "      <td>ELU_STR 1.35G + 1.5Sn</td>\n",
       "    </tr>\n",
       "    <tr>\n",
       "      <th>13</th>\n",
       "      <td>ELU_STR 1.35G + 1.5Sn + 1.05Q</td>\n",
       "    </tr>\n",
       "    <tr>\n",
       "      <th>14</th>\n",
       "      <td>ELU_STR G</td>\n",
       "    </tr>\n",
       "    <tr>\n",
       "      <th>15</th>\n",
       "      <td>ELU_STR Q</td>\n",
       "    </tr>\n",
       "    <tr>\n",
       "      <th>16</th>\n",
       "      <td>ELU_STR Sn</td>\n",
       "    </tr>\n",
       "  </tbody>\n",
       "</table>\n",
       "</div>"
      ],
      "text/plain": [
       "                      Combinaison\n",
       "0                         ELS_C G\n",
       "1                     ELS_C G + Q\n",
       "2             ELS_C G + Q + 0.7Sn\n",
       "3                    ELS_C G + Sn\n",
       "4             ELS_C G + Sn + 0.7Q\n",
       "5                        ELS_QP G\n",
       "6                ELS_QP G + 0.2Sn\n",
       "7                 ELS_QP G + 0.3Q\n",
       "8         ELS_QP G + 0.3Q + 0.2Sn\n",
       "9                   ELU_STR 1.35G\n",
       "10           ELU_STR 1.35G + 1.5Q\n",
       "11  ELU_STR 1.35G + 1.5Q + 1.05Sn\n",
       "12          ELU_STR 1.35G + 1.5Sn\n",
       "13  ELU_STR 1.35G + 1.5Sn + 1.05Q\n",
       "14                      ELU_STR G\n",
       "15                      ELU_STR Q\n",
       "16                     ELU_STR Sn"
      ]
     },
     "execution_count": 19,
     "metadata": {},
     "output_type": "execute_result"
    }
   ],
   "source": [
    "pd.DataFrame(c1.list_combination)"
   ]
  },
  {
   "cell_type": "markdown",
   "metadata": {},
   "source": [
    "## 4. Assemblage\n",
    "----"
   ]
  },
  {
   "cell_type": "markdown",
   "metadata": {},
   "source": [
    "- <font color=\"blue\" size =\"5\">**Kser par vis et par plan de cisaillement**</font>"
   ]
  },
  {
   "cell_type": "code",
   "execution_count": 20,
   "metadata": {},
   "outputs": [
    {
     "data": {
      "text/latex": [
       "\\[\n",
       "\\begin{aligned}\n",
       "K_{ser} &= \\left( \\rho_{mean} \\right) ^{ 1.5 } \\cdot \\frac{ d }{ 23 }  = \\left( 420.00 \\right) ^{ 1.5 } \\cdot \\frac{ 4.29 }{ 23 } &= 1605.47  \n",
       "\\end{aligned}\n",
       "\\]"
      ],
      "text/plain": [
       "<IPython.core.display.Latex object>"
      ]
     },
     "metadata": {},
     "output_type": "display_data"
    }
   ],
   "source": [
    "Kser = connecteur.Kser\n",
    "display(Latex(Kser[0]))"
   ]
  },
  {
   "cell_type": "markdown",
   "metadata": {},
   "source": [
    "- <font color=\"blue\" size =\"5\">**Kser assemblage**</font>"
   ]
  },
  {
   "cell_type": "code",
   "execution_count": 21,
   "metadata": {},
   "outputs": [
    {
     "data": {
      "text/latex": [
       "\\[\n",
       "\\begin{aligned}\n",
       "\\mathrm{kser}_{ass} &= K_{ser} \\cdot n_{file} \\cdot n \\cdot n_{Cis} \\cdot k_{type}  = 1605.47 \\cdot 1 \\cdot 1 \\cdot 2 \\cdot 1 &= 3210.95  \n",
       "\\end{aligned}\n",
       "\\]"
      ],
      "text/plain": [
       "<IPython.core.display.Latex object>"
      ]
     },
     "metadata": {},
     "output_type": "display_data"
    }
   ],
   "source": [
    "Kser_ass = connecteur.Kser_ass\n",
    "display(Latex(Kser_ass[0]))"
   ]
  },
  {
   "cell_type": "code",
   "execution_count": 22,
   "metadata": {},
   "outputs": [],
   "source": [
    "dalle = EC5_Ele.Poutre_assemblee_meca(beam_2=barre2, l=longueur.value*10**3, disposition=disposition, recouvrement=[0,recouvrement], Kser=[None,None,Kser_ass[1]], entraxe=[None,None,entraxe_connecteurs], psy_2=0, beam_3=barre3)\n"
   ]
  },
  {
   "cell_type": "markdown",
   "metadata": {},
   "source": [
    "- <font color=\"blue\" size =\"5\">**Kser final tenant compte du fluage**</font>"
   ]
  },
  {
   "cell_type": "code",
   "execution_count": 23,
   "metadata": {},
   "outputs": [
    {
     "data": {
      "text/latex": [
       "\\[\n",
       "\\begin{aligned}\n",
       "\\end{aligned}\n",
       "\\]"
      ],
      "text/plain": [
       "<IPython.core.display.Latex object>"
      ]
     },
     "metadata": {},
     "output_type": "display_data"
    }
   ],
   "source": [
    "Kser_fin = dalle.Kser_fin\n",
    "display(Latex(Kser_fin[\"Kser fin 2-3\"][0]))"
   ]
  },
  {
   "cell_type": "code",
   "execution_count": 24,
   "metadata": {},
   "outputs": [
    {
     "data": {
      "text/latex": [
       "\\[\n",
       "\\begin{aligned}\n",
       "\\mathrm{fhk} &= 0.082 \\cdot \\left( 1 - 0.01 \\cdot d \\right) \\cdot \\rho_{k}  = 0.082 \\cdot \\left( 1 - 0.01 \\cdot 4.29 \\right) \\cdot 350 &= 27.47 \\; \\;\\textrm{(MPa)}\n",
       "\\end{aligned}\n",
       "\\]"
      ],
      "text/plain": [
       "<IPython.core.display.Latex object>"
      ]
     },
     "metadata": {},
     "output_type": "display_data"
    },
    {
     "data": {
      "text/latex": [
       "\\[\n",
       "\\begin{aligned}\n",
       "\\mathrm{fhk} &= 0.082 \\cdot \\left( 1 - 0.01 \\cdot d \\right) \\cdot \\rho_{k}  = 0.082 \\cdot \\left( 1 - 0.01 \\cdot 4.29 \\right) \\cdot 350 &= 27.47 \\; \\;\\textrm{(MPa)}\n",
       "\\end{aligned}\n",
       "\\]"
      ],
      "text/plain": [
       "<IPython.core.display.Latex object>"
      ]
     },
     "metadata": {},
     "output_type": "display_data"
    }
   ],
   "source": [
    "fh1k = connecteur.fh1k\n",
    "display(Latex(fh1k[0]))\n",
    "\n",
    "fh2k = connecteur.fh2k\n",
    "display(Latex(fh2k[0]))"
   ]
  },
  {
   "cell_type": "code",
   "execution_count": 25,
   "metadata": {},
   "outputs": [
    {
     "data": {
      "text/latex": [
       "\\[\n",
       "\\begin{aligned}\n",
       "n_{ef} &= 1 \\; \n",
       "\\end{aligned}\n",
       "\\]"
      ],
      "text/plain": [
       "<IPython.core.display.Latex object>"
      ]
     },
     "metadata": {},
     "output_type": "display_data"
    }
   ],
   "source": [
    "nef = connecteur.nef(a1_beam1=entraxe_connecteurs, a1_beam2=entraxe_connecteurs)\n",
    "display(Latex(nef[0]))"
   ]
  },
  {
   "cell_type": "code",
   "execution_count": 26,
   "metadata": {},
   "outputs": [
    {
     "data": {
      "text/plain": [
       "1"
      ]
     },
     "execution_count": 26,
     "metadata": {},
     "output_type": "execute_result"
    }
   ],
   "source": [
    "connecteur.nfile"
   ]
  },
  {
   "cell_type": "code",
   "execution_count": 27,
   "metadata": {},
   "outputs": [],
   "source": [
    "FaxRk = connecteur.FaxRk(faxk=f_ax_k, l_ef=connecteur.t1, alpha=alpha1, beam=barre3)"
   ]
  },
  {
   "cell_type": "code",
   "execution_count": 28,
   "metadata": {},
   "outputs": [
    {
     "name": "stdout",
     "output_type": "stream",
     "text": [
      "1512.0\n"
     ]
    },
    {
     "data": {
      "text/latex": [
       "\\[\n",
       "\\begin{aligned}\n",
       "\\beta &= \\frac{ f_{h2k} }{ f_{h1k} } \\\\&= \\frac{ 27.47 }{ 27.47 } \\\\&= 1.00  \\\\[10pt]\n",
       "\\\\[10pt]\n",
       "g &= f_{h1k} \\cdot t_{1} \\cdot \\mathrm{diam} \\\\&= 27.47 \\cdot 34.00 \\cdot 4.29 \\\\&= 4006.59 \\; \\;\\textrm{(N)}\\\\[10pt]\n",
       "\\\\[10pt]\n",
       "h &= 0.5 \\cdot f_{h2k} \\cdot t_{2} \\cdot \\mathrm{diam} \\\\&= 0.5 \\cdot 27.47 \\cdot 77.00 \\cdot 4.29 \\\\&= 4536.88 \\; \\;\\textrm{(N)}\\\\[10pt]\n",
       "\\\\[10pt]\n",
       "j &= 1.05 \\cdot \\frac{ g }{ 2 + \\beta } \\cdot \\left( \\sqrt { 2 \\cdot \\beta \\cdot \\left( 1 + \\beta \\right) + \\frac{ 4 \\cdot \\beta \\cdot \\left( 2 + \\beta \\right) \\cdot M_{y_{Rk}} }{ f_{h1k} \\cdot \\left( t_{1} \\right) ^{ 2 } \\cdot \\mathrm{diam} } } - \\beta \\right) \\\\&= 1.05 \\cdot \\frac{ 4006.59 }{ 2 + 1.00 } \\cdot \\left( \\sqrt { 2 \\cdot 1.00 \\cdot \\left( 1 + 1.00 \\right) + \\frac{ 4 \\cdot 1.00 \\cdot \\left( 2 + 1.00 \\right) \\cdot 9494.00 }{ 27.47 \\cdot \\left( 34.00 \\right) ^{ 2 } \\cdot 4.29 } } - 1.00 \\right) \\\\&= 1681.60 \\; \\;\\textrm{(N)}\\\\[10pt]\n",
       "\\\\[10pt]\n",
       "k &= 1.15 \\cdot \\sqrt { \\frac{ 2 \\cdot \\beta }{ 1 + \\beta } } \\cdot \\sqrt { 2 \\cdot M_{y_{Rk}} \\cdot f_{h1k} \\cdot \\mathrm{diam} } \\\\&= 1.15 \\cdot \\sqrt { \\frac{ 2 \\cdot 1.00 }{ 1 + 1.00 } } \\cdot \\sqrt { 2 \\cdot 9494.00 \\cdot 27.47 \\cdot 4.29 } \\\\&= 1720.23 \\; \\;\\textrm{(N)}\\\\[10pt]\n",
       "\\end{aligned}\n",
       "\\]\\[\n",
       "\\begin{aligned}\n",
       "F_{v_{Rk_{johansen}}} &= \\operatorname{min} { \\left( g ,\\  h ,\\  j ,\\  k \\right) }  = \\operatorname{min} { \\left( 4.01\\ \\mathrm{kN} ,\\  4.54\\ \\mathrm{kN} ,\\  1.68\\ \\mathrm{kN} ,\\  1.72\\ \\mathrm{kN} \\right) } &= 1.68\\ \\mathrm{kN}  \n",
       "\\\\[10pt]\n",
       "\\mathrm{mode}_{rupture} &= J \\; \n",
       "\\end{aligned}\n",
       "\\]\\[\n",
       "\\begin{aligned}\n",
       "F_{ax_{Rk_{reel}}} &= \\operatorname{min} { \\left( \\frac{ F_{ax_{Rk}} }{ 4 } ,\\  \\mathrm{coeflimit} \\cdot F_{v_{Rk_{johansen}}} \\right) }  = \\operatorname{min} { \\left( \\frac{ 1512.00 }{ 4 } ,\\  1 \\cdot 1.68\\ \\mathrm{kN} \\right) } &= 378.00  \n",
       "\\\\[10pt]\n",
       "F_{v_{Rk}} &= F_{v_{Rk_{johansen}}} + F_{ax_{Rk_{reel}}}  = 1.68\\ \\mathrm{kN} + 378.00 &= 2.06\\ \\mathrm{kN}  \n",
       "\\end{aligned}\n",
       "\\]\\[\n",
       "\\begin{aligned}\n",
       "F_{v_{Rk_{ass}}} &= F_{v_{Rk}} \\cdot n_{file} \\cdot n_{ef} \\cdot n_{cisaillement}  = 2.06\\ \\mathrm{kN} \\cdot 1 \\cdot 1 \\cdot 2 &= 4.12\\ \\mathrm{kN}  \n",
       "\\end{aligned}\n",
       "\\]"
      ],
      "text/plain": [
       "<IPython.core.display.Latex object>"
      ]
     },
     "metadata": {},
     "output_type": "display_data"
    }
   ],
   "source": [
    "FvRk = connecteur.FvRk(True)\n",
    "display(Latex(FvRk[0]))"
   ]
  },
  {
   "cell_type": "markdown",
   "metadata": {},
   "source": [
    "## 5. Rigidité efficace de la poutre assemblée mécaniquement\n",
    "----"
   ]
  },
  {
   "cell_type": "markdown",
   "metadata": {},
   "source": [
    "- <font color=\"blue\" size =\"5\">**Gamma, facteur de glissement des connecteurs**</font>"
   ]
  },
  {
   "cell_type": "code",
   "execution_count": 29,
   "metadata": {},
   "outputs": [
    {
     "data": {
      "text/latex": [
       "\\[\n",
       "\\begin{aligned}\n",
       "\\gamma_{i} &= \\left( 1 + \\left( \\pi \\right) ^{ 2 } \\cdot E_{mean_{fin}} \\cdot A \\cdot \\frac{ \\mathrm{entraxe} }{ K_{ser_{fin}} \\cdot \\left( \\mathrm{lo} \\right) ^{ 2 } } \\right) ^{ \\left( - 1 \\right) }  = \\left( 1 + \\left( 3.14 \\right) ^{ 2 } \\cdot 11000.00 \\cdot 9960.00 \\cdot \\frac{ 200.00 }{ 3210.95 \\cdot \\left( 4000.00 \\right) ^{ 2 } } \\right) ^{ \\left( - 1 \\right) } &= 0.19  \n",
       "\\end{aligned}\n",
       "\\]"
      ],
      "text/plain": [
       "<IPython.core.display.Latex object>"
      ]
     },
     "metadata": {},
     "output_type": "display_data"
    }
   ],
   "source": [
    "gamma = dalle.gamma_i\n",
    "gamma_2 = gamma[\"gamma 2\"]\n",
    "gamma_3 = gamma[\"gamma 3\"][0]\n",
    "\n",
    "display(Latex(gamma_3))"
   ]
  },
  {
   "cell_type": "code",
   "execution_count": 30,
   "metadata": {},
   "outputs": [
    {
     "data": {
      "text/latex": [
       "\\[\n",
       "\\begin{aligned}\n",
       "\\gamma_{2} &= 1 \\;\n",
       "\\end{aligned}\n",
       "\\]"
      ],
      "text/plain": [
       "<IPython.core.display.Latex object>"
      ]
     },
     "metadata": {},
     "output_type": "display_data"
    }
   ],
   "source": [
    "%%render params 0\n",
    "\n",
    "gamma_2"
   ]
  },
  {
   "cell_type": "markdown",
   "metadata": {},
   "source": [
    "- <font color=\"blue\" size =\"5\">**Distance de l'axe de la pièce par rapport à l'axe neutre de l'assemblage**</font>"
   ]
  },
  {
   "cell_type": "code",
   "execution_count": 31,
   "metadata": {},
   "outputs": [
    {
     "data": {
      "text/html": [
       "<div>\n",
       "<style scoped>\n",
       "    .dataframe tbody tr th:only-of-type {\n",
       "        vertical-align: middle;\n",
       "    }\n",
       "\n",
       "    .dataframe tbody tr th {\n",
       "        vertical-align: top;\n",
       "    }\n",
       "\n",
       "    .dataframe thead th {\n",
       "        text-align: right;\n",
       "    }\n",
       "</style>\n",
       "<table border=\"1\" class=\"dataframe\">\n",
       "  <thead>\n",
       "    <tr style=\"text-align: right;\">\n",
       "      <th></th>\n",
       "      <th>Planche</th>\n",
       "      <th>Distance à l'axe neutre</th>\n",
       "    </tr>\n",
       "  </thead>\n",
       "  <tbody>\n",
       "    <tr>\n",
       "      <th>0</th>\n",
       "      <td>Planche basse</td>\n",
       "      <td>2.581 mm</td>\n",
       "    </tr>\n",
       "    <tr>\n",
       "      <th>1</th>\n",
       "      <td>Planche intermédiaire</td>\n",
       "      <td>-37.419 mm</td>\n",
       "    </tr>\n",
       "  </tbody>\n",
       "</table>\n",
       "</div>"
      ],
      "text/plain": [
       "                 Planche Distance à l'axe neutre\n",
       "0          Planche basse                2.581 mm\n",
       "1  Planche intermédiaire              -37.419 mm"
      ]
     },
     "execution_count": 31,
     "metadata": {},
     "output_type": "execute_result"
    }
   ],
   "source": [
    "data = {\"Planche\":[\"Planche basse\",\"Planche intermédiaire\"],\n",
    "        \"Distance à l'axe neutre\":[dalle.distance_ai[1],dalle.distance_ai[2]]}\n",
    "distanceai = pd.DataFrame(data)\n",
    "distanceai"
   ]
  },
  {
   "cell_type": "markdown",
   "metadata": {},
   "source": [
    "- <font color=\"blue\" size =\"5\">**Rigidité efficace en flexion**</font>"
   ]
  },
  {
   "cell_type": "code",
   "execution_count": 32,
   "metadata": {},
   "outputs": [
    {
     "data": {
      "text/latex": [
       "EI eff 2: \\[\n",
       "\\begin{aligned}\n",
       "\\mathrm{EI}_{eff_{i}} &= E_{mean_{fin}} \\cdot \\mathrm{inertie} + \\gamma_{i} \\cdot E_{mean_{fin}} \\cdot \\mathrm{aire} \\cdot \\left( \\mathrm{distance}_{ai} \\right) ^{ 2 } \\\\&= 11.0\\ \\mathrm{GPa} \\cdot 299376000.0\\ \\mathrm{mm}^{4} + 1 \\cdot 11.0\\ \\mathrm{GPa} \\cdot 27720.0\\ \\mathrm{mm}^{2} \\cdot \\left( 2.6\\ \\mathrm{mm} \\right) ^{ 2 } \\\\&= 3.3\\ \\mathrm{MN} \\cdot \\mathrm{m²}  \\\\[10pt]\n",
       "\\end{aligned}\n",
       "\\]EI eff 3: \\[\n",
       "\\begin{aligned}\n",
       "\\mathrm{EI}_{eff_{i}} &= E_{mean_{fin}} \\cdot \\mathrm{inertie} + \\gamma_{i} \\cdot E_{mean_{fin}} \\cdot \\mathrm{aire} \\cdot \\left( \\mathrm{distance}_{ai} \\right) ^{ 2 } \\\\&= 11.0\\ \\mathrm{GPa} \\cdot 11952000.0\\ \\mathrm{mm}^{4} + 0.2 \\cdot 11.0\\ \\mathrm{GPa} \\cdot 9960.0\\ \\mathrm{mm}^{2} \\cdot \\left( -37.4\\ \\mathrm{mm} \\right) ^{ 2 } \\\\&= 160.9\\ \\mathrm{kN} \\cdot \\mathrm{m²}  \\\\[10pt]\n",
       "\\end{aligned}\n",
       "\\]\\[\n",
       "\\begin{aligned}\n",
       "\\mathrm{EI}_{eff_{global}} &= 3.456\\ \\mathrm{MN} \\cdot \\mathrm{m²} \\; \\;\\textrm{(Somme des EI efficace)}\n",
       "\\end{aligned}\n",
       "\\]"
      ],
      "text/plain": [
       "<IPython.core.display.Latex object>"
      ]
     },
     "metadata": {},
     "output_type": "display_data"
    }
   ],
   "source": [
    "ei_eff = dalle.EI_eff\n",
    "display(Latex(ei_eff[0]))\n"
   ]
  },
  {
   "cell_type": "markdown",
   "metadata": {},
   "source": [
    "## 6. Efforts tranchants Vz\n",
    "----"
   ]
  },
  {
   "cell_type": "code",
   "execution_count": 33,
   "metadata": {},
   "outputs": [
    {
     "name": "stdout",
     "output_type": "stream",
     "text": [
      "328\n"
     ]
    }
   ],
   "source": [
    "l = int(ceil(dalle.l.value * 10**3))\n",
    "E_mean_fin = int(barre2.E_mean_fin.value*10**-6)\n",
    "A = barre2.b * barre2.h + barre3.b * barre3.h\n",
    "A = A.value*10**6\n",
    "iy = ei_eff[1].value*10**6 / E_mean_fin\n",
    "G = float(barre2.caract_meca.Gmoy)\n",
    "test = A1.MEF._from_parent_class(c1, long=l, E=E_mean_fin, A=A, G=G, J=1, Iy=iy, Iz=1, ele=node, alphaZ=0, alphaY=0, alphaX=0)\n",
    "test.create_supports_by_list(listdeplacement)\n",
    "\n",
    "test.calcul_1D()"
   ]
  },
  {
   "cell_type": "code",
   "execution_count": 34,
   "metadata": {},
   "outputs": [
    {
     "data": {
      "image/png": "[encoded data removed]",
      "text/plain": [
       "<Figure size 1200x400 with 1 Axes>"
      ]
     },
     "metadata": {},
     "output_type": "display_data"
    }
   ],
   "source": [
    "test.show_graphique_Vz(rcombi)"
   ]
  },
  {
   "cell_type": "markdown",
   "metadata": {},
   "source": [
    "## 7. Moments My\n",
    "----"
   ]
  },
  {
   "cell_type": "code",
   "execution_count": 35,
   "metadata": {},
   "outputs": [
    {
     "data": {
      "image/png": "[encoded data removed]",
      "text/plain": [
       "<Figure size 1200x400 with 1 Axes>"
      ]
     },
     "metadata": {},
     "output_type": "display_data"
    }
   ],
   "source": [
    "test.show_graphique_My(rcombi)"
   ]
  },
  {
   "cell_type": "markdown",
   "metadata": {},
   "source": [
    "## 8. Déformations selon l'axe Z\n",
    "----"
   ]
  },
  {
   "cell_type": "code",
   "execution_count": 36,
   "metadata": {},
   "outputs": [
    {
     "data": {
      "image/png": "[encoded data removed]",
      "text/plain": [
       "<Figure size 1200x400 with 1 Axes>"
      ]
     },
     "metadata": {},
     "output_type": "display_data"
    }
   ],
   "source": [
    "test.show_graphique_fleche(rcombi)"
   ]
  },
  {
   "cell_type": "markdown",
   "metadata": {},
   "source": [
    "## 9. Tableau récapitulatif des efforts internes\n",
    "----"
   ]
  },
  {
   "cell_type": "code",
   "execution_count": 37,
   "metadata": {},
   "outputs": [
    {
     "data": {
      "text/html": [
       "<div>\n",
       "<style scoped>\n",
       "    .dataframe tbody tr th:only-of-type {\n",
       "        vertical-align: middle;\n",
       "    }\n",
       "\n",
       "    .dataframe tbody tr th {\n",
       "        vertical-align: top;\n",
       "    }\n",
       "\n",
       "    .dataframe thead th {\n",
       "        text-align: right;\n",
       "    }\n",
       "</style>\n",
       "<table border=\"1\" class=\"dataframe\">\n",
       "  <thead>\n",
       "    <tr style=\"text-align: right;\">\n",
       "      <th></th>\n",
       "      <th>Nx_max</th>\n",
       "      <th>Nx_min</th>\n",
       "      <th>Vz_max</th>\n",
       "      <th>Vz_min</th>\n",
       "      <th>My_max</th>\n",
       "      <th>My_min</th>\n",
       "    </tr>\n",
       "  </thead>\n",
       "  <tbody>\n",
       "    <tr>\n",
       "      <th>Position</th>\n",
       "      <td>0.000000</td>\n",
       "      <td>4000.000000</td>\n",
       "      <td>4000.00000</td>\n",
       "      <td>0.000000</td>\n",
       "      <td>4.000000e+03</td>\n",
       "      <td>2000.000000</td>\n",
       "    </tr>\n",
       "    <tr>\n",
       "      <th>Effort</th>\n",
       "      <td>0.000041</td>\n",
       "      <td>-0.000043</td>\n",
       "      <td>10.13209</td>\n",
       "      <td>-10.132098</td>\n",
       "      <td>4.101992e-10</td>\n",
       "      <td>-10.391865</td>\n",
       "    </tr>\n",
       "  </tbody>\n",
       "</table>\n",
       "</div>"
      ],
      "text/plain": [
       "            Nx_max       Nx_min      Vz_max     Vz_min        My_max  \\\n",
       "Position  0.000000  4000.000000  4000.00000   0.000000  4.000000e+03   \n",
       "Effort    0.000041    -0.000043    10.13209 -10.132098  4.101992e-10   \n",
       "\n",
       "               My_min  \n",
       "Position  2000.000000  \n",
       "Effort     -10.391865  "
      ]
     },
     "execution_count": 37,
     "metadata": {},
     "output_type": "execute_result"
    }
   ],
   "source": [
    "df = pd.DataFrame(test.effort_interne_max())\n",
    "df"
   ]
  },
  {
   "cell_type": "markdown",
   "metadata": {},
   "source": [
    "## 10. Contrainte de cisaillement maximale dans l'élément 2 selon Annexe B.4 de l'EN 1995\n",
    "---"
   ]
  },
  {
   "cell_type": "code",
   "execution_count": 38,
   "metadata": {},
   "outputs": [
    {
     "data": {
      "text/latex": [
       "\\[\n",
       "\\begin{aligned}\n",
       "\\tau_{2} &= V_{z} \\cdot \\frac{ \\gamma_{3} \\cdot E_{mean_{fin_{3}}} \\cdot \\mathrm{aire}_{3} \\cdot a_{3} + 0.5 \\cdot E_{mean_{fin_{2}}} \\cdot b_{2} \\cdot \\left( h \\right) ^{ 2 } }{ b_{2} \\cdot K_{cr} \\cdot \\mathrm{EI}_{eff} } \\\\&= 10.132\\ \\mathrm{kN} \\cdot \\frac{ 0.192 \\cdot 11.000\\ \\mathrm{GPa} \\cdot 9960.000\\ \\mathrm{mm}^{2} \\cdot -37.419\\ \\mathrm{mm} + 0.5 \\cdot 11.000\\ \\mathrm{GPa} \\cdot 77.000\\ \\mathrm{mm} \\cdot \\left( 182.581\\ \\mathrm{mm} \\right) ^{ 2 } }{ 77.000\\ \\mathrm{mm} \\cdot 0.670 \\cdot 3.456\\ \\mathrm{MN} \\cdot \\mathrm{m²} } \\\\&= 757.537\\ \\mathrm{kPa}  \\\\[10pt]\n",
       "\\end{aligned}\n",
       "\\]"
      ],
      "text/plain": [
       "<IPython.core.display.Latex object>"
      ]
     },
     "metadata": {},
     "output_type": "display_data"
    }
   ],
   "source": [
    "V_z = max(df['Vz_max']['Effort'],abs(df['Vz_min']['Effort']))\n",
    "tau_2 = dalle.tau_2_max(V_z)\n",
    "display(Latex(tau_2[0]))"
   ]
  },
  {
   "cell_type": "markdown",
   "metadata": {},
   "source": [
    "## 11. Contrainte de compression parallèle au fil selon Annexe B.3 de l'EN 1995\n",
    "----"
   ]
  },
  {
   "cell_type": "code",
   "execution_count": 39,
   "metadata": {},
   "outputs": [
    {
     "data": {
      "text/latex": [
       "\\[\n",
       "\\begin{aligned}\n",
       "\\sigma_{i} &= \\mathrm{Mf}_{z} \\cdot \\gamma_{i} \\cdot E_{mean_{fin}} \\cdot \\frac{ \\mathrm{distance}_{ai} }{ \\mathrm{EI}_{eff} } \\\\&= 10.39\\ \\mathrm{kN} \\cdot \\mathrm{m} \\cdot 0.19 \\cdot 11.00\\ \\mathrm{GPa} \\cdot \\frac{ -37.42\\ \\mathrm{mm} }{ 3.46\\ \\mathrm{MN} \\cdot \\mathrm{m²} } \\\\&= -237.58\\ \\mathrm{kPa}  \\\\[10pt]\n",
       "\\end{aligned}\n",
       "\\]"
      ],
      "text/plain": [
       "<IPython.core.display.Latex object>"
      ]
     },
     "metadata": {},
     "output_type": "display_data"
    }
   ],
   "source": [
    "M_y = max(df['My_max']['Effort'],abs(df['My_min']['Effort']))\n",
    "sigma_i = dalle.sigma_i(M_y, beam=index_barre)\n",
    "display(Latex(sigma_i[0]))"
   ]
  },
  {
   "cell_type": "markdown",
   "metadata": {},
   "source": [
    "## 12. Contrainte de flexion le long de l'axe y selon Annexe B.3 de l'EN 1995\n",
    "----"
   ]
  },
  {
   "cell_type": "code",
   "execution_count": 40,
   "metadata": {},
   "outputs": [
    {
     "data": {
      "text/latex": [
       "\\[\n",
       "\\begin{aligned}\n",
       "\\sigma_{m_{i}} &= 0.5 \\cdot M_{y} \\cdot E_{mean_{fin}} \\cdot \\frac{ h_{i} }{ \\mathrm{EI}_{eff} } \\\\&= 0.5 \\cdot 10.39\\ \\mathrm{kN} \\cdot \\mathrm{m} \\cdot 11.00\\ \\mathrm{GPa} \\cdot \\frac{ 120.00\\ \\mathrm{mm} }{ 3.46\\ \\mathrm{MN} \\cdot \\mathrm{m²} } \\\\&= 1.98\\ \\mathrm{MPa}  \\\\[10pt]\n",
       "\\end{aligned}\n",
       "\\]"
      ],
      "text/plain": [
       "<IPython.core.display.Latex object>"
      ]
     },
     "metadata": {},
     "output_type": "display_data"
    }
   ],
   "source": [
    "sigma_mi = dalle.sigma_mi(M_y, beam=index_barre)\n",
    "display(Latex(sigma_mi[0]))"
   ]
  },
  {
   "cell_type": "markdown",
   "metadata": {},
   "source": [
    "## 13. Charge à reprendre par organe d'assemblage selon Annexe B.5 de l'EN 1995\n",
    "----"
   ]
  },
  {
   "cell_type": "code",
   "execution_count": 41,
   "metadata": {},
   "outputs": [
    {
     "data": {
      "text/latex": [
       "\\[\n",
       "\\begin{aligned}\n",
       "F_{i} &= \\gamma_{i} \\cdot E_{mean_{fin}} \\cdot \\mathrm{aire} \\cdot \\mathrm{distance}_{ai} \\cdot \\mathrm{entraxe} \\cdot \\frac{ V_{z} }{ \\mathrm{EI}_{eff} } \\\\&= 0.19 \\cdot 11.00\\ \\mathrm{GPa} \\cdot 9960.00\\ \\mathrm{mm}^{2} \\cdot -37.42\\ \\mathrm{mm} \\cdot 200.00\\ \\mathrm{mm} \\cdot \\frac{ 10.13\\ \\mathrm{kN} }{ 3.46\\ \\mathrm{MN} \\cdot \\mathrm{m²} } \\\\&= -461.42\\ \\mathrm{N}  \\\\[10pt]\n",
       "\\end{aligned}\n",
       "\\]"
      ],
      "text/plain": [
       "<IPython.core.display.Latex object>"
      ]
     },
     "metadata": {},
     "output_type": "display_data"
    }
   ],
   "source": [
    "F_i = dalle.F_i(V_z, connecteur=2)\n",
    "display(Latex(F_i[0]))"
   ]
  },
  {
   "cell_type": "markdown",
   "metadata": {},
   "source": [
    "## 14. Résistance de calcul en flexion"
   ]
  },
  {
   "cell_type": "code",
   "execution_count": 42,
   "metadata": {},
   "outputs": [
    {
     "data": {
      "text/latex": [
       "\\[\n",
       "\\begin{aligned}\n",
       "f_{type_{Rd}} &= k_{sys} \\cdot f_{type_{k}} \\cdot \\frac{ K_{mod} }{ \\gamma_{M} }  = 1.10 \\cdot 24.00\\ \\mathrm{MPa} \\cdot \\frac{ 0.80 }{ 1.30 } &= 16.25\\ \\mathrm{MPa}  \n",
       "\\end{aligned}\n",
       "\\]"
      ],
      "text/plain": [
       "<IPython.core.display.Latex object>"
      ]
     },
     "metadata": {},
     "output_type": "display_data"
    }
   ],
   "source": [
    "beam_3_flexion = EC5_Ele.Flexion._from_parent_class(barre, lo=longueur.value*10**3, coeflef=0.9, pos=\"Charge sur fibre comprimée\")\n",
    "beam_3_flexion.sigma_m_rd = {'y': sigma_mi[1], 'z': 0 * si.MPa}\n",
    "fmd = beam_3_flexion.f_m_d(action, \"Fondamentales\")\n",
    "display(Latex(fmd[0]))"
   ]
  },
  {
   "cell_type": "code",
   "execution_count": 43,
   "metadata": {},
   "outputs": [
    {
     "name": "stdout",
     "output_type": "stream",
     "text": [
      "Barres en compression :\n"
     ]
    },
    {
     "data": {
      "text/latex": [
       "\\[\n",
       "\\begin{aligned}\n",
       "\\mathrm{taux}_{6_{2}} &= \\frac{ \\sigma_{c_{0_{d}}} }{ f_{c_{0_{d}}} }  = \\frac{ 237.575\\ \\mathrm{kPa} }{ 12.923\\ \\mathrm{MPa} } &= 0.018 \\; \\;\\textrm{(equ6.2)}\n",
       "\\\\[10pt]\n",
       "\\mathrm{taux}_{6_{23}} &= \\left( \\frac{ \\sigma_{c_{0_{d}}} }{ f_{c_{0_{d}}} \\cdot K_{c_{y}} } \\right) + \\mathrm{taux}_{6_{11}}  = \\left( \\frac{ 237.575\\ \\mathrm{kPa} }{ 12.923\\ \\mathrm{MPa} \\cdot 0.234 } \\right) + 0 &= 0.078 \\; \\;\\textrm{(equ6.23)}\n",
       "\\\\[10pt]\n",
       "\\mathrm{taux}_{6_{24}} &= \\frac{ \\sigma_{c_{0_{d}}} }{ f_{c_{0_{d}}} \\cdot K_{c_{z}} } + \\mathrm{taux}_{6_{12}}  = \\frac{ 237.575\\ \\mathrm{kPa} }{ 12.923\\ \\mathrm{MPa} \\cdot 0.116 } + 0 &= 0.158 \\; \\;\\textrm{(equ6.24)}\n",
       "\\end{aligned}\n",
       "\\]"
      ],
      "text/plain": [
       "<IPython.core.display.Latex object>"
      ]
     },
     "metadata": {},
     "output_type": "display_data"
    },
    {
     "data": {
      "text/latex": [
       "\\[\n",
       "\\begin{aligned}\n",
       "\\mathrm{taux}_{6_{11}} &= \\frac{ \\sigma_{my_{d}} }{ f_{m_{d}} \\cdot K_{h_{y}} } + K_{m} \\cdot \\frac{ \\sigma_{mz_{d}} }{ f_{m_{d}} \\cdot K_{h_{z}} }  = \\frac{ 1.985\\ \\mathrm{MPa} }{ 16.246\\ \\mathrm{MPa} \\cdot 1.046 } + 0.700 \\cdot \\frac{ 0.000\\ \\mathrm{Pa} }{ 16.246\\ \\mathrm{MPa} \\cdot 1.126 } &= 0.117 \\; \\;\\textrm{(equ6.11)}\n",
       "\\\\[10pt]\n",
       "\\mathrm{taux}_{6_{12}} &= K_{m} \\cdot \\frac{ \\sigma_{my_{d}} }{ f_{m_{d}} \\cdot K_{h_{y}} } + \\frac{ \\sigma_{mz_{d}} }{ f_{m_{d}} \\cdot K_{h_{z}} }  = 0.700 \\cdot \\frac{ 1.985\\ \\mathrm{MPa} }{ 16.246\\ \\mathrm{MPa} \\cdot 1.046 } + \\frac{ 0.000\\ \\mathrm{Pa} }{ 16.246\\ \\mathrm{MPa} \\cdot 1.126 } &= 0.082 \\; \\;\\textrm{(equ6.12)}\n",
       "\\\\[10pt]\n",
       "\\mathrm{taux}_{6_{17}} &= \\mathrm{taux}_{6_{11}} + \\mathrm{taux}_{6_{1}}  = 0.117 + 0 &= 0.117 \\; \\;\\textrm{(equ6.17)}\n",
       "\\\\[10pt]\n",
       "\\mathrm{taux}_{6_{18}} &= \\mathrm{taux}_{6_{12}} + \\mathrm{taux}_{6_{1}}  = 0.082 + 0 &= 0.082 \\; \\;\\textrm{(equ6.18)}\n",
       "\\\\[10pt]\n",
       "\\mathrm{taux}_{6_{33y}} &= \\frac{ \\sigma_{my_{d}} }{ f_{m_{d}} \\cdot K_{h_{y}} \\cdot K_{crit} }  = \\frac{ 1.985\\ \\mathrm{MPa} }{ 16.246\\ \\mathrm{MPa} \\cdot 1.046 \\cdot 1 } &= 0.117 \\; \\;\\textrm{(equ6.33)}\n",
       "\\\\[10pt]\n",
       "\\mathrm{taux}_{6_{33z}} &= \\frac{ \\sigma_{mz_{d}} }{ f_{m_{d}} \\cdot K_{h_{z}} \\cdot K_{crit} }  = \\frac{ 0.000\\ \\mathrm{Pa} }{ 16.246\\ \\mathrm{MPa} \\cdot 1.126 \\cdot 1 } &= 0.000 \\; \\;\\textrm{(equ6.33)}\n",
       "\\\\[10pt]\n",
       "\\mathrm{taux}_{6_{35zyz}} &= \\left( \\mathrm{taux}_{6_{33y}} \\right) ^{ 2 } + \\left( \\frac{ \\sigma_{mz_{d}} }{ f_{m_{d}} \\cdot K_{h_{z}} } \\right) + \\mathrm{taux}_{6_{24}}  = \\left( 0.117 \\right) ^{ 2 } + \\left( \\frac{ 0.000\\ \\mathrm{Pa} }{ 16.246\\ \\mathrm{MPa} \\cdot 1.126 } \\right) + 0.158 &= 0.172 \\; \\;\\textrm{(equ6.35)}\n",
       "\\\\[10pt]\n",
       "\\mathrm{taux}_{6_{35yzz}} &= \\mathrm{taux}_{6_{33y}} + \\left( \\frac{ \\sigma_{mz_{d}} }{ f_{m_{d}} \\cdot K_{h_{z}} } \\right) ^{ 2 } + \\mathrm{taux}_{6_{24}}  = 0.117 + \\left( \\frac{ 0.000\\ \\mathrm{Pa} }{ 16.246\\ \\mathrm{MPa} \\cdot 1.126 } \\right) ^{ 2 } + 0.158 &= 0.275 \\; \\;\\textrm{(equ6.35 interprétation)}\n",
       "\\\\[10pt]\n",
       "\\mathrm{taux}_{6_{35yzy}} &= \\left( \\mathrm{taux}_{6_{33z}} \\right) ^{ 2 } + \\left( \\frac{ \\sigma_{my_{d}} }{ f_{m_{d}} \\cdot K_{h_{y}} } \\right) + \\mathrm{taux}_{6_{23}}  = \\left( 0.000 \\right) ^{ 2 } + \\left( \\frac{ 1.985\\ \\mathrm{MPa} }{ 16.246\\ \\mathrm{MPa} \\cdot 1.046 } \\right) + 0.078 &= 0.195 \\; \\;\\textrm{(equ6.35)}\n",
       "\\\\[10pt]\n",
       "\\mathrm{taux}_{6_{35zyy}} &= \\mathrm{taux}_{6_{33z}} + \\left( \\frac{ \\sigma_{my_{d}} }{ f_{m_{d}} \\cdot K_{h_{y}} } \\right) ^{ 2 } + \\mathrm{taux}_{6_{23}}  = 0.000 + \\left( \\frac{ 1.985\\ \\mathrm{MPa} }{ 16.246\\ \\mathrm{MPa} \\cdot 1.046 } \\right) ^{ 2 } + 0.078 &= 0.092 \\; \\;\\textrm{(equ6.35 interprétation)}\n",
       "\\end{aligned}\n",
       "\\]"
      ],
      "text/plain": [
       "<IPython.core.display.Latex object>"
      ]
     },
     "metadata": {},
     "output_type": "display_data"
    }
   ],
   "source": [
    "if sigma_i[1] < 0:\n",
    "    beam_3_compression = EC5_Ele.Compression._from_parent_class(barre,  lo_y=longueur.value*10**3, lo_z=longueur.value*10**3, type_appuis= \"Rotule - Rotule\")\n",
    "    fc0d = beam_3_compression.f_c_0_d(action, \"Fondamentales\")\n",
    "    beam_3_compression.sigma_c_0_rd = abs(sigma_i[1])\n",
    "    taux_compression = beam_3_compression.taux_c_0_d()\n",
    "    print(\"Barres en compression :\")\n",
    "    display(Latex(taux_compression[0]))\n",
    "    taux_flexion = beam_3_flexion.taux_m_d(compression=beam_3_compression)\n",
    "    display(Latex(taux_flexion[0]))\n",
    "else:\n",
    "    beam_3_traction = EC5_Ele.Traction._from_parent_class(barre)\n",
    "    ft0d = beam_3_traction.f_t_0_d(action, \"Fondamentales\")\n",
    "    beam_3_traction.sigma_t_0_rd = sigma_i[1]\n",
    "    taux_traction = beam_3_traction.taux_t_0_d()\n",
    "    print(\"Barres en traction :\")\n",
    "    display(Latex(taux_traction[0]))\n",
    "    taux_flexion = beam_3_flexion.taux_m_d(traction=beam_3_traction)\n",
    "    display(Latex(taux_flexion[0]))\n",
    "    "
   ]
  },
  {
   "cell_type": "markdown",
   "metadata": {},
   "source": [
    "- <font color=\"blue\" size =\"5\">**Taux de travail connecteur**</font>"
   ]
  },
  {
   "cell_type": "code",
   "execution_count": 44,
   "metadata": {},
   "outputs": [
    {
     "data": {
      "text/latex": [
       "\\[\n",
       "\\begin{aligned}\n",
       "F_{Rd} &= \\frac{ F_{Rk} \\cdot k_{mod} }{ \\gamma_{M} }  = \\frac{ 4.12\\ \\mathrm{kN} \\cdot 0.80 }{ 1.30 } &= 2.53\\ \\mathrm{kN} \\; \\;\\textrm{(Valeur de calcul (design))}\n",
       "\\end{aligned}\n",
       "\\]"
      ],
      "text/plain": [
       "<IPython.core.display.Latex object>"
      ]
     },
     "metadata": {},
     "output_type": "display_data"
    }
   ],
   "source": [
    "Fv_Rd = connecteur.F_Rd(FvRk[1].value*10**-3)\n",
    "display(Latex(Fv_Rd[0]))"
   ]
  },
  {
   "cell_type": "code",
   "execution_count": 45,
   "metadata": {},
   "outputs": [
    {
     "data": {
      "text/latex": [
       "\\[\n",
       "\\begin{aligned}\n",
       "\\mathrm{taux}_{cisaillement} &= \\frac{ \\mathrm{Fv}_{Ed} }{ \\mathrm{Fv}_{Rd_{ass}} } \\cdot 100 \\\\&= \\frac{ 461.42\\ \\mathrm{N} }{ 2.53\\ \\mathrm{kN} } \\cdot 100 \\\\&= 18.20 \\; \\;\\textrm{(en pourcent)}\\\\[10pt]\n",
       "\\end{aligned}\n",
       "\\]"
      ],
      "text/plain": [
       "<IPython.core.display.Latex object>"
      ]
     },
     "metadata": {},
     "output_type": "display_data"
    }
   ],
   "source": [
    "Taux_connecteur = connecteur.taux_cisaillement(Fv_Ed = F_i[1].value*10**-3)\n",
    "display(Latex(Taux_connecteur[0]))"
   ]
  },
  {
   "cell_type": "code",
   "execution_count": 46,
   "metadata": {},
   "outputs": [
    {
     "name": "stdout",
     "output_type": "stream",
     "text": [
      "1200.0 1200.0 1.200 km\n"
     ]
    }
   ],
   "source": [
    "print(chargement.alt,c1.alt,test.alt)"
   ]
  },
  {
   "cell_type": "code",
   "execution_count": 47,
   "metadata": {},
   "outputs": [],
   "source": [
    "app.exit()"
   ]
  },
  {
   "cell_type": "code",
   "execution_count": 48,
   "metadata": {},
   "outputs": [],
   "source": [
    "# yG = dalle.distance_ai[1] + barre2.h_calcul/2\n",
    "# yG = yG.value *10**3\n",
    "# y = [h for h in range(0, int(barre2.h_calcul.value*10**3)+20, 20)]\n",
    "\n",
    "# sigma_m = []\n",
    "# tau = []\n",
    "# My = M_y.value*10**3\n",
    "# Vz = V_z.value\n",
    "# E_mean_fin_3 = dalle.beam[2].E_mean_fin.value *10**-6\n",
    "# ei_eff = dalle.EI_eff[1].value *10**6\n",
    "# beam_2 = dalle.beam[1]\n",
    "# beam_3 = dalle.beam[2]\n",
    "# h3 = (dalle.beam[1].h_calcul.value/2 - dalle.recouvrement[1].value- dalle.beam[2].h_calcul.value/2)*10**3\n",
    "# print(h3, dalle.beam[1].h_calcul.value, dalle.recouvrement[1].value, dalle.beam[2].h_calcul.value)\n",
    "\n",
    "# tau_value = 0\n",
    "# for h in y:\n",
    "#     for yi in y:\n",
    "#         for index, beam in enumerate(dalle.beam):\n",
    "#             if beam_2.h_calcul.value *10**3 <=yi:\n",
    "#                 if beam is not None:\n",
    "#                     gamma_i = dalle.gamma_i[\"gamma 2\"]\n",
    "#                     E_mean_fin = beam_2.E_mean_fin.value *10**-6\n",
    "#                     b = dalle.beam[1].b_calcul.value *10**3\n",
    "#                     h = dalle.beam[1].h_calcul.value *10**3\n",
    "#                     distance_ai = dalle.distance_ai[1].value *10**3\n",
    "#                     h_z = h\n",
    "#                     for yi in y:\n",
    "#                         if yi < h:\n",
    "#                             h_z = yi\n",
    "#                         else:\n",
    "#                             h_z = h\n",
    "                        \n",
    "#                         tau_2 = (Vz*gamma_i*E_mean_fin*b*h_z*distance_ai)/(ei_eff*b) \n",
    "#                         tau_value = tau_value + tau_2\n",
    "#                         print (tau_value, h_z, gamma_i)\n",
    "#             elif h3 <=yi:\n",
    "#                 if beam is not None:\n",
    "#                     gamma_i = dalle.gamma_i[\"gamma 3\"][1]\n",
    "#                     print(gamma_i)\n",
    "#                     E_mean_fin = beam_3.E_mean_fin.value *10**-6\n",
    "#                     b = dalle.beam[2].b_calcul.value *10**3\n",
    "#                     h = dalle.beam[2].h_calcul.value *10**3\n",
    "#                     distance_ai = dalle.distance_ai[2].value *10**3\n",
    "#                     h_z = h+h3\n",
    "#                     for yi in y:\n",
    "#                         if yi < h_z:\n",
    "#                             h_z = yi\n",
    "#                         else:\n",
    "#                             h_z = h_z\n",
    "#                         print(Vz,gamma_i,E_mean_fin,b,h_z,distance_ai,ei_eff,b)\n",
    "#                         tau_3 = (Vz*gamma_i*E_mean_fin*b*h_z*distance_ai)/(ei_eff*b) \n",
    "#                         tau_value = tau_value + tau_3\n",
    "#                         print (tau_value, h_z, gamma_i)\n",
    "#     tau.append(tau_value)\n",
    "        \n",
    "# for h in y:\n",
    "#     v = yG - h\n",
    "#     sigma_m.append(My * E_mean_fin_3 * v / ei_eff)\n",
    "\n",
    "# plt.figure(figsize=(14,7))\n",
    "# plt.title(\"Contrainte de flexion Sigma,m\")\n",
    "# plt.xlabel(\"Contrainte en MPa\")\n",
    "# plt.ylabel(\"Hauteur de la poutre en mm\")\n",
    "\n",
    "# plt.plot(sigma_m, y)\n",
    "# plt.plot(tau, y)\n",
    "\n",
    "# plt.plot([0] * len(y), y, color='red')\n",
    "# x = np.arange(int(min(sigma_m))-10, int(max(sigma_m))+10, step=2)\n",
    "# plt.plot(x, [yG] * len(x), color='red')\n",
    "\n",
    "# plt.grid(True)\n",
    "# plt.xticks(np.arange(int(min(sigma_m))-5, int(max(sigma_m))+5, step=2))\n",
    "# plt.yticks(np.arange(int(min(y)), int(max(y)+10), step=10))\n",
    "\n",
    "# if abs(int(min(sigma_m))) > abs(int(max(sigma_m))):\n",
    "#     sigma_max  = round(min(sigma_m),2)\n",
    "# else:\n",
    "#     sigma_max = round(max(sigma_m),2)\n",
    "# if abs(int(min(tau))) > abs(int(max(tau))):\n",
    "#     tau_max  = round(min(tau),2)\n",
    "# else:\n",
    "#     tau_max = round(max(tau),2)\n",
    "# plt.text(sigma_max, int(yG) +10, f\"yG: {round(yG,1)}mm\", color=\"red\")\n",
    "# plt.text(sigma_max, int(barre2.h_calcul.value*10**3 / 2 - 50), f\"contrainte max flexion: \\n{sigma_max} MPa\", color=\"blue\")\n",
    "# plt.text(tau_max, int(barre2.h_calcul.value*10**3 / 2 - 50), f\"contrainte max cisaillement : \\n{tau_max} MPa\", color=\"orange\")\n",
    "# plt.show()"
   ]
  },
  {
   "cell_type": "markdown",
   "metadata": {},
   "source": []
  }
 ],
 "metadata": {
  "kernelspec": {
   "display_name": "env",
   "language": "python",
   "name": "python3"
  },
  "language_info": {
   "codemirror_mode": {
    "name": "ipython",
    "version": 3
   },
   "file_extension": ".py",
   "mimetype": "text/x-python",
   "name": "python",
   "nbconvert_exporter": "python",
   "pygments_lexer": "ipython3",
   "version": "3.12.2"
  }
 },
 "nbformat": 4,
 "nbformat_minor": 2
}
