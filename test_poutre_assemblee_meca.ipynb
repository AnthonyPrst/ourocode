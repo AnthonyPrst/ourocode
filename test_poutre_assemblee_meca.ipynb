{
 "cells": [
  {
   "cell_type": "code",
   "execution_count": 1,
   "metadata": {},
   "outputs": [],
   "source": [
    "import sys\n",
    "import os, json\n",
    "import operator\n",
    "\n",
    "from math import *\n",
    "import inspect\n",
    "import numpy as np\n",
    "import pandas as pd\n",
    "from copy import deepcopy\n",
    "from matplotlib import pyplot as plt\n",
    "import handcalcs.render\n",
    "from handcalcs.decorator import handcalc\n",
    "import forallpeople as si\n",
    "from IPython.display import display, Latex\n",
    "\n",
    "\n",
    "sys.path.append(os.path.join(os.getcwd(), \"catalog\", \"eurocode\"))\n",
    "import A0_Projet as A0\n",
    "import A1_MEF as A1\n",
    "import EC0_Combinaison as EC0\n",
    "import EC5_Assemblage as EC5_Ass\n",
    "import EC5_Element_droit as EC5_Ele\n",
    "\n",
    "CONFIG_FILE = '.config_ipynb'\n",
    "if os.path.isfile(CONFIG_FILE):\n",
    "    with open(CONFIG_FILE) as json_file:\n",
    "        json_args = json.load(json_file)"
   ]
  },
  {
   "cell_type": "markdown",
   "metadata": {},
   "source": [
    "# N° projet - Projet - Note de calcul\n",
    "---\n",
    "## Élément :\n",
    "- Annexe : ANxx\n",
    "- Date : 03/10/2022\n",
    "- Ingénieur : Anthony PARISOT\n",
    "---"
   ]
  },
  {
   "cell_type": "markdown",
   "metadata": {},
   "source": [
    "## 1. Paramètres\n",
    "----"
   ]
  },
  {
   "cell_type": "markdown",
   "metadata": {},
   "source": [
    "- <font color=\"blue\" size =\"4\">**Vérifications**</font>"
   ]
  },
  {
   "cell_type": "code",
   "execution_count": 2,
   "metadata": {},
   "outputs": [],
   "source": [
    "ELU_STR = True\n",
    "ELU_STR_ACC = False\n",
    "ELS = True"
   ]
  },
  {
   "cell_type": "markdown",
   "metadata": {},
   "source": [
    "- <font color=\"blue\" size =\"4\">**Chargement**</font>"
   ]
  },
  {
   "cell_type": "code",
   "execution_count": 3,
   "metadata": {},
   "outputs": [],
   "source": [
    "Charge1 = [1, '', 'Permanente G', 'Linéique', -370*(0.12+0.06/7), '0/7000', 'Z']\n",
    "Charge2 = [0, 'Poids propre', 'Permanente G', 'Linéique', -111.4*(0.12+0.06/7), '0/7000', 'Z']\n",
    "Charge3 = [2, '', 'Neige normale Sn', 'Linéique', -150*(0.12+0.06/7), '0/7000', 'Z']\n",
    "Charge4 = [3, '', 'Exploitation Q', 'Linéique', -400*(0.12+0.06/7), '0/7000', 'Z']"
   ]
  },
  {
   "cell_type": "code",
   "execution_count": 4,
   "metadata": {},
   "outputs": [
    {
     "data": {
      "text/html": [
       "<div>\n",
       "<style scoped>\n",
       "    .dataframe tbody tr th:only-of-type {\n",
       "        vertical-align: middle;\n",
       "    }\n",
       "\n",
       "    .dataframe tbody tr th {\n",
       "        vertical-align: top;\n",
       "    }\n",
       "\n",
       "    .dataframe thead th {\n",
       "        text-align: right;\n",
       "    }\n",
       "</style>\n",
       "<table border=\"1\" class=\"dataframe\">\n",
       "  <thead>\n",
       "    <tr style=\"text-align: right;\">\n",
       "      <th></th>\n",
       "      <th>Index</th>\n",
       "      <th>Nom</th>\n",
       "      <th>Action</th>\n",
       "      <th>Type</th>\n",
       "      <th>Charge (daN ou daN/m)</th>\n",
       "      <th>Position (mm)</th>\n",
       "      <th>Axe</th>\n",
       "    </tr>\n",
       "  </thead>\n",
       "  <tbody>\n",
       "    <tr>\n",
       "      <th>0</th>\n",
       "      <td>1</td>\n",
       "      <td></td>\n",
       "      <td>Permanente G</td>\n",
       "      <td>Linéique</td>\n",
       "      <td>-47.571429</td>\n",
       "      <td>0/7000</td>\n",
       "      <td>Z</td>\n",
       "    </tr>\n",
       "    <tr>\n",
       "      <th>1</th>\n",
       "      <td>0</td>\n",
       "      <td>Poids propre</td>\n",
       "      <td>Permanente G</td>\n",
       "      <td>Linéique</td>\n",
       "      <td>-14.322857</td>\n",
       "      <td>0/7000</td>\n",
       "      <td>Z</td>\n",
       "    </tr>\n",
       "    <tr>\n",
       "      <th>2</th>\n",
       "      <td>2</td>\n",
       "      <td></td>\n",
       "      <td>Neige normale Sn</td>\n",
       "      <td>Linéique</td>\n",
       "      <td>-19.285714</td>\n",
       "      <td>0/7000</td>\n",
       "      <td>Z</td>\n",
       "    </tr>\n",
       "    <tr>\n",
       "      <th>3</th>\n",
       "      <td>3</td>\n",
       "      <td></td>\n",
       "      <td>Exploitation Q</td>\n",
       "      <td>Linéique</td>\n",
       "      <td>-51.428571</td>\n",
       "      <td>0/7000</td>\n",
       "      <td>Z</td>\n",
       "    </tr>\n",
       "  </tbody>\n",
       "</table>\n",
       "</div>"
      ],
      "text/plain": [
       "   Index           Nom            Action      Type  Charge (daN ou daN/m)  \\\n",
       "0      1                    Permanente G  Linéique             -47.571429   \n",
       "1      0  Poids propre      Permanente G  Linéique             -14.322857   \n",
       "2      2                Neige normale Sn  Linéique             -19.285714   \n",
       "3      3                  Exploitation Q  Linéique             -51.428571   \n",
       "\n",
       "  Position (mm) Axe  \n",
       "0        0/7000   Z  \n",
       "1        0/7000   Z  \n",
       "2        0/7000   Z  \n",
       "3        0/7000   Z  "
      ]
     },
     "execution_count": 4,
     "metadata": {},
     "output_type": "execute_result"
    }
   ],
   "source": [
    "_list_loads = [Charge1, Charge2,Charge3, Charge4]\n",
    "pd.DataFrame(_list_loads, columns=[\"Index\", \"Nom\",\"Action\",\"Type\",\"Charge (daN ou daN/m)\",\"Position (mm)\",\"Axe\"])"
   ]
  },
  {
   "cell_type": "markdown",
   "metadata": {},
   "source": [
    "- <font color=\"blue\" size =\"4\">**Appuis**</font>"
   ]
  },
  {
   "cell_type": "code",
   "execution_count": 5,
   "metadata": {},
   "outputs": [],
   "source": [
    "listdeplacement = [[1, \"Rotule\", 0, 40], [2, \"Rotule\", 7000, 40]]"
   ]
  },
  {
   "cell_type": "code",
   "execution_count": 6,
   "metadata": {},
   "outputs": [
    {
     "data": {
      "text/html": [
       "<div>\n",
       "<style scoped>\n",
       "    .dataframe tbody tr th:only-of-type {\n",
       "        vertical-align: middle;\n",
       "    }\n",
       "\n",
       "    .dataframe tbody tr th {\n",
       "        vertical-align: top;\n",
       "    }\n",
       "\n",
       "    .dataframe thead th {\n",
       "        text-align: right;\n",
       "    }\n",
       "</style>\n",
       "<table border=\"1\" class=\"dataframe\">\n",
       "  <thead>\n",
       "    <tr style=\"text-align: right;\">\n",
       "      <th></th>\n",
       "      <th>Index</th>\n",
       "      <th>Type d'appuis</th>\n",
       "      <th>Position (mm)</th>\n",
       "      <th>Largeur d'appuis (mm)</th>\n",
       "    </tr>\n",
       "  </thead>\n",
       "  <tbody>\n",
       "    <tr>\n",
       "      <th>0</th>\n",
       "      <td>1</td>\n",
       "      <td>Rotule</td>\n",
       "      <td>0</td>\n",
       "      <td>40</td>\n",
       "    </tr>\n",
       "    <tr>\n",
       "      <th>1</th>\n",
       "      <td>2</td>\n",
       "      <td>Rotule</td>\n",
       "      <td>7000</td>\n",
       "      <td>40</td>\n",
       "    </tr>\n",
       "  </tbody>\n",
       "</table>\n",
       "</div>"
      ],
      "text/plain": [
       "   Index Type d'appuis  Position (mm)  Largeur d'appuis (mm)\n",
       "0      1        Rotule              0                     40\n",
       "1      2        Rotule           7000                     40"
      ]
     },
     "execution_count": 6,
     "metadata": {},
     "output_type": "execute_result"
    }
   ],
   "source": [
    "pd.DataFrame(listdeplacement, columns=[\"Index\",\"Type d'appuis\",\"Position (mm)\",\"Largeur d'appuis (mm)\"])"
   ]
  },
  {
   "cell_type": "markdown",
   "metadata": {},
   "source": [
    "- <font color=\"blue\" size =\"4\">**Dalle**</font>"
   ]
  },
  {
   "cell_type": "code",
   "execution_count": 7,
   "metadata": {},
   "outputs": [],
   "source": [
    "# app = QApplication()\n",
    "# disposition, ok = QInputDialog.getItem(\n",
    "#     None, \"Position des planches\", \"Position des planches :\", [\"Latérale\", \"Dessus / Dessous\"], 0, False, flags=Qt.FramelessWindowHint)\n",
    "\n",
    "# type_batiment, ok = QInputDialog.getItem(\n",
    "#     None, \"Type de bâtiment\", \"Type de bâtiment :\", [\"Bâtiments courants\", \"Bâtiments agricoles et similaires\"], 0, False, flags=Qt.FramelessWindowHint)"
   ]
  },
  {
   "cell_type": "code",
   "execution_count": 8,
   "metadata": {},
   "outputs": [],
   "source": [
    "#recouvrement (int):Cela correspond à la distance entre le centre géométrique de la pièce 2 et celui de la pièce i. ATTENTION z local est vers le bas quand vous donnez le recouvrement.\n",
    "#disposition : Correspond à la position des planches [\"Latérale\", \"Dessus / Dessous\"]\n",
    "#Type de bâtiment :[\"Bâtiments courants\", \"Bâtiments agricoles et similaires\"]"
   ]
  },
  {
   "cell_type": "code",
   "execution_count": 9,
   "metadata": {},
   "outputs": [
    {
     "data": {
      "text/latex": [
       "\\[\n",
       "\\begin{aligned}\n",
       "\\mathrm{code}_{INSEE} &= 73215 \\; \n",
       " &\\mathrm{alt} &= 1200 \\; \\;\\textrm{(m)}\n",
       " &\\mathrm{type}_{element} &= \\mathrm{Élément structuraux} \\; \n",
       "\\\\[10pt]\n",
       " \\mathrm{type}_{batiment} &= \\mathrm{Bâtiments courants} \\; \n",
       " &\\mathrm{categorie}_{batiment} &= \\mathrm{Cat A : habitation} \\; \n",
       " &\\mathrm{longueur} &= 7.00\\ \\mathrm{m} \\; \n",
       "\\\\[10pt]\n",
       " \\mathrm{disposition} &= \\mathrm{Latérale} \\; \n",
       " &\\mathrm{classe}_{service} &= 1 \\; \n",
       " &\\mathrm{humidite}_{initiale} &= 12 \\; \\;\\textrm{(pourcent)}\n",
       "\\\\[10pt]\n",
       " \\mathrm{humidite}_{finale} &= 12 \\; \\;\\textrm{(pourcent)}\n",
       " &\\mathrm{recouvrement} &= 180 \\; \\;\\textrm{(mm)}\n",
       " &\\mathrm{entraxe}_{connecteurs} &= 200 \\; \n",
       "\\\\[10pt]\n",
       " \\mathrm{deversement} &= False \\; \n",
       " &\\mathrm{flambement}_{y} &= False \\; \n",
       " &\\mathrm{flambement}_{z} &= False \\; \n",
       "\\\\[10pt]\n",
       "\\end{aligned}\n",
       "\\]"
      ],
      "text/plain": [
       "<IPython.core.display.Latex object>"
      ]
     },
     "metadata": {},
     "output_type": "display_data"
    }
   ],
   "source": [
    "%%render params 2\n",
    "code_INSEE = 73215\n",
    "alt = 1200 #m\n",
    "type_element = \"Élément structuraux\"\n",
    "type_batiment = \"Bâtiments courants\"\n",
    "categorie_batiment = \"Cat A : habitation\"\n",
    "longueur = 7000 * si.mm\n",
    "disposition = \"Latérale\"\n",
    "classe_service = 1\n",
    "humidite_initiale = 12 #pourcent\n",
    "humidite_finale = 12 #pourcent\n",
    "recouvrement = 180 #mm\n",
    "entraxe_connecteurs = 200 #\n",
    "deversement = False\n",
    "flambement_y = False\n",
    "flambement_z = False"
   ]
  },
  {
   "cell_type": "code",
   "execution_count": 10,
   "metadata": {},
   "outputs": [],
   "source": [
    "if deversement:\n",
    "    deversement = longueur.value*10**3\n",
    "else:\n",
    "    deversement = 0\n",
    "if flambement_y:\n",
    "    flambement_y = longueur.value*10**3\n",
    "else:\n",
    "    flambement_y = 0\n",
    "if flambement_z:\n",
    "    flambement_z = longueur.value*10**3\n",
    "else:\n",
    "    flambement_z = 0"
   ]
  },
  {
   "cell_type": "code",
   "execution_count": 11,
   "metadata": {},
   "outputs": [],
   "source": [
    "def calcs_number_node(long):\n",
    "        \"\"\"Retourne le nombre de d'élément pour le maillage MEF\n",
    "\n",
    "        Returns:\n",
    "            int: nombre d'élément MEF\n",
    "        \"\"\"\n",
    "        round_long = ceil(long/10)*10\n",
    "        \n",
    "        if round_long <= 1000:\n",
    "            ele = int(round_long/10)\n",
    "        elif round_long <= 10000:\n",
    "            ele = int(round_long/100)\n",
    "        else:\n",
    "            ele = int(round_long/200)\n",
    "        return ele\n",
    "    \n",
    "# node = 700\n",
    "node = calcs_number_node(longueur.value*10**3)"
   ]
  },
  {
   "cell_type": "markdown",
   "metadata": {},
   "source": [
    "- <font color=\"blue\" size =\"4\">**Planche basse**</font>"
   ]
  },
  {
   "cell_type": "code",
   "execution_count": 12,
   "metadata": {},
   "outputs": [
    {
     "data": {
      "text/latex": [
       "\\[\n",
       "\\begin{aligned}\n",
       "b_{planche_{basse}} &= 60.00\\ \\mathrm{mm} \\; \n",
       " &h_{planche_{basse}} &= 260.00\\ \\mathrm{mm} \\; \n",
       " &\\mathrm{classe}_{bois_{planche_{basse}}} &= \\mathrm{C24} \\; \n",
       "\\\\[10pt]\n",
       "\\end{aligned}\n",
       "\\]"
      ],
      "text/plain": [
       "<IPython.core.display.Latex object>"
      ]
     },
     "metadata": {},
     "output_type": "display_data"
    }
   ],
   "source": [
    "%%render params 2\n",
    "b_planche_basse = 60 * si.mm\n",
    "h_planche_basse = 260 * si.mm\n",
    "classe_bois_planche_basse = \"C24\"\n"
   ]
  },
  {
   "cell_type": "code",
   "execution_count": 13,
   "metadata": {},
   "outputs": [
    {
     "data": {
      "text/html": [
       "<div>\n",
       "<style scoped>\n",
       "    .dataframe tbody tr th:only-of-type {\n",
       "        vertical-align: middle;\n",
       "    }\n",
       "\n",
       "    .dataframe tbody tr th {\n",
       "        vertical-align: top;\n",
       "    }\n",
       "\n",
       "    .dataframe thead th {\n",
       "        text-align: right;\n",
       "    }\n",
       "</style>\n",
       "<table border=\"1\" class=\"dataframe\">\n",
       "  <thead>\n",
       "    <tr style=\"text-align: right;\">\n",
       "      <th></th>\n",
       "      <th>fm0k</th>\n",
       "      <th>ft0k</th>\n",
       "      <th>ft90k</th>\n",
       "      <th>fc0k</th>\n",
       "      <th>fc90k</th>\n",
       "      <th>fvk</th>\n",
       "      <th>E0mean</th>\n",
       "      <th>E005</th>\n",
       "      <th>E90mean</th>\n",
       "      <th>Gmoy</th>\n",
       "      <th>rhok</th>\n",
       "      <th>rhomean</th>\n",
       "    </tr>\n",
       "  </thead>\n",
       "  <tbody>\n",
       "    <tr>\n",
       "      <th>C24</th>\n",
       "      <td>24</td>\n",
       "      <td>14.5</td>\n",
       "      <td>0.4</td>\n",
       "      <td>21</td>\n",
       "      <td>2.5</td>\n",
       "      <td>4</td>\n",
       "      <td>11000</td>\n",
       "      <td>7400</td>\n",
       "      <td>370</td>\n",
       "      <td>690</td>\n",
       "      <td>350</td>\n",
       "      <td>420</td>\n",
       "    </tr>\n",
       "  </tbody>\n",
       "</table>\n",
       "</div>"
      ],
      "text/plain": [
       "    fm0k  ft0k ft90k fc0k fc90k fvk E0mean  E005 E90mean Gmoy rhok rhomean\n",
       "C24   24  14.5   0.4   21   2.5   4  11000  7400     370  690  350     420"
      ]
     },
     "execution_count": 13,
     "metadata": {},
     "output_type": "execute_result"
    }
   ],
   "source": [
    "projet = A0.Projet(code_INSEE=code_INSEE, alt= alt)\n",
    "chargement = EC0.Chargement._from_parent_class(projet)\n",
    "chargement.create_load_by_list(_list_loads)\n",
    "barre2 = EC5_Ass.Barre._from_parent_class(projet, b=b_planche_basse.value*10**3, h=h_planche_basse.value*10**3, section=\"Rectangulaire\", Hi=humidite_initiale, Hf=humidite_finale, classe=classe_bois_planche_basse, cs=classe_service, effet_systeme=\"False\")\n",
    "barre2_ELS = deepcopy(barre2)\n",
    "pd.DataFrame(barre2.caract_meca).T"
   ]
  },
  {
   "cell_type": "markdown",
   "metadata": {},
   "source": [
    "- <font color=\"blue\" size =\"4\">**Planche haute**</font>"
   ]
  },
  {
   "cell_type": "code",
   "execution_count": 14,
   "metadata": {},
   "outputs": [
    {
     "data": {
      "text/latex": [
       "\\[\n",
       "\\begin{aligned}\n",
       "b_{planche_{intermediaire}} &= 60.00\\ \\mathrm{mm} \\; \n",
       " &h_{planche_{intermediaire}} &= 260.00\\ \\mathrm{mm} \\; \n",
       " &\\mathrm{classe}_{bois_{planche_{intermediaire}}} &= \\mathrm{C24} \\; \n",
       "\\\\[10pt]\n",
       "\\end{aligned}\n",
       "\\]"
      ],
      "text/plain": [
       "<IPython.core.display.Latex object>"
      ]
     },
     "metadata": {},
     "output_type": "display_data"
    }
   ],
   "source": [
    "%%render params 2\n",
    "b_planche_intermediaire = 60 * si.mm\n",
    "h_planche_intermediaire = 260 * si.mm\n",
    "classe_bois_planche_intermediaire = \"C24\""
   ]
  },
  {
   "cell_type": "code",
   "execution_count": 15,
   "metadata": {},
   "outputs": [
    {
     "data": {
      "text/html": [
       "<div>\n",
       "<style scoped>\n",
       "    .dataframe tbody tr th:only-of-type {\n",
       "        vertical-align: middle;\n",
       "    }\n",
       "\n",
       "    .dataframe tbody tr th {\n",
       "        vertical-align: top;\n",
       "    }\n",
       "\n",
       "    .dataframe thead th {\n",
       "        text-align: right;\n",
       "    }\n",
       "</style>\n",
       "<table border=\"1\" class=\"dataframe\">\n",
       "  <thead>\n",
       "    <tr style=\"text-align: right;\">\n",
       "      <th></th>\n",
       "      <th>fm0k</th>\n",
       "      <th>ft0k</th>\n",
       "      <th>ft90k</th>\n",
       "      <th>fc0k</th>\n",
       "      <th>fc90k</th>\n",
       "      <th>fvk</th>\n",
       "      <th>E0mean</th>\n",
       "      <th>E005</th>\n",
       "      <th>E90mean</th>\n",
       "      <th>Gmoy</th>\n",
       "      <th>rhok</th>\n",
       "      <th>rhomean</th>\n",
       "    </tr>\n",
       "  </thead>\n",
       "  <tbody>\n",
       "    <tr>\n",
       "      <th>C24</th>\n",
       "      <td>24</td>\n",
       "      <td>14.5</td>\n",
       "      <td>0.4</td>\n",
       "      <td>21</td>\n",
       "      <td>2.5</td>\n",
       "      <td>4</td>\n",
       "      <td>11000</td>\n",
       "      <td>7400</td>\n",
       "      <td>370</td>\n",
       "      <td>690</td>\n",
       "      <td>350</td>\n",
       "      <td>420</td>\n",
       "    </tr>\n",
       "  </tbody>\n",
       "</table>\n",
       "</div>"
      ],
      "text/plain": [
       "    fm0k  ft0k ft90k fc0k fc90k fvk E0mean  E005 E90mean Gmoy rhok rhomean\n",
       "C24   24  14.5   0.4   21   2.5   4  11000  7400     370  690  350     420"
      ]
     },
     "execution_count": 15,
     "metadata": {},
     "output_type": "execute_result"
    }
   ],
   "source": [
    "barre3 = EC5_Ass.Barre._from_parent_class(projet, b=b_planche_intermediaire.value*10**3, h=h_planche_intermediaire.value*10**3, section=\"Rectangulaire\", Hi=humidite_initiale, Hf=humidite_finale, classe=classe_bois_planche_intermediaire, cs=classe_service, effet_systeme=\"False\")\n",
    "barre3_ELS = deepcopy(barre3)\n",
    "pd.DataFrame(barre3.caract_meca).T"
   ]
  },
  {
   "cell_type": "markdown",
   "metadata": {},
   "source": [
    "- <font color=\"blue\" size =\"4\">**Connecteurs**</font>"
   ]
  },
  {
   "cell_type": "code",
   "execution_count": 16,
   "metadata": {},
   "outputs": [
    {
     "data": {
      "text/latex": [
       "\\[\n",
       "\\begin{aligned}\n",
       "d &= 6.00\\ \\mathrm{mm} \\; \n",
       " &\\mathrm{d1} &= 3.90\\ \\mathrm{mm} \\; \n",
       " &\\mathrm{ds} &= 4.30\\ \\mathrm{mm} \\; \n",
       "\\\\[10pt]\n",
       " \\mathrm{dh} &= 12.00\\ \\mathrm{mm} \\; \n",
       " &l &= 200.00\\ \\mathrm{mm} \\; \n",
       " &\\rho_{a} &= 350.00\\ \\mathrm{kg} \\cdot \\mathrm{m}^{-3} \\; \n",
       "\\\\[10pt]\n",
       " \\mathrm{fhead} &= 10.50\\ \\mathrm{MPa} \\; \n",
       " &\\mathrm{ftensk} &= 11.30\\ \\mathrm{kN} \\; \n",
       " &f_{ax_{k}} &= 11.70\\ \\mathrm{MPa} \\; \n",
       "\\\\[10pt]\n",
       " \\mathrm{MyRk} &= 9.49\\ \\mathrm{N} \\cdot \\mathrm{m} \\; \n",
       " &\\mathrm{alpha1} &= 90 \\; \\;\\textrm{(°)}\n",
       " &\\mathrm{alpha2} &= 90 \\; \\;\\textrm{(°)}\n",
       "\\\\[10pt]\n",
       "\\end{aligned}\n",
       "\\]"
      ],
      "text/plain": [
       "<IPython.core.display.Latex object>"
      ]
     },
     "metadata": {},
     "output_type": "display_data"
    }
   ],
   "source": [
    "%%render params 2\n",
    "d = 6 * si.mm\n",
    "d1 = 3.9 * si.mm\n",
    "ds = 4.3 * si.mm\n",
    "dh = 12 * si.mm\n",
    "l = 200 * si.mm\n",
    "rho_a = 350 * si.kg / si.m**3\n",
    "fhead = 10.5 * si.MPa\n",
    "ftensk = 11300 * si.N\n",
    "f_ax_k = 11.7 *si.MPa\n",
    "MyRk = 9494 * si.N*si.mm\n",
    "alpha1 = 90 #°\n",
    "alpha2 = 90 #°"
   ]
  },
  {
   "cell_type": "code",
   "execution_count": 17,
   "metadata": {},
   "outputs": [
    {
     "name": "stderr",
     "output_type": "stream",
     "text": [
      "c:\\Users\\mamessier\\Desktop\\Projet python\\ECOTIM_Catalogue eurocode\\Eurocode\\catalog\\eurocode\\EC0_Combinaison.py:606: SettingWithCopyWarning: \n",
      "A value is trying to be set on a copy of a slice from a DataFrame\n",
      "\n",
      "See the caveats in the documentation: https://pandas.pydata.org/pandas-docs/stable/user_guide/indexing.html#returning-a-view-versus-a-copy\n",
      "  self.df_W_inst_Q.iloc[index,0] = name_combi\n"
     ]
    },
    {
     "name": "stdout",
     "output_type": "stream",
     "text": [
      "1512.0\n",
      "11.000 GPa\n",
      "0 13.472411397711467\n",
      "0.3849260399346133 20.828704640471074\n",
      "0.5951058468706021 22.73917054778441\n",
      "0.6496905870795545 16.02541068208813\n",
      "0.6496905870795545 21.668281585665483\n",
      "11.000 GPa\n"
     ]
    }
   ],
   "source": [
    "\n",
    "assemblage = EC5_Ass.Assemblage._from_parent_class(projet, beam_1=barre3, beam_2=barre2, nfile=1, nCis=1)\n",
    "\n",
    "#############   Vérification vis-boulon ou vis-pointe selon d_ef\n",
    "if d1.value*10**3*1.1 > 6:\n",
    "    connecteur = EC5_Ass.Tirefond_sup_6._from_parent_class(assemblage, d=d.value*10**3, d1=d1.value*10**3, ds=ds.value*10**3, dh=dh.value*10**3, l=l.value*10**3, n=1, rho_a=rho_a.value, fhead=fhead.value*10**-6, ftensk=ftensk.value, MyRk=MyRk.value*10**3, alpha1=alpha1, alpha2=alpha2)\n",
    "else:\n",
    "    connecteur = EC5_Ass.Tirefond_inf_7._from_parent_class(assemblage, d=d.value*10**3, d1=d1.value*10**3, ds=ds.value*10**3, dh=dh.value*10**3, l=l.value*10**3, n=1, rho_a=rho_a.value, fhead=fhead.value*10**-6, ftensk=ftensk.value, MyRk=MyRk.value*10**3, alpha1=alpha1, alpha2=alpha2, percage = True)\n",
    "\n",
    "\n",
    "\n",
    "#############   Kser assemblage\n",
    "Kser_ass = connecteur.Kser_ass\n",
    "dalle_ELU = EC5_Ele.Poutre_assemblee_meca(beam_2=barre2, l=longueur.value*10**3, disposition=disposition, recouvrement=[0,recouvrement], Ki=[None,None,2/3*Kser_ass[1].value*10**-3], entraxe=[None,None,entraxe_connecteurs], psy_2=0, beam_3=barre3)\n",
    "combinaison = A1.Combinaison._from_parent_class(chargement, ELU_STR=ELU_STR, ELU_STR_ACC=ELU_STR_ACC, ELS_C=ELS, ELS_QP=ELS, cat=categorie_batiment, kdef=dalle_ELU.K_def[1], type_psy_2= \"Long terme\")\n",
    "\n",
    "#############   Nombre efficace\n",
    "nef = connecteur.nef(a1_beam1=entraxe_connecteurs, a1_beam2=entraxe_connecteurs)\n",
    "\n",
    "#############   Résistance axiale\n",
    "FaxRk = connecteur.FaxRk(faxk=f_ax_k, l_ef=connecteur.t1, alpha=alpha1, beam=barre3)\n",
    "\n",
    "#############   Capacité résistante caractéristique par tige et par plan de cisaillement\n",
    "FvRk = connecteur.FvRk(True)\n",
    "\n",
    "\n",
    "l = int(ceil(dalle_ELU.l.value * 10**3))\n",
    "E_mean = int(barre2.E_mean_fin.value*10**-6)\n",
    "print(barre2.E_mean_fin)\n",
    "A = barre2.b * barre2.h + barre3.b * barre3.h\n",
    "A = A.value*10**6\n",
    "G = float(barre2.caract_meca.Gmoy)\n",
    "\n",
    "dict_combi = {}\n",
    "dict_taux_max = {type_verif: {\"combinaison\": \"\", \"taux\": 0} for type_verif in (\"flexion\", \"cisaillement\", \"Winst(Q)\", \"Wnet,fin\")}      \n",
    "        \n",
    "for combi in combinaison.get_list_combination():\n",
    "    combinaison.get_combi_list_load(combi)\n",
    "    dict_combi[combi]= {\"planche haute\": {}, \"planche intermédiaire/basse\": {}}\n",
    "    if combi[0:3] == 'ELU':\n",
    "        dalle = dalle_ELU\n",
    "        iy = dalle_ELU.EI_eff[1].value*10**6 / E_mean\n",
    "    else : \n",
    "        dalle_ELS = EC5_Ele.Poutre_assemblee_meca(beam_2=barre2_ELS, l=longueur.value*10**3, disposition=disposition, recouvrement=[0,recouvrement], Ki=[None,None,Kser_ass[1].value*10**-3], entraxe=[None,None,entraxe_connecteurs], psy_2=0, beam_3=barre3_ELS)\n",
    "        if combi[0:6] == 'ELS_QP' or combi[0:9] == 'W_net_fin':\n",
    "            dalle_ELS = EC5_Ele.Poutre_assemblee_meca(beam_2=barre2_ELS, l=longueur.value*10**3, disposition=disposition, recouvrement=[0,recouvrement], Ki=[None,None,Kser_ass[1].value*10**-3], entraxe=[None,None,entraxe_connecteurs], psy_2=1, beam_3=barre3_ELS)\n",
    "        E_mean_fin = int(barre2_ELS.E_mean_fin.value*10**-6)\n",
    "        dalle = dalle_ELS\n",
    "        iy = dalle_ELS.EI_eff[1].value*10**6 / E_mean_fin\n",
    "    dict_combi[combi][\"EF\"] = A1.MEF._from_parent_class(combinaison, long=l, E=E_mean, A=A, G=G, J=1, Iy=iy, Iz=1, ele=node, alphaZ=0, alphaY=0, alphaX=0)\n",
    "    dict_combi[combi][\"EF\"].create_supports_by_list(listdeplacement)\n",
    "    dict_combi[combi][\"EF\"].calcul_1D()\n",
    "    dict_combi[combi][\"EF\"]\n",
    "\n",
    "    for i, barre in enumerate([barre2,barre3]):\n",
    "        index_barre = i+2\n",
    "        if i==0:\n",
    "            dim_barre = \"planche haute\"\n",
    "        else:\n",
    "            dim_barre = \"planche intermédiaire/basse\"\n",
    "        \n",
    "        if combi[0:7] == 'ELU_STR':\n",
    "            action = dict_combi[combi][\"EF\"].min_type_load(combi)\n",
    "            barre2.K_mod = barre2.K_mod_table[action].iloc[0]\n",
    "            barre3.K_mod = barre3.K_mod_table[action].iloc[0]\n",
    "\n",
    "            dictEiMinMax = dict_combi[combi][\"EF\"].effort_interne_max()\n",
    "            max_XY_values = (dictEiMinMax[\"My_max\"][\"Position\"], dictEiMinMax[\"My_max\"][\"Effort\"])\n",
    "            min_XY_values = (dictEiMinMax[\"My_min\"][\"Position\"], dictEiMinMax[\"My_min\"][\"Effort\"])\n",
    "                \n",
    "            dict_effort_max = dict_combi[combi][\"EF\"].effort_interne_max()\n",
    "            V_z = max(dict_effort_max['Vz_max']['Effort'],abs(dict_effort_max['Vz_min']['Effort']))\n",
    "            tau_2 = dalle.tau_2_max(V_z)\n",
    "\n",
    "            M_y = max(dict_effort_max['My_max']['Effort'],abs(dict_effort_max['My_min']['Effort']))\n",
    "            sigma_i = dalle.sigma_i(M_y, beam=index_barre)\n",
    "            sigma_mi = dalle.sigma_mi(M_y, beam=index_barre)\n",
    "\n",
    "            dict_combi[combi][dim_barre][\"flexion\"] = EC5_Ele.Flexion._from_parent_class(barre, lo=deversement, coeflef=0.9, pos=\"Charge sur fibre comprimée\")\n",
    "            dict_combi[combi][dim_barre][\"flexion\"].sigma_m_rd = {'y': sigma_mi[1], 'z': 0 * si.MPa}\n",
    "            fmd = dict_combi[combi][dim_barre][\"flexion\"].f_m_d(action, \"Fondamentales\")\n",
    "\n",
    "            if sigma_i[1] < 0:\n",
    "                dict_combi[combi][dim_barre][\"compression\"] = EC5_Ele.Compression._from_parent_class(barre,  lo_y=flambement_y, lo_z=flambement_z, type_appuis= \"Rotule - Rotule\")\n",
    "                fc0d = dict_combi[combi][dim_barre][\"compression\"].f_c_0_d(action, \"Fondamentales\")\n",
    "                dict_combi[combi][dim_barre][\"compression\"].sigma_c_0_rd = abs(sigma_i[1])\n",
    "                taux_compression = dict_combi[combi][dim_barre][\"compression\"].taux_c_0_d()\n",
    "                compression=dict_combi[combi][dim_barre][\"compression\"]\n",
    "                traction=None\n",
    "            else:\n",
    "                dict_combi[combi][dim_barre][\"traction\"] = EC5_Ele.Traction._from_parent_class(barre)\n",
    "                ft0d = dict_combi[combi][dim_barre][\"traction\"].f_t_0_d(action, \"Fondamentales\")\n",
    "                dict_combi[combi][dim_barre][\"traction\"].sigma_t_0_rd = sigma_i[1]\n",
    "                taux_traction = dict_combi[combi][dim_barre][\"traction\"].taux_t_0_d()\n",
    "                traction=dict_combi[combi][dim_barre][\"traction\"]\n",
    "                compression=None\n",
    "                \n",
    "            taux_flexion = dict_combi[combi][dim_barre][\"flexion\"].taux_m_d(compression=compression, traction=traction)    \n",
    "            dict_combi[combi][dim_barre][\"cisaillement\"] = EC5_Ele.Cisaillement._from_parent_class(barre)\n",
    "            dict_combi[combi][dim_barre][\"cisaillement\"].tau_rd = tau_2[1]\n",
    "            fmd = dict_combi[combi][dim_barre][\"cisaillement\"].f_v_d(action, \"Fondamentales\")\n",
    "            taux_cisaillement = dict_combi[combi][dim_barre][\"cisaillement\"].taux_tau_d()\n",
    "            \n",
    "            dict_taux_flexion = dict_combi[combi][dim_barre][\"flexion\"].taux_m_rd\n",
    "            max_taux_flexion = max(dict_taux_flexion.items(), key=operator.itemgetter(1))[1]\n",
    "            \n",
    "            if max_taux_flexion > dict_taux_max[\"flexion\"][\"taux\"]:\n",
    "                dict_taux_max[\"flexion\"][\"combinaison\"] = combi\n",
    "                dict_taux_max[\"flexion\"][\"taux\"] = max_taux_flexion\n",
    "            \n",
    "            dict_taux_cisaillement = dict_combi[combi][dim_barre][\"cisaillement\"].taux_tau_rd\n",
    "            max_taux_cisaillement = max(dict_taux_cisaillement.items(), key=operator.itemgetter(1))[1]\n",
    "            \n",
    "            if max_taux_cisaillement > dict_taux_max[\"cisaillement\"][\"taux\"]:\n",
    "                dict_taux_max[\"cisaillement\"][\"combinaison\"] = combi\n",
    "                dict_taux_max[\"cisaillement\"][\"taux\"] = max_taux_cisaillement\n",
    "            \n",
    "                \n",
    "    if combi[0:6] == 'W_inst':\n",
    "        dictUMinMax = dict_combi[combi][\"EF\"].deplacement_max()\n",
    "        max_XY_values = (dictUMinMax[\"Uz_max\"][0], dictUMinMax[\"Uz_max\"][1])\n",
    "        min_XY_values = (dictUMinMax[\"Uz_min\"][0], dictUMinMax[\"Uz_min\"][1])\n",
    "        \n",
    "        fleche_max = max(dictUMinMax['Uz_max'][0],abs(dictUMinMax['Uz_min'][1]))\n",
    "        barre2_ELS.fleche(long=l, Ed_WinstQ=fleche_max, type_ele=type_element, type_bat=type_batiment)\n",
    "        if barre2_ELS.taux_ELS[\"Winst(Q)\"] > dict_taux_max[\"Winst(Q)\"][\"taux\"]:\n",
    "            dict_taux_max[\"Winst(Q)\"][\"combinaison\"] = combi\n",
    "            dict_taux_max[\"Winst(Q)\"][\"taux\"] = barre2_ELS.taux_ELS[\"Winst(Q)\"]\n",
    "            \n",
    "    if combi[0:9] == 'W_net_fin':\n",
    "        dictUMinMax = dict_combi[combi][\"EF\"].deplacement_max()\n",
    "        max_XY_values = (dictUMinMax[\"Uz_max\"][0], dictUMinMax[\"Uz_max\"][1])\n",
    "        min_XY_values = (dictUMinMax[\"Uz_min\"][0], dictUMinMax[\"Uz_min\"][1])\n",
    "        \n",
    "        fleche_max = max(dictUMinMax['Uz_max'][0],abs(dictUMinMax['Uz_min'][1]))\n",
    "        barre2_ELS.fleche(long=l, Ed_Wnetfin=fleche_max, type_ele=type_element, type_bat=type_batiment)\n",
    "        print(dict_taux_max[\"Wnet,fin\"][\"taux\"], fleche_max)\n",
    "        if barre2_ELS.taux_ELS[\"Wnet,fin\"] > dict_taux_max[\"Wnet,fin\"][\"taux\"]:\n",
    "            dict_taux_max[\"Wnet,fin\"][\"combinaison\"] = combi\n",
    "            dict_taux_max[\"Wnet,fin\"][\"taux\"] = barre2_ELS.taux_ELS[\"Wnet,fin\"]\n",
    "print(barre2.E_mean_fin)\n",
    "                \n"
   ]
  },
  {
   "cell_type": "markdown",
   "metadata": {},
   "source": [
    "## 3. Combinaisons d'action\n",
    "---"
   ]
  },
  {
   "cell_type": "code",
   "execution_count": 18,
   "metadata": {},
   "outputs": [
    {
     "data": {
      "text/html": [
       "<div>\n",
       "<style scoped>\n",
       "    .dataframe tbody tr th:only-of-type {\n",
       "        vertical-align: middle;\n",
       "    }\n",
       "\n",
       "    .dataframe tbody tr th {\n",
       "        vertical-align: top;\n",
       "    }\n",
       "\n",
       "    .dataframe thead th {\n",
       "        text-align: right;\n",
       "    }\n",
       "</style>\n",
       "<table border=\"1\" class=\"dataframe\">\n",
       "  <thead>\n",
       "    <tr style=\"text-align: right;\">\n",
       "      <th></th>\n",
       "      <th>Combinaison</th>\n",
       "    </tr>\n",
       "  </thead>\n",
       "  <tbody>\n",
       "    <tr>\n",
       "      <th>0</th>\n",
       "      <td>ELS_C G</td>\n",
       "    </tr>\n",
       "    <tr>\n",
       "      <th>1</th>\n",
       "      <td>ELS_C G + Q</td>\n",
       "    </tr>\n",
       "    <tr>\n",
       "      <th>2</th>\n",
       "      <td>ELS_C G + Q + 0.7Sn</td>\n",
       "    </tr>\n",
       "    <tr>\n",
       "      <th>3</th>\n",
       "      <td>ELS_C G + Sn</td>\n",
       "    </tr>\n",
       "    <tr>\n",
       "      <th>4</th>\n",
       "      <td>ELS_C G + Sn + 0.7Q</td>\n",
       "    </tr>\n",
       "    <tr>\n",
       "      <th>5</th>\n",
       "      <td>ELS_QP G</td>\n",
       "    </tr>\n",
       "    <tr>\n",
       "      <th>6</th>\n",
       "      <td>ELS_QP G + 0.2Sn</td>\n",
       "    </tr>\n",
       "    <tr>\n",
       "      <th>7</th>\n",
       "      <td>ELS_QP G + 0.3Q</td>\n",
       "    </tr>\n",
       "    <tr>\n",
       "      <th>8</th>\n",
       "      <td>ELS_QP G + 0.3Q + 0.2Sn</td>\n",
       "    </tr>\n",
       "    <tr>\n",
       "      <th>9</th>\n",
       "      <td>ELU_STR 1.35G</td>\n",
       "    </tr>\n",
       "    <tr>\n",
       "      <th>10</th>\n",
       "      <td>ELU_STR 1.35G + 1.5Q</td>\n",
       "    </tr>\n",
       "    <tr>\n",
       "      <th>11</th>\n",
       "      <td>ELU_STR 1.35G + 1.5Q + 1.05Sn</td>\n",
       "    </tr>\n",
       "    <tr>\n",
       "      <th>12</th>\n",
       "      <td>ELU_STR 1.35G + 1.5Sn</td>\n",
       "    </tr>\n",
       "    <tr>\n",
       "      <th>13</th>\n",
       "      <td>ELU_STR 1.35G + 1.5Sn + 1.05Q</td>\n",
       "    </tr>\n",
       "    <tr>\n",
       "      <th>14</th>\n",
       "      <td>ELU_STR G</td>\n",
       "    </tr>\n",
       "    <tr>\n",
       "      <th>15</th>\n",
       "      <td>ELU_STR Q</td>\n",
       "    </tr>\n",
       "    <tr>\n",
       "      <th>16</th>\n",
       "      <td>ELU_STR Sn</td>\n",
       "    </tr>\n",
       "    <tr>\n",
       "      <th>17</th>\n",
       "      <td>W_inst Q</td>\n",
       "    </tr>\n",
       "    <tr>\n",
       "      <th>18</th>\n",
       "      <td>W_inst Q + 0.7Sn</td>\n",
       "    </tr>\n",
       "    <tr>\n",
       "      <th>19</th>\n",
       "      <td>W_inst Sn</td>\n",
       "    </tr>\n",
       "    <tr>\n",
       "      <th>20</th>\n",
       "      <td>W_inst Sn + 0.7Q</td>\n",
       "    </tr>\n",
       "    <tr>\n",
       "      <th>21</th>\n",
       "      <td>W_net_fin ELS_C G &amp; ELS_QP G</td>\n",
       "    </tr>\n",
       "    <tr>\n",
       "      <th>22</th>\n",
       "      <td>W_net_fin ELS_C G + Q &amp; ELS_QP G + 0.3Q</td>\n",
       "    </tr>\n",
       "    <tr>\n",
       "      <th>23</th>\n",
       "      <td>W_net_fin ELS_C G + Q + 0.7Sn &amp; ELS_QP G + 0.3...</td>\n",
       "    </tr>\n",
       "    <tr>\n",
       "      <th>24</th>\n",
       "      <td>W_net_fin ELS_C G + Sn &amp; ELS_QP G + 0.2Sn</td>\n",
       "    </tr>\n",
       "    <tr>\n",
       "      <th>25</th>\n",
       "      <td>W_net_fin ELS_C G + Sn + 0.7Q &amp; ELS_QP G + 0.3...</td>\n",
       "    </tr>\n",
       "  </tbody>\n",
       "</table>\n",
       "</div>"
      ],
      "text/plain": [
       "                                          Combinaison\n",
       "0                                             ELS_C G\n",
       "1                                         ELS_C G + Q\n",
       "2                                 ELS_C G + Q + 0.7Sn\n",
       "3                                        ELS_C G + Sn\n",
       "4                                 ELS_C G + Sn + 0.7Q\n",
       "5                                            ELS_QP G\n",
       "6                                    ELS_QP G + 0.2Sn\n",
       "7                                     ELS_QP G + 0.3Q\n",
       "8                             ELS_QP G + 0.3Q + 0.2Sn\n",
       "9                                       ELU_STR 1.35G\n",
       "10                               ELU_STR 1.35G + 1.5Q\n",
       "11                      ELU_STR 1.35G + 1.5Q + 1.05Sn\n",
       "12                              ELU_STR 1.35G + 1.5Sn\n",
       "13                      ELU_STR 1.35G + 1.5Sn + 1.05Q\n",
       "14                                          ELU_STR G\n",
       "15                                          ELU_STR Q\n",
       "16                                         ELU_STR Sn\n",
       "17                                           W_inst Q\n",
       "18                                   W_inst Q + 0.7Sn\n",
       "19                                          W_inst Sn\n",
       "20                                   W_inst Sn + 0.7Q\n",
       "21                       W_net_fin ELS_C G & ELS_QP G\n",
       "22            W_net_fin ELS_C G + Q & ELS_QP G + 0.3Q\n",
       "23  W_net_fin ELS_C G + Q + 0.7Sn & ELS_QP G + 0.3...\n",
       "24          W_net_fin ELS_C G + Sn & ELS_QP G + 0.2Sn\n",
       "25  W_net_fin ELS_C G + Sn + 0.7Q & ELS_QP G + 0.3..."
      ]
     },
     "execution_count": 18,
     "metadata": {},
     "output_type": "execute_result"
    }
   ],
   "source": [
    "pd.DataFrame(combinaison.list_combination)"
   ]
  },
  {
   "cell_type": "code",
   "execution_count": 19,
   "metadata": {},
   "outputs": [
    {
     "data": {
      "text/html": [
       "<div>\n",
       "<style scoped>\n",
       "    .dataframe tbody tr th:only-of-type {\n",
       "        vertical-align: middle;\n",
       "    }\n",
       "\n",
       "    .dataframe tbody tr th {\n",
       "        vertical-align: top;\n",
       "    }\n",
       "\n",
       "    .dataframe thead th {\n",
       "        text-align: right;\n",
       "    }\n",
       "</style>\n",
       "<table border=\"1\" class=\"dataframe\">\n",
       "  <thead>\n",
       "    <tr style=\"text-align: right;\">\n",
       "      <th></th>\n",
       "      <th>Combinaison</th>\n",
       "      <th>Index</th>\n",
       "      <th>Nom</th>\n",
       "      <th>Action</th>\n",
       "      <th>Type</th>\n",
       "      <th>Valeur</th>\n",
       "      <th>Position</th>\n",
       "      <th>Axe</th>\n",
       "    </tr>\n",
       "  </thead>\n",
       "  <tbody>\n",
       "    <tr>\n",
       "      <th>0</th>\n",
       "      <td>ELU_STR 1.35G</td>\n",
       "      <td>1</td>\n",
       "      <td></td>\n",
       "      <td>Permanente G</td>\n",
       "      <td>Linéique</td>\n",
       "      <td>-64.221429</td>\n",
       "      <td>0/7000</td>\n",
       "      <td>Z</td>\n",
       "    </tr>\n",
       "    <tr>\n",
       "      <th>1</th>\n",
       "      <td>ELU_STR 1.35G</td>\n",
       "      <td>0</td>\n",
       "      <td>Poids propre</td>\n",
       "      <td>Permanente G</td>\n",
       "      <td>Linéique</td>\n",
       "      <td>-19.335857</td>\n",
       "      <td>0/7000</td>\n",
       "      <td>Z</td>\n",
       "    </tr>\n",
       "    <tr>\n",
       "      <th>2</th>\n",
       "      <td>ELU_STR 1.35G + 1.5Q</td>\n",
       "      <td>1</td>\n",
       "      <td></td>\n",
       "      <td>Permanente G</td>\n",
       "      <td>Linéique</td>\n",
       "      <td>-64.221429</td>\n",
       "      <td>0/7000</td>\n",
       "      <td>Z</td>\n",
       "    </tr>\n",
       "    <tr>\n",
       "      <th>3</th>\n",
       "      <td>ELU_STR 1.35G + 1.5Q</td>\n",
       "      <td>3</td>\n",
       "      <td></td>\n",
       "      <td>Exploitation Q</td>\n",
       "      <td>Linéique</td>\n",
       "      <td>-77.142857</td>\n",
       "      <td>0/7000</td>\n",
       "      <td>Z</td>\n",
       "    </tr>\n",
       "    <tr>\n",
       "      <th>4</th>\n",
       "      <td>ELU_STR 1.35G + 1.5Q</td>\n",
       "      <td>0</td>\n",
       "      <td>Poids propre</td>\n",
       "      <td>Permanente G</td>\n",
       "      <td>Linéique</td>\n",
       "      <td>-19.335857</td>\n",
       "      <td>0/7000</td>\n",
       "      <td>Z</td>\n",
       "    </tr>\n",
       "    <tr>\n",
       "      <th>5</th>\n",
       "      <td>ELU_STR 1.35G + 1.5Q + 1.05Sn</td>\n",
       "      <td>0</td>\n",
       "      <td>Poids propre</td>\n",
       "      <td>Permanente G</td>\n",
       "      <td>Linéique</td>\n",
       "      <td>-19.335857</td>\n",
       "      <td>0/7000</td>\n",
       "      <td>Z</td>\n",
       "    </tr>\n",
       "    <tr>\n",
       "      <th>6</th>\n",
       "      <td>ELU_STR 1.35G + 1.5Q + 1.05Sn</td>\n",
       "      <td>1</td>\n",
       "      <td></td>\n",
       "      <td>Permanente G</td>\n",
       "      <td>Linéique</td>\n",
       "      <td>-64.221429</td>\n",
       "      <td>0/7000</td>\n",
       "      <td>Z</td>\n",
       "    </tr>\n",
       "    <tr>\n",
       "      <th>7</th>\n",
       "      <td>ELU_STR 1.35G + 1.5Q + 1.05Sn</td>\n",
       "      <td>3</td>\n",
       "      <td></td>\n",
       "      <td>Exploitation Q</td>\n",
       "      <td>Linéique</td>\n",
       "      <td>-77.142857</td>\n",
       "      <td>0/7000</td>\n",
       "      <td>Z</td>\n",
       "    </tr>\n",
       "    <tr>\n",
       "      <th>8</th>\n",
       "      <td>ELU_STR 1.35G + 1.5Q + 1.05Sn</td>\n",
       "      <td>2</td>\n",
       "      <td></td>\n",
       "      <td>Neige normale Sn</td>\n",
       "      <td>Linéique</td>\n",
       "      <td>-20.25</td>\n",
       "      <td>0/7000</td>\n",
       "      <td>Z</td>\n",
       "    </tr>\n",
       "    <tr>\n",
       "      <th>9</th>\n",
       "      <td>ELU_STR 1.35G + 1.5Sn</td>\n",
       "      <td>1</td>\n",
       "      <td></td>\n",
       "      <td>Permanente G</td>\n",
       "      <td>Linéique</td>\n",
       "      <td>-64.221429</td>\n",
       "      <td>0/7000</td>\n",
       "      <td>Z</td>\n",
       "    </tr>\n",
       "    <tr>\n",
       "      <th>10</th>\n",
       "      <td>ELU_STR 1.35G + 1.5Sn</td>\n",
       "      <td>0</td>\n",
       "      <td>Poids propre</td>\n",
       "      <td>Permanente G</td>\n",
       "      <td>Linéique</td>\n",
       "      <td>-19.335857</td>\n",
       "      <td>0/7000</td>\n",
       "      <td>Z</td>\n",
       "    </tr>\n",
       "    <tr>\n",
       "      <th>11</th>\n",
       "      <td>ELU_STR 1.35G + 1.5Sn</td>\n",
       "      <td>2</td>\n",
       "      <td></td>\n",
       "      <td>Neige normale Sn</td>\n",
       "      <td>Linéique</td>\n",
       "      <td>-28.928571</td>\n",
       "      <td>0/7000</td>\n",
       "      <td>Z</td>\n",
       "    </tr>\n",
       "    <tr>\n",
       "      <th>12</th>\n",
       "      <td>ELU_STR 1.35G + 1.5Sn + 1.05Q</td>\n",
       "      <td>2</td>\n",
       "      <td></td>\n",
       "      <td>Neige normale Sn</td>\n",
       "      <td>Linéique</td>\n",
       "      <td>-28.928571</td>\n",
       "      <td>0/7000</td>\n",
       "      <td>Z</td>\n",
       "    </tr>\n",
       "    <tr>\n",
       "      <th>13</th>\n",
       "      <td>ELU_STR 1.35G + 1.5Sn + 1.05Q</td>\n",
       "      <td>3</td>\n",
       "      <td></td>\n",
       "      <td>Exploitation Q</td>\n",
       "      <td>Linéique</td>\n",
       "      <td>-54.0</td>\n",
       "      <td>0/7000</td>\n",
       "      <td>Z</td>\n",
       "    </tr>\n",
       "    <tr>\n",
       "      <th>14</th>\n",
       "      <td>ELU_STR 1.35G + 1.5Sn + 1.05Q</td>\n",
       "      <td>0</td>\n",
       "      <td>Poids propre</td>\n",
       "      <td>Permanente G</td>\n",
       "      <td>Linéique</td>\n",
       "      <td>-19.335857</td>\n",
       "      <td>0/7000</td>\n",
       "      <td>Z</td>\n",
       "    </tr>\n",
       "    <tr>\n",
       "      <th>15</th>\n",
       "      <td>ELU_STR 1.35G + 1.5Sn + 1.05Q</td>\n",
       "      <td>1</td>\n",
       "      <td></td>\n",
       "      <td>Permanente G</td>\n",
       "      <td>Linéique</td>\n",
       "      <td>-64.221429</td>\n",
       "      <td>0/7000</td>\n",
       "      <td>Z</td>\n",
       "    </tr>\n",
       "    <tr>\n",
       "      <th>16</th>\n",
       "      <td>ELU_STR G</td>\n",
       "      <td>0</td>\n",
       "      <td>Poids propre</td>\n",
       "      <td>Permanente G</td>\n",
       "      <td>Linéique</td>\n",
       "      <td>-14.322857</td>\n",
       "      <td>0/7000</td>\n",
       "      <td>Z</td>\n",
       "    </tr>\n",
       "    <tr>\n",
       "      <th>17</th>\n",
       "      <td>ELU_STR G</td>\n",
       "      <td>1</td>\n",
       "      <td></td>\n",
       "      <td>Permanente G</td>\n",
       "      <td>Linéique</td>\n",
       "      <td>-47.571429</td>\n",
       "      <td>0/7000</td>\n",
       "      <td>Z</td>\n",
       "    </tr>\n",
       "    <tr>\n",
       "      <th>18</th>\n",
       "      <td>ELU_STR Q</td>\n",
       "      <td>3</td>\n",
       "      <td></td>\n",
       "      <td>Exploitation Q</td>\n",
       "      <td>Linéique</td>\n",
       "      <td>-51.428571</td>\n",
       "      <td>0/7000</td>\n",
       "      <td>Z</td>\n",
       "    </tr>\n",
       "    <tr>\n",
       "      <th>19</th>\n",
       "      <td>ELU_STR Sn</td>\n",
       "      <td>2</td>\n",
       "      <td></td>\n",
       "      <td>Neige normale Sn</td>\n",
       "      <td>Linéique</td>\n",
       "      <td>-19.285714</td>\n",
       "      <td>0/7000</td>\n",
       "      <td>Z</td>\n",
       "    </tr>\n",
       "  </tbody>\n",
       "</table>\n",
       "</div>"
      ],
      "text/plain": [
       "                      Combinaison Index           Nom            Action  \\\n",
       "0                   ELU_STR 1.35G     1                    Permanente G   \n",
       "1                   ELU_STR 1.35G     0  Poids propre      Permanente G   \n",
       "2            ELU_STR 1.35G + 1.5Q     1                    Permanente G   \n",
       "3            ELU_STR 1.35G + 1.5Q     3                  Exploitation Q   \n",
       "4            ELU_STR 1.35G + 1.5Q     0  Poids propre      Permanente G   \n",
       "5   ELU_STR 1.35G + 1.5Q + 1.05Sn     0  Poids propre      Permanente G   \n",
       "6   ELU_STR 1.35G + 1.5Q + 1.05Sn     1                    Permanente G   \n",
       "7   ELU_STR 1.35G + 1.5Q + 1.05Sn     3                  Exploitation Q   \n",
       "8   ELU_STR 1.35G + 1.5Q + 1.05Sn     2                Neige normale Sn   \n",
       "9           ELU_STR 1.35G + 1.5Sn     1                    Permanente G   \n",
       "10          ELU_STR 1.35G + 1.5Sn     0  Poids propre      Permanente G   \n",
       "11          ELU_STR 1.35G + 1.5Sn     2                Neige normale Sn   \n",
       "12  ELU_STR 1.35G + 1.5Sn + 1.05Q     2                Neige normale Sn   \n",
       "13  ELU_STR 1.35G + 1.5Sn + 1.05Q     3                  Exploitation Q   \n",
       "14  ELU_STR 1.35G + 1.5Sn + 1.05Q     0  Poids propre      Permanente G   \n",
       "15  ELU_STR 1.35G + 1.5Sn + 1.05Q     1                    Permanente G   \n",
       "16                      ELU_STR G     0  Poids propre      Permanente G   \n",
       "17                      ELU_STR G     1                    Permanente G   \n",
       "18                      ELU_STR Q     3                  Exploitation Q   \n",
       "19                     ELU_STR Sn     2                Neige normale Sn   \n",
       "\n",
       "        Type     Valeur Position Axe  \n",
       "0   Linéique -64.221429   0/7000   Z  \n",
       "1   Linéique -19.335857   0/7000   Z  \n",
       "2   Linéique -64.221429   0/7000   Z  \n",
       "3   Linéique -77.142857   0/7000   Z  \n",
       "4   Linéique -19.335857   0/7000   Z  \n",
       "5   Linéique -19.335857   0/7000   Z  \n",
       "6   Linéique -64.221429   0/7000   Z  \n",
       "7   Linéique -77.142857   0/7000   Z  \n",
       "8   Linéique     -20.25   0/7000   Z  \n",
       "9   Linéique -64.221429   0/7000   Z  \n",
       "10  Linéique -19.335857   0/7000   Z  \n",
       "11  Linéique -28.928571   0/7000   Z  \n",
       "12  Linéique -28.928571   0/7000   Z  \n",
       "13  Linéique      -54.0   0/7000   Z  \n",
       "14  Linéique -19.335857   0/7000   Z  \n",
       "15  Linéique -64.221429   0/7000   Z  \n",
       "16  Linéique -14.322857   0/7000   Z  \n",
       "17  Linéique -47.571429   0/7000   Z  \n",
       "18  Linéique -51.428571   0/7000   Z  \n",
       "19  Linéique -19.285714   0/7000   Z  "
      ]
     },
     "execution_count": 19,
     "metadata": {},
     "output_type": "execute_result"
    }
   ],
   "source": [
    "combinaison.df_load_ELUSTR"
   ]
  },
  {
   "cell_type": "markdown",
   "metadata": {},
   "source": [
    "## 4. Rigidité efficace de la poutre assemblée mécaniquement\n",
    "----"
   ]
  },
  {
   "cell_type": "markdown",
   "metadata": {},
   "source": [
    "- <font color=\"blue\" size =\"4\">**Kser par vis et par plan de cisaillement**</font>"
   ]
  },
  {
   "cell_type": "code",
   "execution_count": 20,
   "metadata": {},
   "outputs": [
    {
     "data": {
      "text/latex": [
       "\\[\n",
       "\\begin{aligned}\n",
       "K_{ser} &= \\left( \\rho_{mean} \\right) ^{ 1.5 } \\cdot \\frac{ d }{ 23 }  = \\left( 420.00 \\right) ^{ 1.5 } \\cdot \\frac{ 4.29 }{ 23 } &= 1605.47 \\; \\;\\textrm{(N/mm)}\n",
       "\\end{aligned}\n",
       "\\]"
      ],
      "text/plain": [
       "<IPython.core.display.Latex object>"
      ]
     },
     "metadata": {},
     "output_type": "display_data"
    }
   ],
   "source": [
    "display(Latex(connecteur.Kser[0]))"
   ]
  },
  {
   "cell_type": "markdown",
   "metadata": {},
   "source": [
    "- <font color=\"blue\" size =\"4\">**Kser assemblage**</font>"
   ]
  },
  {
   "cell_type": "code",
   "execution_count": 21,
   "metadata": {},
   "outputs": [
    {
     "data": {
      "text/latex": [
       "\\[\n",
       "\\begin{aligned}\n",
       "\\mathrm{kser}_{ass} &= K_{ser} \\cdot n_{file} \\cdot n \\cdot n_{Cis} \\cdot k_{type}  = 1.605\\ \\mathrm{MN/m} \\cdot 1 \\cdot 1 \\cdot 1 \\cdot 1 &= 1.605\\ \\mathrm{MN/m}  \n",
       "\\end{aligned}\n",
       "\\]"
      ],
      "text/plain": [
       "<IPython.core.display.Latex object>"
      ]
     },
     "metadata": {},
     "output_type": "display_data"
    }
   ],
   "source": [
    "display(Latex(Kser_ass[0]))"
   ]
  },
  {
   "cell_type": "markdown",
   "metadata": {},
   "source": [
    "- <font color=\"blue\" size =\"4\">**Kser final tenant compte du fluage**</font>"
   ]
  },
  {
   "cell_type": "code",
   "execution_count": 22,
   "metadata": {},
   "outputs": [
    {
     "data": {
      "text/latex": [
       "\\[\n",
       "\\begin{aligned}\n",
       "\\end{aligned}\n",
       "\\]"
      ],
      "text/plain": [
       "<IPython.core.display.Latex object>"
      ]
     },
     "metadata": {},
     "output_type": "display_data"
    }
   ],
   "source": [
    "display(Latex(dalle_ELU.Ki_fin[\"Ki fin 2-3\"][0]))"
   ]
  },
  {
   "cell_type": "markdown",
   "metadata": {},
   "source": [
    "- <font color=\"blue\" size =\"4\">**Gamma, facteur de glissement des connecteurs**</font>"
   ]
  },
  {
   "cell_type": "code",
   "execution_count": 23,
   "metadata": {},
   "outputs": [
    {
     "data": {
      "text/latex": [
       "\\[\n",
       "\\begin{aligned}\n",
       "\\gamma_{i} &= \\left( 1 + \\left( \\pi \\right) ^{ 2 } \\cdot E_{mean_{fin}} \\cdot A \\cdot \\frac{ \\mathrm{entraxe} }{ K_{i_{fin}} \\cdot \\left( \\mathrm{lo} \\right) ^{ 2 } } \\right) ^{ \\left( - 1 \\right) }  = \\left( 1 + \\left( 3.14 \\right) ^{ 2 } \\cdot 11000.00 \\cdot 15600.00 \\cdot \\frac{ 200.00 }{ 1070.32 \\cdot \\left( 7000.00 \\right) ^{ 2 } } \\right) ^{ \\left( - 1 \\right) } &= 0.13  \n",
       "\\end{aligned}\n",
       "\\]"
      ],
      "text/plain": [
       "<IPython.core.display.Latex object>"
      ]
     },
     "metadata": {},
     "output_type": "display_data"
    }
   ],
   "source": [
    "display(Latex(dalle_ELU.gamma_i[\"gamma 3\"][0]))"
   ]
  },
  {
   "cell_type": "code",
   "execution_count": 24,
   "metadata": {},
   "outputs": [
    {
     "data": {
      "text/latex": [
       "\\[\n",
       "\\begin{aligned}\n",
       "\\gamma_{2} &= 1 \\;\n",
       "\\end{aligned}\n",
       "\\]"
      ],
      "text/plain": [
       "<IPython.core.display.Latex object>"
      ]
     },
     "metadata": {},
     "output_type": "display_data"
    }
   ],
   "source": [
    "%%render params 0\n",
    "\n",
    "gamma_2 = 1"
   ]
  },
  {
   "cell_type": "markdown",
   "metadata": {},
   "source": [
    "- <font color=\"blue\" size =\"4\">**Distance de l'axe de la pièce par rapport à l'axe neutre de l'assemblage**</font>"
   ]
  },
  {
   "cell_type": "code",
   "execution_count": 25,
   "metadata": {},
   "outputs": [
    {
     "data": {
      "text/html": [
       "<div>\n",
       "<style scoped>\n",
       "    .dataframe tbody tr th:only-of-type {\n",
       "        vertical-align: middle;\n",
       "    }\n",
       "\n",
       "    .dataframe tbody tr th {\n",
       "        vertical-align: top;\n",
       "    }\n",
       "\n",
       "    .dataframe thead th {\n",
       "        text-align: right;\n",
       "    }\n",
       "</style>\n",
       "<table border=\"1\" class=\"dataframe\">\n",
       "  <thead>\n",
       "    <tr style=\"text-align: right;\">\n",
       "      <th></th>\n",
       "      <th>Planche</th>\n",
       "      <th>Distance à l'axe neutre</th>\n",
       "    </tr>\n",
       "  </thead>\n",
       "  <tbody>\n",
       "    <tr>\n",
       "      <th>0</th>\n",
       "      <td>Planche haute</td>\n",
       "      <td>-21.280 mm</td>\n",
       "    </tr>\n",
       "    <tr>\n",
       "      <th>1</th>\n",
       "      <td>Planche intermédiaire/basse</td>\n",
       "      <td>158.720 mm</td>\n",
       "    </tr>\n",
       "  </tbody>\n",
       "</table>\n",
       "</div>"
      ],
      "text/plain": [
       "                       Planche Distance à l'axe neutre\n",
       "0                Planche haute              -21.280 mm\n",
       "1  Planche intermédiaire/basse              158.720 mm"
      ]
     },
     "execution_count": 25,
     "metadata": {},
     "output_type": "execute_result"
    }
   ],
   "source": [
    "data = {\"Planche\":[\"Planche haute\",\"Planche intermédiaire/basse\"],\n",
    "        \"Distance à l'axe neutre\":[dalle_ELU.distance_ai[1],dalle_ELU.distance_ai[2]]}\n",
    "distanceai = pd.DataFrame(data)\n",
    "distanceai"
   ]
  },
  {
   "cell_type": "markdown",
   "metadata": {},
   "source": [
    "- <font color=\"blue\" size =\"4\">**Rigidité efficace en flexion**</font>"
   ]
  },
  {
   "cell_type": "code",
   "execution_count": 26,
   "metadata": {},
   "outputs": [
    {
     "data": {
      "text/latex": [
       "EI eff 2: \\[\n",
       "\\begin{aligned}\n",
       "\\mathrm{EI}_{eff_{i}} &= E_{mean_{fin}} \\cdot \\mathrm{inertie} + \\gamma_{i} \\cdot E_{mean_{fin}} \\cdot \\mathrm{aire} \\cdot \\left( \\mathrm{distance}_{ai} \\right) ^{ 2 } \\\\&= 11.0\\ \\mathrm{GPa} \\cdot 87880000.0\\ \\mathrm{mm}^{4} + 1 \\cdot 11.0\\ \\mathrm{GPa} \\cdot 15600.0\\ \\mathrm{mm}^{2} \\cdot \\left( -21.3\\ \\mathrm{mm} \\right) ^{ 2 } \\\\&= 1.0\\ \\mathrm{MN} \\cdot \\mathrm{m²}  \\\\[10pt]\n",
       "\\end{aligned}\n",
       "\\]EI eff 3: \\[\n",
       "\\begin{aligned}\n",
       "\\mathrm{EI}_{eff_{i}} &= E_{mean_{fin}} \\cdot \\mathrm{inertie} + \\gamma_{i} \\cdot E_{mean_{fin}} \\cdot \\mathrm{aire} \\cdot \\left( \\mathrm{distance}_{ai} \\right) ^{ 2 } \\\\&= 11.0\\ \\mathrm{GPa} \\cdot 87880000.0\\ \\mathrm{mm}^{4} + 0.1 \\cdot 11.0\\ \\mathrm{GPa} \\cdot 15600.0\\ \\mathrm{mm}^{2} \\cdot \\left( 158.7\\ \\mathrm{mm} \\right) ^{ 2 } \\\\&= 1.5\\ \\mathrm{MN} \\cdot \\mathrm{m²}  \\\\[10pt]\n",
       "\\end{aligned}\n",
       "\\]\\[\n",
       "\\begin{aligned}\n",
       "\\mathrm{EI}_{eff_{global}} &= 2.591\\ \\mathrm{MN} \\cdot \\mathrm{m²} \\; \\;\\textrm{(Somme des EI efficace)}\n",
       "\\end{aligned}\n",
       "\\]"
      ],
      "text/plain": [
       "<IPython.core.display.Latex object>"
      ]
     },
     "metadata": {},
     "output_type": "display_data"
    }
   ],
   "source": [
    "display(Latex(dalle_ELU.EI_eff[0]))\n"
   ]
  },
  {
   "cell_type": "markdown",
   "metadata": {},
   "source": [
    "## 5. Cisaillement\n",
    "----"
   ]
  },
  {
   "cell_type": "markdown",
   "metadata": {},
   "source": [
    "- <font color=\"blue\" size =\"4\">**Diagramme des efforts tranchants Vz**</font>"
   ]
  },
  {
   "cell_type": "code",
   "execution_count": 27,
   "metadata": {},
   "outputs": [
    {
     "data": {
      "image/png": "[encoded data removed]",
      "text/plain": [
       "<Figure size 1200x400 with 1 Axes>"
      ]
     },
     "metadata": {},
     "output_type": "display_data"
    }
   ],
   "source": [
    "combi = dict_taux_max[\"cisaillement\"][\"combinaison\"]\n",
    "dict_combi[combi][\"EF\"].show_graphique_Vz(combi)"
   ]
  },
  {
   "cell_type": "markdown",
   "metadata": {},
   "source": [
    "- <font color=\"blue\" size =\"4\">**Contrainte de cisaillement maximale dans l'élément 2 selon Annexe B.4 de l'EN 1995**</font>"
   ]
  },
  {
   "cell_type": "code",
   "execution_count": 28,
   "metadata": {},
   "outputs": [
    {
     "data": {
      "text/latex": [
       "\\[\n",
       "\\begin{aligned}\n",
       "\\tau_{2} &= V_{z} \\cdot \\frac{ \\gamma_{3} \\cdot E_{mean_{fin_{3}}} \\cdot \\mathrm{aire}_{3} \\cdot a_{3} + 0.5 \\cdot E_{mean_{fin_{2}}} \\cdot b_{2} \\cdot \\left( h \\right) ^{ 2 } }{ b_{2} \\cdot K_{cr} \\cdot \\mathrm{EI}_{eff} } \\\\&= 6.333\\ \\mathrm{kN} \\cdot \\frac{ 0.134 \\cdot 11.000\\ \\mathrm{GPa} \\cdot 15600.000\\ \\mathrm{mm}^{2} \\cdot 158.720\\ \\mathrm{mm} + 0.5 \\cdot 11.000\\ \\mathrm{GPa} \\cdot 60.000\\ \\mathrm{mm} \\cdot \\left( 108.720\\ \\mathrm{mm} \\right) ^{ 2 } }{ 60.000\\ \\mathrm{mm} \\cdot 0.670 \\cdot 2.591\\ \\mathrm{MN} \\cdot \\mathrm{m²} } \\\\&= 459.270\\ \\mathrm{kPa}  \\\\[10pt]\n",
       "\\end{aligned}\n",
       "\\]"
      ],
      "text/plain": [
       "<IPython.core.display.Latex object>"
      ]
     },
     "metadata": {},
     "output_type": "display_data"
    }
   ],
   "source": [
    "dict_effort_max = dict_combi[combi][\"EF\"].reaction_max()\n",
    "# dict_effort_max = dict_combi[combi][\"EF\"].effort_interne_max()\n",
    "V_z = max(dict_effort_max['Rz_max'][1],abs(dict_effort_max['Rz_min'][1]))\n",
    "tau_2 = dalle_ELU.tau_2_max(V_z)\n",
    "display(Latex(tau_2[0]))"
   ]
  },
  {
   "cell_type": "markdown",
   "metadata": {},
   "source": [
    "- <font color=\"blue\" size =\"4\">**Capacité résistante en cisaillement de l'élément 2**</font>"
   ]
  },
  {
   "cell_type": "code",
   "execution_count": 29,
   "metadata": {},
   "outputs": [
    {
     "data": {
      "text/latex": [
       "\\[\n",
       "\\begin{aligned}\n",
       "f_{v_{d}} &= \\frac{ f_{v_{k}} \\cdot K_{mod} }{ \\gamma_{M} }  = \\frac{ 4.00\\ \\mathrm{MPa} \\cdot 0.80 }{ 1.30 } &= 2.46\\ \\mathrm{MPa}  \n",
       "\\end{aligned}\n",
       "\\]"
      ],
      "text/plain": [
       "<IPython.core.display.Latex object>"
      ]
     },
     "metadata": {},
     "output_type": "display_data"
    }
   ],
   "source": [
    "fmd = dict_combi[combi][\"planche haute\"][\"cisaillement\"].f_v_d(action, \"Fondamentales\")\n",
    "display(Latex(fmd[0]))"
   ]
  },
  {
   "cell_type": "markdown",
   "metadata": {},
   "source": [
    "- <font color=\"blue\" size =\"4\">**Taux de travail en cisaillement maximal dans l'élément 2**</font>"
   ]
  },
  {
   "cell_type": "code",
   "execution_count": 30,
   "metadata": {},
   "outputs": [
    {
     "data": {
      "text/latex": [
       "\\[\n",
       "\\begin{aligned}\n",
       "\\mathrm{taux}_{6_{13}} &= \\frac{ \\tau_{d} }{ f_{v_{d}} }  = \\frac{ 457.958\\ \\mathrm{kPa} }{ 2.462\\ \\mathrm{MPa} } &= 0.186  \n",
       "\\\\[10pt]\n",
       "\\mathrm{taux}_{6_{60}} &= \\frac{ \\tau_{d} }{ K_{v} \\cdot f_{v_{d}} }  = \\frac{ 457.958\\ \\mathrm{kPa} }{ 1 \\cdot 2.462\\ \\mathrm{MPa} } &= 0.186  \n",
       "\\end{aligned}\n",
       "\\]"
      ],
      "text/plain": [
       "<IPython.core.display.Latex object>"
      ]
     },
     "metadata": {},
     "output_type": "display_data"
    }
   ],
   "source": [
    "taux_cisaillement = dict_combi[combi][\"planche haute\"][\"cisaillement\"].taux_tau_d()\n",
    "display(Latex(taux_cisaillement[0]))"
   ]
  },
  {
   "cell_type": "markdown",
   "metadata": {},
   "source": [
    "## 6. Flexion selon l'axe y\n",
    "----"
   ]
  },
  {
   "cell_type": "markdown",
   "metadata": {},
   "source": [
    "#### 6.1. Flexion dans la planche haute selon l'axe y"
   ]
  },
  {
   "cell_type": "markdown",
   "metadata": {},
   "source": [
    "- <font color=\"blue\" size =\"4\">**Diagramme du moment My**</font>"
   ]
  },
  {
   "cell_type": "code",
   "execution_count": 31,
   "metadata": {},
   "outputs": [
    {
     "data": {
      "image/png": "[encoded data removed]",
      "text/plain": [
       "<Figure size 1200x400 with 1 Axes>"
      ]
     },
     "metadata": {},
     "output_type": "display_data"
    }
   ],
   "source": [
    "combi = dict_taux_max[\"flexion\"][\"combinaison\"]\n",
    "dict_combi[combi][\"EF\"].show_graphique_My(combi)"
   ]
  },
  {
   "cell_type": "markdown",
   "metadata": {},
   "source": [
    "- <font color=\"blue\" size =\"4\">**Contrainte de flexion dans l'élément 2 le long de l'axe y selon Annexe B.3 de l'EN 1995**</font>"
   ]
  },
  {
   "cell_type": "code",
   "execution_count": 32,
   "metadata": {},
   "outputs": [
    {
     "data": {
      "text/latex": [
       "\\[\n",
       "\\begin{aligned}\n",
       "\\sigma_{m_{i}} &= 0.5 \\cdot M_{y} \\cdot E_{mean_{fin}} \\cdot \\frac{ h_{i} }{ \\mathrm{EI}_{eff} } \\\\&= 0.5 \\cdot 11.08\\ \\mathrm{kN} \\cdot \\mathrm{m} \\cdot 11.00\\ \\mathrm{GPa} \\cdot \\frac{ 260.00\\ \\mathrm{mm} }{ 2.59\\ \\mathrm{MN} \\cdot \\mathrm{m²} } \\\\&= 6.12\\ \\mathrm{MPa}  \\\\[10pt]\n",
       "\\end{aligned}\n",
       "\\]"
      ],
      "text/plain": [
       "<IPython.core.display.Latex object>"
      ]
     },
     "metadata": {},
     "output_type": "display_data"
    }
   ],
   "source": [
    "dict_effort_max = dict_combi[combi][\"EF\"].effort_interne_max()\n",
    "M_y = max(dict_effort_max['My_max']['Effort'],abs(dict_effort_max['My_min']['Effort']))\n",
    "sigma_mi = dalle_ELU.sigma_mi(M_y, beam=2)\n",
    "\n",
    "display(Latex(sigma_mi[0]))"
   ]
  },
  {
   "cell_type": "markdown",
   "metadata": {},
   "source": [
    "- <font color=\"blue\" size =\"4\">**Résistance de calcul en flexion élément 2**</font>"
   ]
  },
  {
   "cell_type": "code",
   "execution_count": 33,
   "metadata": {},
   "outputs": [
    {
     "data": {
      "text/latex": [
       "\\[\n",
       "\\begin{aligned}\n",
       "f_{m0_{d}} &= k_{sys} \\cdot f_{m0_{k}} \\cdot \\frac{ K_{mod} }{ \\gamma_{M} }  = 1.10 \\cdot 24.00\\ \\mathrm{MPa} \\cdot \\frac{ 0.80 }{ 1.30 } &= 16.25\\ \\mathrm{MPa}  \n",
       "\\end{aligned}\n",
       "\\]"
      ],
      "text/plain": [
       "<IPython.core.display.Latex object>"
      ]
     },
     "metadata": {},
     "output_type": "display_data"
    }
   ],
   "source": [
    "fmd = dict_combi[combi][\"planche haute\"][\"flexion\"].f_m_d(action, \"Fondamentales\")\n",
    "display(Latex(fmd[0]))"
   ]
  },
  {
   "cell_type": "markdown",
   "metadata": {},
   "source": [
    "- <font color=\"blue\" size =\"4\">**Contrainte de compression/traction dans l'élément 2 parallèle au fil selon Annexe B.3 de l'EN 1995**</font>"
   ]
  },
  {
   "cell_type": "code",
   "execution_count": 34,
   "metadata": {},
   "outputs": [
    {
     "data": {
      "text/latex": [
       "\\[\n",
       "\\begin{aligned}\n",
       "\\sigma_{i} &= \\mathrm{Mf}_{z} \\cdot \\gamma_{i} \\cdot E_{mean_{fin}} \\cdot \\frac{ \\mathrm{distance}_{ai} }{ \\mathrm{EI}_{eff} } \\\\&= 11.08\\ \\mathrm{kN} \\cdot \\mathrm{m} \\cdot 1 \\cdot 11.00\\ \\mathrm{GPa} \\cdot \\frac{ -21.28\\ \\mathrm{mm} }{ 2.59\\ \\mathrm{MN} \\cdot \\mathrm{m²} } \\\\&= -1.00\\ \\mathrm{MPa}  \\\\[10pt]\n",
       "\\end{aligned}\n",
       "\\]"
      ],
      "text/plain": [
       "<IPython.core.display.Latex object>"
      ]
     },
     "metadata": {},
     "output_type": "display_data"
    }
   ],
   "source": [
    "sigma_i = dalle_ELU.sigma_i(M_y, beam=2)\n",
    "display(Latex(sigma_i[0]))"
   ]
  },
  {
   "cell_type": "markdown",
   "metadata": {},
   "source": [
    "- <font color=\"blue\" size =\"4\">**Taux de travail en compression/traction + flexion de l'élément 2**</font>"
   ]
  },
  {
   "cell_type": "code",
   "execution_count": 35,
   "metadata": {},
   "outputs": [
    {
     "name": "stdout",
     "output_type": "stream",
     "text": [
      "Barre en compression + flexion\n"
     ]
    },
    {
     "data": {
      "text/latex": [
       "\\[\n",
       "\\begin{aligned}\n",
       "\\mathrm{taux}_{6_{2}} &= \\frac{ \\sigma_{c_{0_{d}}} }{ f_{c_{0_{d}}} }  = \\frac{ 1.001\\ \\mathrm{MPa} }{ 12.923\\ \\mathrm{MPa} } &= 0.077 \\; \\;\\textrm{(equ6.2)}\n",
       "\\\\[10pt]\n",
       "\\mathrm{taux}_{6_{19}} &= \\left( \\frac{ \\sigma_{c_{0_{d}}} }{ f_{c_{0_{d}}} \\cdot K_{c_{y}} } \\right) ^{ 2 } + \\mathrm{taux}_{6_{11}}  = \\left( \\frac{ 1.001\\ \\mathrm{MPa} }{ 12.923\\ \\mathrm{MPa} \\cdot 1 } \\right) ^{ 2 } + 0 &= 0.006 \\; \\;\\textrm{(equ6.19)}\n",
       "\\\\[10pt]\n",
       "\\mathrm{taux}_{6_{20}} &= \\left( \\frac{ \\sigma_{c_{0_{d}}} }{ f_{c_{0_{d}}} \\cdot K_{c_{z}} } \\right) ^{ 2 } + \\mathrm{taux}_{6_{12}}  = \\left( \\frac{ 1.001\\ \\mathrm{MPa} }{ 12.923\\ \\mathrm{MPa} \\cdot 1 } \\right) ^{ 2 } + 0 &= 0.006 \\; \\;\\textrm{(equ6.20)}\n",
       "\\end{aligned}\n",
       "\\]"
      ],
      "text/plain": [
       "<IPython.core.display.Latex object>"
      ]
     },
     "metadata": {},
     "output_type": "display_data"
    },
    {
     "data": {
      "text/latex": [
       "\\[\n",
       "\\begin{aligned}\n",
       "\\mathrm{taux}_{6_{11}} &= \\frac{ \\sigma_{my_{d}} }{ f_{m_{d}} \\cdot K_{h_{y}} } + K_{m} \\cdot \\frac{ \\sigma_{mz_{d}} }{ f_{m_{d}} \\cdot K_{h_{z}} }  = \\frac{ 6.118\\ \\mathrm{MPa} }{ 16.246\\ \\mathrm{MPa} \\cdot 1 } + 0.700 \\cdot \\frac{ 0.000\\ \\mathrm{Pa} }{ 16.246\\ \\mathrm{MPa} \\cdot 1.201 } &= 0.377 \\; \\;\\textrm{(equ6.11)}\n",
       "\\\\[10pt]\n",
       "\\mathrm{taux}_{6_{12}} &= K_{m} \\cdot \\frac{ \\sigma_{my_{d}} }{ f_{m_{d}} \\cdot K_{h_{y}} } + \\frac{ \\sigma_{mz_{d}} }{ f_{m_{d}} \\cdot K_{h_{z}} }  = 0.700 \\cdot \\frac{ 6.118\\ \\mathrm{MPa} }{ 16.246\\ \\mathrm{MPa} \\cdot 1 } + \\frac{ 0.000\\ \\mathrm{Pa} }{ 16.246\\ \\mathrm{MPa} \\cdot 1.201 } &= 0.264 \\; \\;\\textrm{(equ6.12)}\n",
       "\\\\[10pt]\n",
       "\\mathrm{taux}_{6_{33y}} &= \\frac{ \\sigma_{my_{d}} }{ f_{m_{d}} \\cdot K_{h_{y}} \\cdot K_{crit} }  = \\frac{ 6.118\\ \\mathrm{MPa} }{ 16.246\\ \\mathrm{MPa} \\cdot 1 \\cdot 1 } &= 0.377 \\; \\;\\textrm{(equ6.33)}\n",
       "\\\\[10pt]\n",
       "\\mathrm{taux}_{6_{33z}} &= \\frac{ \\sigma_{mz_{d}} }{ f_{m_{d}} \\cdot K_{h_{z}} \\cdot K_{crit} }  = \\frac{ 0.000\\ \\mathrm{Pa} }{ 16.246\\ \\mathrm{MPa} \\cdot 1.201 \\cdot 1 } &= 0.000 \\; \\;\\textrm{(equ6.33)}\n",
       "\\end{aligned}\n",
       "\\]\\[\n",
       "\\begin{aligned}\n",
       "\\mathrm{taux}_{6_{19}} &= \\left( \\mathrm{taux}_{6_{2}} \\right) ^{ 2 } + \\mathrm{taux}_{6_{11}}  = \\left( 0.077 \\right) ^{ 2 } + 0.377 &= 0.383 \\; \\;\\textrm{(equ6.19)}\n",
       "\\\\[10pt]\n",
       "\\mathrm{taux}_{6_{20}} &= \\left( \\mathrm{taux}_{6_{2}} \\right) ^{ 2 } + \\mathrm{taux}_{6_{12}}  = \\left( 0.077 \\right) ^{ 2 } + 0.264 &= 0.270 \\; \\;\\textrm{(equ6.20)}\n",
       "\\\\[10pt]\n",
       "\\mathrm{taux}_{6_{23}} &= \\frac{ \\sigma_{c_{0_{d}}} }{ f_{c_{0_{d}}} \\cdot K_{c_{y}} }  = \\frac{ 1.001\\ \\mathrm{MPa} }{ 12.923\\ \\mathrm{MPa} \\cdot 1 } &= 0.077 \\; \\;\\textrm{(equ6.23)}\n",
       "\\\\[10pt]\n",
       "\\mathrm{taux}_{6_{24}} &= \\frac{ \\sigma_{c_{0_{d}}} }{ f_{c_{0_{d}}} \\cdot K_{c_{z}} }  = \\frac{ 1.001\\ \\mathrm{MPa} }{ 12.923\\ \\mathrm{MPa} \\cdot 1 } &= 0.077 \\; \\;\\textrm{(equ6.24)}\n",
       "\\\\[10pt]\n",
       "\\mathrm{taux}_{6_{35zyz}} &= \\left( \\mathrm{taux}_{6_{33y}} \\right) ^{ 2 } + \\left( \\frac{ \\sigma_{mz_{d}} }{ f_{m_{d}} \\cdot K_{h_{z}} } \\right) + \\mathrm{taux}_{6_{24}}  = \\left( 0.377 \\right) ^{ 2 } + \\left( \\frac{ 0.000\\ \\mathrm{Pa} }{ 16.246\\ \\mathrm{MPa} \\cdot 1.201 } \\right) + 0.077 &= 0.219 \\; \\;\\textrm{(equ6.35)}\n",
       "\\\\[10pt]\n",
       "\\mathrm{taux}_{6_{35yzz}} &= \\mathrm{taux}_{6_{33y}} + \\left( \\frac{ \\sigma_{mz_{d}} }{ f_{m_{d}} \\cdot K_{h_{z}} } \\right) ^{ 2 } + \\mathrm{taux}_{6_{24}}  = 0.377 + \\left( \\frac{ 0.000\\ \\mathrm{Pa} }{ 16.246\\ \\mathrm{MPa} \\cdot 1.201 } \\right) ^{ 2 } + 0.077 &= 0.454 \\; \\;\\textrm{(equ6.35 interprétation)}\n",
       "\\\\[10pt]\n",
       "\\mathrm{taux}_{6_{35yzy}} &= \\left( \\mathrm{taux}_{6_{33z}} \\right) ^{ 2 } + \\left( \\frac{ \\sigma_{my_{d}} }{ f_{m_{d}} \\cdot K_{h_{y}} } \\right) + \\mathrm{taux}_{6_{23}}  = \\left( 0.000 \\right) ^{ 2 } + \\left( \\frac{ 6.118\\ \\mathrm{MPa} }{ 16.246\\ \\mathrm{MPa} \\cdot 1 } \\right) + 0.077 &= 0.454 \\; \\;\\textrm{(equ6.35)}\n",
       "\\\\[10pt]\n",
       "\\mathrm{taux}_{6_{35zyy}} &= \\mathrm{taux}_{6_{33z}} + \\left( \\frac{ \\sigma_{my_{d}} }{ f_{m_{d}} \\cdot K_{h_{y}} } \\right) ^{ 2 } + \\mathrm{taux}_{6_{23}}  = 0.000 + \\left( \\frac{ 6.118\\ \\mathrm{MPa} }{ 16.246\\ \\mathrm{MPa} \\cdot 1 } \\right) ^{ 2 } + 0.077 &= 0.219 \\; \\;\\textrm{(equ6.35 interprétation)}\n",
       "\\end{aligned}\n",
       "\\]"
      ],
      "text/plain": [
       "<IPython.core.display.Latex object>"
      ]
     },
     "metadata": {},
     "output_type": "display_data"
    }
   ],
   "source": [
    "dict_combi[combi][\"planche haute\"][\"flexion\"].sigma_m_rd = {'y': sigma_mi[1], 'z': 0 * si.MPa}\n",
    "traction=None\n",
    "compression=None\n",
    "if sigma_i[1] < 0:\n",
    "    dict_combi[combi][\"planche haute\"][\"compression\"] = EC5_Ele.Compression._from_parent_class(barre2,  lo_y=flambement_y, lo_z=flambement_z, type_appuis= \"Rotule - Rotule\")\n",
    "    fc0d = dict_combi[combi][\"planche haute\"][\"compression\"].f_c_0_d(action, \"Fondamentales\")\n",
    "    dict_combi[combi][\"planche haute\"][\"compression\"].sigma_c_0_rd = abs(sigma_i[1])\n",
    "    taux_compression = dict_combi[combi][\"planche haute\"][\"compression\"].taux_c_0_d()\n",
    "    compression=dict_combi[combi][\"planche haute\"][\"compression\"]\n",
    "    print(\"Barre en compression + flexion\")\n",
    "    display(Latex(taux_compression[0]))\n",
    "else:\n",
    "    dict_combi[combi][\"planche haute\"][\"traction\"] = EC5_Ele.Traction._from_parent_class(barre2)\n",
    "    ft0d = dict_combi[combi][\"planche haute\"][\"traction\"].f_t_0_d(action, \"Fondamentales\")\n",
    "    dict_combi[combi][\"planche haute\"][\"traction\"].sigma_t_0_rd = sigma_i[1]\n",
    "    taux_traction = dict_combi[combi][\"planche haute\"][\"traction\"].taux_t_0_d()\n",
    "    traction=dict_combi[combi][\"planche haute\"][\"traction\"]\n",
    "    print(\"Barre en traction + flexion\")\n",
    "    display(Latex(taux_traction[0]))\n",
    "taux_flexion = dict_combi[combi][\"planche haute\"][\"flexion\"].taux_m_d(compression=compression, traction=traction)\n",
    "display(Latex(taux_flexion[0]))"
   ]
  },
  {
   "cell_type": "markdown",
   "metadata": {},
   "source": [
    "#### 6.2. Flexion dans la planche intermédiaire selon l'axe y"
   ]
  },
  {
   "cell_type": "markdown",
   "metadata": {},
   "source": [
    "- <font color=\"blue\" size =\"4\">**Contrainte de flexion dans l'élément 3 le long de l'axe y selon Annexe B.3 de l'EN 1995**</font>"
   ]
  },
  {
   "cell_type": "code",
   "execution_count": 36,
   "metadata": {},
   "outputs": [
    {
     "data": {
      "text/latex": [
       "\\[\n",
       "\\begin{aligned}\n",
       "\\sigma_{m_{i}} &= 0.5 \\cdot M_{y} \\cdot E_{mean_{fin}} \\cdot \\frac{ h_{i} }{ \\mathrm{EI}_{eff} } \\\\&= 0.5 \\cdot 11.08\\ \\mathrm{kN} \\cdot \\mathrm{m} \\cdot 11.00\\ \\mathrm{GPa} \\cdot \\frac{ 260.00\\ \\mathrm{mm} }{ 2.59\\ \\mathrm{MN} \\cdot \\mathrm{m²} } \\\\&= 6.12\\ \\mathrm{MPa}  \\\\[10pt]\n",
       "\\end{aligned}\n",
       "\\]"
      ],
      "text/plain": [
       "<IPython.core.display.Latex object>"
      ]
     },
     "metadata": {},
     "output_type": "display_data"
    }
   ],
   "source": [
    "dict_effort_max = dict_combi[combi][\"EF\"].effort_interne_max()\n",
    "M_y = max(dict_effort_max['My_max']['Effort'],abs(dict_effort_max['My_min']['Effort']))\n",
    "sigma_mi = dalle_ELU.sigma_mi(M_y, beam=3)\n",
    "\n",
    "display(Latex(sigma_mi[0]))"
   ]
  },
  {
   "cell_type": "markdown",
   "metadata": {},
   "source": [
    "- <font color=\"blue\" size =\"4\">**Résistance de calcul en flexion de l'élément 3**</font>"
   ]
  },
  {
   "cell_type": "code",
   "execution_count": 37,
   "metadata": {},
   "outputs": [
    {
     "data": {
      "text/latex": [
       "\\[\n",
       "\\begin{aligned}\n",
       "f_{m0_{d}} &= k_{sys} \\cdot f_{m0_{k}} \\cdot \\frac{ K_{mod} }{ \\gamma_{M} }  = 1.10 \\cdot 24.00\\ \\mathrm{MPa} \\cdot \\frac{ 0.80 }{ 1.30 } &= 16.25\\ \\mathrm{MPa}  \n",
       "\\end{aligned}\n",
       "\\]"
      ],
      "text/plain": [
       "<IPython.core.display.Latex object>"
      ]
     },
     "metadata": {},
     "output_type": "display_data"
    }
   ],
   "source": [
    "fmd = dict_combi[combi][\"planche intermédiaire/basse\"][\"flexion\"].f_m_d(action, \"Fondamentales\")\n",
    "display(Latex(fmd[0]))"
   ]
  },
  {
   "cell_type": "markdown",
   "metadata": {},
   "source": [
    "- <font color=\"blue\" size =\"4\">**Contrainte de compression/traction dans l'élément 3 parallèle au fil selon Annexe B.3 de l'EN 1995**</font>"
   ]
  },
  {
   "cell_type": "code",
   "execution_count": 38,
   "metadata": {},
   "outputs": [
    {
     "data": {
      "text/latex": [
       "\\[\n",
       "\\begin{aligned}\n",
       "\\sigma_{i} &= \\mathrm{Mf}_{z} \\cdot \\gamma_{i} \\cdot E_{mean_{fin}} \\cdot \\frac{ \\mathrm{distance}_{ai} }{ \\mathrm{EI}_{eff} } \\\\&= 11.08\\ \\mathrm{kN} \\cdot \\mathrm{m} \\cdot 0.13 \\cdot 11.00\\ \\mathrm{GPa} \\cdot \\frac{ 158.72\\ \\mathrm{mm} }{ 2.59\\ \\mathrm{MN} \\cdot \\mathrm{m²} } \\\\&= 1.00\\ \\mathrm{MPa}  \\\\[10pt]\n",
       "\\end{aligned}\n",
       "\\]"
      ],
      "text/plain": [
       "<IPython.core.display.Latex object>"
      ]
     },
     "metadata": {},
     "output_type": "display_data"
    }
   ],
   "source": [
    "sigma_i = dalle_ELU.sigma_i(M_y, beam=3)\n",
    "display(Latex(sigma_i[0]))"
   ]
  },
  {
   "cell_type": "markdown",
   "metadata": {},
   "source": [
    "- <font color=\"blue\" size =\"4\">**Taux de travail en compression/traction + flexion de l'élément 3**</font>"
   ]
  },
  {
   "cell_type": "code",
   "execution_count": 39,
   "metadata": {},
   "outputs": [
    {
     "name": "stdout",
     "output_type": "stream",
     "text": [
      "Barre en traction + flexion\n"
     ]
    },
    {
     "data": {
      "text/latex": [
       "\\[\n",
       "\\begin{aligned}\n",
       "K_{h} &= \\operatorname{min} { \\left( K_{h_{y}} ,\\  K_{h_{z}} \\right) }  = \\operatorname{min} { \\left( 1 ,\\  1.201 \\right) } &= 1  \n",
       "\\\\[10pt]\n",
       "\\mathrm{taux}_{6_{1}} &= \\frac{ \\sigma_{t_{0_{d}}} }{ K_{h} \\cdot f_{t_{0_{d}}} }  = \\frac{ 1.001\\ \\mathrm{MPa} }{ 1 \\cdot 8.923\\ \\mathrm{MPa} } &= 0.112 \\; \\;\\textrm{(equ6.1)}\n",
       "\\end{aligned}\n",
       "\\]"
      ],
      "text/plain": [
       "<IPython.core.display.Latex object>"
      ]
     },
     "metadata": {},
     "output_type": "display_data"
    },
    {
     "data": {
      "text/latex": [
       "\\[\n",
       "\\begin{aligned}\n",
       "\\mathrm{taux}_{6_{11}} &= \\frac{ \\sigma_{my_{d}} }{ f_{m_{d}} \\cdot K_{h_{y}} } + K_{m} \\cdot \\frac{ \\sigma_{mz_{d}} }{ f_{m_{d}} \\cdot K_{h_{z}} }  = \\frac{ 6.118\\ \\mathrm{MPa} }{ 16.246\\ \\mathrm{MPa} \\cdot 1 } + 0.700 \\cdot \\frac{ 0.000\\ \\mathrm{Pa} }{ 16.246\\ \\mathrm{MPa} \\cdot 1.201 } &= 0.377 \\; \\;\\textrm{(equ6.11)}\n",
       "\\\\[10pt]\n",
       "\\mathrm{taux}_{6_{12}} &= K_{m} \\cdot \\frac{ \\sigma_{my_{d}} }{ f_{m_{d}} \\cdot K_{h_{y}} } + \\frac{ \\sigma_{mz_{d}} }{ f_{m_{d}} \\cdot K_{h_{z}} }  = 0.700 \\cdot \\frac{ 6.118\\ \\mathrm{MPa} }{ 16.246\\ \\mathrm{MPa} \\cdot 1 } + \\frac{ 0.000\\ \\mathrm{Pa} }{ 16.246\\ \\mathrm{MPa} \\cdot 1.201 } &= 0.264 \\; \\;\\textrm{(equ6.12)}\n",
       "\\\\[10pt]\n",
       "\\mathrm{taux}_{6_{33y}} &= \\frac{ \\sigma_{my_{d}} }{ f_{m_{d}} \\cdot K_{h_{y}} \\cdot K_{crit} }  = \\frac{ 6.118\\ \\mathrm{MPa} }{ 16.246\\ \\mathrm{MPa} \\cdot 1 \\cdot 1 } &= 0.377 \\; \\;\\textrm{(equ6.33)}\n",
       "\\\\[10pt]\n",
       "\\mathrm{taux}_{6_{33z}} &= \\frac{ \\sigma_{mz_{d}} }{ f_{m_{d}} \\cdot K_{h_{z}} \\cdot K_{crit} }  = \\frac{ 0.000\\ \\mathrm{Pa} }{ 16.246\\ \\mathrm{MPa} \\cdot 1.201 \\cdot 1 } &= 0.000 \\; \\;\\textrm{(equ6.33)}\n",
       "\\end{aligned}\n",
       "\\]\\[\n",
       "\\begin{aligned}\n",
       "\\mathrm{taux}_{6_{17}} &= \\mathrm{taux}_{6_{11}} + \\mathrm{taux}_{6_{1}}  = 0.377 + 0.112 &= 0.489 \\; \\;\\textrm{(equ6.17)}\n",
       "\\\\[10pt]\n",
       "\\mathrm{taux}_{6_{18}} &= \\mathrm{taux}_{6_{12}} + \\mathrm{taux}_{6_{1}}  = 0.264 + 0.112 &= 0.376 \\; \\;\\textrm{(equ6.18)}\n",
       "\\end{aligned}\n",
       "\\]"
      ],
      "text/plain": [
       "<IPython.core.display.Latex object>"
      ]
     },
     "metadata": {},
     "output_type": "display_data"
    }
   ],
   "source": [
    "dict_combi[combi][\"planche intermédiaire/basse\"][\"flexion\"].sigma_m_rd = {'y': sigma_mi[1], 'z': 0 * si.MPa}\n",
    "traction=None\n",
    "compression=None\n",
    "\n",
    "if sigma_i[1] < 0:\n",
    "    dict_combi[combi][\"planche intermédiaire/basse\"][\"compression\"] = EC5_Ele.Compression._from_parent_class(barre2,  lo_y=flambement_y, lo_z=flambement_z, type_appuis= \"Rotule - Rotule\")\n",
    "    fc0d = dict_combi[combi][\"planche intermédiaire/basse\"][\"compression\"].f_c_0_d(action, \"Fondamentales\")\n",
    "    dict_combi[combi][\"planche intermédiaire/basse\"][\"compression\"].sigma_c_0_rd = abs(sigma_i[1])\n",
    "    taux_compression = dict_combi[combi][\"planche intermédiaire/basse\"][\"compression\"].taux_c_0_d()\n",
    "    compression=dict_combi[combi][\"planche intermédiaire/basse\"][\"compression\"]\n",
    "    print(\"Barre en compression + flexion\")\n",
    "    display(Latex(taux_compression[0]))\n",
    "else:\n",
    "    dict_combi[combi][\"planche intermédiaire/basse\"][\"traction\"] = EC5_Ele.Traction._from_parent_class(barre2)\n",
    "    ft0d = dict_combi[combi][\"planche intermédiaire/basse\"][\"traction\"].f_t_0_d(action, \"Fondamentales\")\n",
    "    dict_combi[combi][\"planche intermédiaire/basse\"][\"traction\"].sigma_t_0_rd = sigma_i[1]\n",
    "    taux_traction = dict_combi[combi][\"planche intermédiaire/basse\"][\"traction\"].taux_t_0_d()\n",
    "    traction=dict_combi[combi][\"planche intermédiaire/basse\"][\"traction\"]\n",
    "    print(\"Barre en traction + flexion\")\n",
    "    display(Latex(taux_traction[0]))\n",
    "taux_flexion = dict_combi[combi][\"planche intermédiaire/basse\"][\"flexion\"].taux_m_d(compression=compression, traction=traction)\n",
    "display(Latex(taux_flexion[0]))"
   ]
  },
  {
   "cell_type": "markdown",
   "metadata": {},
   "source": [
    "## 7. ELS\n",
    "----"
   ]
  },
  {
   "cell_type": "markdown",
   "metadata": {},
   "source": [
    "- <font color=\"blue\" size =\"4\">**Flèche instantanée (Q)**</font>"
   ]
  },
  {
   "cell_type": "code",
   "execution_count": 40,
   "metadata": {},
   "outputs": [
    {
     "data": {
      "image/png": "[encoded data removed]",
      "text/plain": [
       "<Figure size 1200x400 with 1 Axes>"
      ]
     },
     "metadata": {},
     "output_type": "display_data"
    }
   ],
   "source": [
    "combi = dict_taux_max[\"Winst(Q)\"][\"combinaison\"]\n",
    "dict_combi[combi][\"EF\"].show_graphique_fleche(combi)"
   ]
  },
  {
   "cell_type": "code",
   "execution_count": 41,
   "metadata": {},
   "outputs": [],
   "source": [
    "dictUMinMax = dict_combi[combi][\"EF\"].deplacement_max()\n",
    "Ed_WinstQ = max(dictUMinMax['Uz_max'][0],abs(dictUMinMax['Uz_min'][1]))"
   ]
  },
  {
   "cell_type": "markdown",
   "metadata": {},
   "source": [
    "- <font color=\"blue\" size =\"4\">**Flèche nette finale**</font>"
   ]
  },
  {
   "cell_type": "code",
   "execution_count": 42,
   "metadata": {},
   "outputs": [
    {
     "data": {
      "image/png": "[encoded data removed]",
      "text/plain": [
       "<Figure size 1200x400 with 1 Axes>"
      ]
     },
     "metadata": {},
     "output_type": "display_data"
    }
   ],
   "source": [
    "combi = dict_taux_max[\"Wnet,fin\"][\"combinaison\"]\n",
    "dict_combi[combi][\"EF\"].show_graphique_fleche(combi)"
   ]
  },
  {
   "cell_type": "markdown",
   "metadata": {},
   "source": [
    "- <font color=\"blue\" size =\"4\">**Taux de travail ELS**</font>"
   ]
  },
  {
   "cell_type": "code",
   "execution_count": 43,
   "metadata": {},
   "outputs": [
    {
     "data": {
      "text/latex": [
       "\\[\n",
       "\\begin{aligned}\n",
       "\\mathrm{Rd}_{W_{inst_{Q}}} &= \\frac{ \\mathrm{long} }{ \\mathrm{limit}_{W_{inst_{Q}}} }  = \\frac{ 7.00\\ \\mathrm{m} }{ 300 } &= 23.33\\ \\mathrm{mm}  \n",
       "\\\\[10pt]\n",
       "\\mathrm{Rd}_{W_{net_{fin}}} &= \\frac{ \\mathrm{long} }{ \\mathrm{limit}_{W_{net_{fin}}} }  = \\frac{ 7.00\\ \\mathrm{m} }{ 200 } &= 35.00\\ \\mathrm{mm}  \n",
       "\\\\[10pt]\n",
       "\\mathrm{Rd}_{W_{fin}} &= \\operatorname{min} { \\left( \\frac{ \\mathrm{long} }{ \\mathrm{limit}_{W_{fin}} } ,\\  \\mathrm{limit}_{U_{fin_{max}}} \\right) }  = \\operatorname{min} { \\left( \\frac{ 7.00\\ \\mathrm{m} }{ 125 } ,\\  56.00\\ \\mathrm{mm} \\right) } &= 56.00\\ \\mathrm{mm}  \n",
       "\\\\[10pt]\n",
       "\\mathrm{taux}_{W_{inst_{Q}}} &= \\frac{ \\mathrm{Ed}_{W_{inst_{Q}}} }{ \\mathrm{Rd}_{W_{inst_{Q}}} }  = \\frac{ 7.21\\ \\mathrm{mm} }{ 23.33\\ \\mathrm{mm} } &= 0.31  \n",
       "\\\\[10pt]\n",
       "\\mathrm{taux}_{W_{net_{fin}}} &= \\frac{ \\mathrm{Ed}_{W_{net_{fin}}} }{ \\mathrm{Rd}_{W_{net_{fin}}} }  = \\frac{ 22.74\\ \\mathrm{mm} }{ 35.00\\ \\mathrm{mm} } &= 0.65  \n",
       "\\\\[10pt]\n",
       "\\mathrm{taux}_{W_{fin}} &= \\frac{ \\mathrm{Ed}_{W_{fin}} }{ \\mathrm{Rd}_{W_{fin}} }  = \\frac{ 22.74\\ \\mathrm{mm} }{ 56.00\\ \\mathrm{mm} } &= 0.41  \n",
       "\\end{aligned}\n",
       "\\]"
      ],
      "text/plain": [
       "<IPython.core.display.Latex object>"
      ]
     },
     "metadata": {},
     "output_type": "display_data"
    }
   ],
   "source": [
    "dictUMinMax = dict_combi[combi][\"EF\"].deplacement_max()\n",
    "Ed_Wnetfin = max(dictUMinMax['Uz_max'][0],abs(dictUMinMax['Uz_min'][1]))\n",
    "fleche = barre2_ELS.fleche(long=l, Ed_WinstQ=Ed_WinstQ, Ed_Wnetfin=Ed_Wnetfin, Ed_Wfin=Ed_Wnetfin,type_ele=type_element, type_bat=type_batiment)\n",
    "display(Latex(fleche[0]))"
   ]
  },
  {
   "cell_type": "markdown",
   "metadata": {},
   "source": [
    "## 8. Assemblage\n",
    "----"
   ]
  },
  {
   "cell_type": "markdown",
   "metadata": {},
   "source": [
    "- <font color=\"blue\" size =\"4\">**Portance locale**</font>"
   ]
  },
  {
   "cell_type": "code",
   "execution_count": 44,
   "metadata": {},
   "outputs": [
    {
     "name": "stdout",
     "output_type": "stream",
     "text": [
      "Fh,1,k :\n"
     ]
    },
    {
     "data": {
      "text/latex": [
       "\\[\n",
       "\\begin{aligned}\n",
       "\\mathrm{fhk} &= 0.082 \\cdot \\left( 1 - 0.01 \\cdot d \\right) \\cdot \\rho_{k}  = 0.082 \\cdot \\left( 1 - 0.01 \\cdot 4.29 \\right) \\cdot 350 &= 27.47 \\; \\;\\textrm{(MPa)}\n",
       "\\end{aligned}\n",
       "\\]"
      ],
      "text/plain": [
       "<IPython.core.display.Latex object>"
      ]
     },
     "metadata": {},
     "output_type": "display_data"
    },
    {
     "name": "stdout",
     "output_type": "stream",
     "text": [
      "Fh,2,k :\n"
     ]
    },
    {
     "data": {
      "text/latex": [
       "\\[\n",
       "\\begin{aligned}\n",
       "\\mathrm{fhk} &= 0.082 \\cdot \\left( 1 - 0.01 \\cdot d \\right) \\cdot \\rho_{k}  = 0.082 \\cdot \\left( 1 - 0.01 \\cdot 4.29 \\right) \\cdot 350 &= 27.47 \\; \\;\\textrm{(MPa)}\n",
       "\\end{aligned}\n",
       "\\]"
      ],
      "text/plain": [
       "<IPython.core.display.Latex object>"
      ]
     },
     "metadata": {},
     "output_type": "display_data"
    }
   ],
   "source": [
    "print( \"Fh,1,k :\")\n",
    "display(Latex(connecteur.fh1k[0]))\n",
    "\n",
    "print( \"Fh,2,k :\")\n",
    "display(Latex(connecteur.fh2k[0]))"
   ]
  },
  {
   "cell_type": "markdown",
   "metadata": {},
   "source": [
    "- <font color=\"blue\" size =\"4\">**Nombre efficace**</font>"
   ]
  },
  {
   "cell_type": "code",
   "execution_count": 45,
   "metadata": {},
   "outputs": [
    {
     "data": {
      "text/latex": [
       "\\[\n",
       "\\begin{aligned}\n",
       "n_{ef} &= 1 \\; \n",
       "\\end{aligned}\n",
       "\\]"
      ],
      "text/plain": [
       "<IPython.core.display.Latex object>"
      ]
     },
     "metadata": {},
     "output_type": "display_data"
    }
   ],
   "source": [
    "display(Latex(nef[0]))"
   ]
  },
  {
   "cell_type": "markdown",
   "metadata": {},
   "source": [
    "- <font color=\"blue\" size =\"4\">**Résistance en cisaillement caractéristique**</font>"
   ]
  },
  {
   "cell_type": "code",
   "execution_count": 46,
   "metadata": {},
   "outputs": [
    {
     "data": {
      "text/latex": [
       "\\[\n",
       "\\begin{aligned}\n",
       "\\beta &= \\frac{ f_{h2k} }{ f_{h1k} } \\\\&= \\frac{ 27.47 }{ 27.47 } \\\\&= 1.00  \\\\[10pt]\n",
       "\\\\[10pt]\n",
       "a &= f_{h1k} \\cdot t_{1} \\cdot \\mathrm{diam} \\\\&= 27.47 \\cdot 60.00 \\cdot 4.29 \\\\&= 7070.46 \\; \\;\\textrm{(N)}\\\\[10pt]\n",
       "\\\\[10pt]\n",
       "b &= f_{h2k} \\cdot t_{2} \\cdot \\mathrm{diam} \\\\&= 27.47 \\cdot 134.00 \\cdot 4.29 \\\\&= 15790.70 \\; \\;\\textrm{(N)}\\\\[10pt]\n",
       "\\\\[10pt]\n",
       "c &= \\frac{ a }{ 1 + \\beta } \\cdot \\left( \\sqrt { \\beta + 2 \\cdot \\left( \\beta \\right) ^{ 2 } \\cdot \\left( 1 + \\frac{ t_{2} }{ t_{1} } + \\left( \\frac{ t_{2} }{ t_{1} } \\right) ^{ 2 } \\right) + \\left( \\beta \\right) ^{ 3 } \\cdot \\left( \\frac{ t_{2} }{ t_{1} } \\right) ^{ 2 } } - \\beta \\cdot \\left( 1 + \\frac{ t_{2} }{ t_{1} } \\right) \\right) \\\\&= \\frac{ 7070.46 }{ 1 + 1.00 } \\cdot \\left( \\sqrt { 1.00 + 2 \\cdot \\left( 1.00 \\right) ^{ 2 } \\cdot \\left( 1 + \\frac{ 134.00 }{ 60.00 } + \\left( \\frac{ 134.00 }{ 60.00 } \\right) ^{ 2 } \\right) + \\left( 1.00 \\right) ^{ 3 } \\cdot \\left( \\frac{ 134.00 }{ 60.00 } \\right) ^{ 2 } } - 1.00 \\cdot \\left( 1 + \\frac{ 134.00 }{ 60.00 } \\right) \\right) \\\\&= 5312.39 \\; \\;\\textrm{(N)}\\\\[10pt]\n",
       "\\\\[10pt]\n",
       "d &= 1.05 \\cdot \\frac{ a }{ 2 + \\beta } \\cdot \\left( \\sqrt { 2 \\cdot \\beta \\cdot \\left( 1 + \\beta \\right) + \\frac{ 4 \\cdot \\beta \\cdot \\left( 2 + \\beta \\right) \\cdot M_{y_{Rk}} }{ f_{h1k} \\cdot \\left( t_{1} \\right) ^{ 2 } \\cdot \\mathrm{diam} } } - \\beta \\right) \\\\&= 1.05 \\cdot \\frac{ 7070.46 }{ 2 + 1.00 } \\cdot \\left( \\sqrt { 2 \\cdot 1.00 \\cdot \\left( 1 + 1.00 \\right) + \\frac{ 4 \\cdot 1.00 \\cdot \\left( 2 + 1.00 \\right) \\cdot 9494.00 }{ 27.47 \\cdot \\left( 60.00 \\right) ^{ 2 } \\cdot 4.29 } } - 1.00 \\right) \\\\&= 2638.11 \\; \\;\\textrm{(N)}\\\\[10pt]\n",
       "\\\\[10pt]\n",
       "e &= 1.05 \\cdot \\frac{ f_{h1k} \\cdot t_{2} \\cdot \\mathrm{diam} }{ 1 + 2 \\cdot \\beta } \\cdot \\left( \\sqrt { 2 \\cdot \\left( \\beta \\right) ^{ 2 } \\cdot \\left( 1 + \\beta \\right) + \\frac{ 4 \\cdot \\beta \\cdot \\left( 1 + 2 \\cdot \\beta \\right) \\cdot M_{y_{Rk}} }{ f_{h1k} \\cdot \\left( t_{2} \\right) ^{ 2 } \\cdot \\mathrm{diam} } } - \\beta \\right) \\\\&= 1.05 \\cdot \\frac{ 27.47 \\cdot 134.00 \\cdot 4.29 }{ 1 + 2 \\cdot 1.00 } \\cdot \\left( \\sqrt { 2 \\cdot \\left( 1.00 \\right) ^{ 2 } \\cdot \\left( 1 + 1.00 \\right) + \\frac{ 4 \\cdot 1.00 \\cdot \\left( 1 + 2 \\cdot 1.00 \\right) \\cdot 9494.00 }{ 27.47 \\cdot \\left( 134.00 \\right) ^{ 2 } \\cdot 4.29 } } - 1.00 \\right) \\\\&= 5600.89 \\; \\;\\textrm{(N)}\\\\[10pt]\n",
       "\\\\[10pt]\n",
       "f &= 1.15 \\cdot \\sqrt { \\frac{ 2 \\cdot \\beta }{ 1 + \\beta } } \\cdot \\sqrt { 2 \\cdot M_{y_{Rk}} \\cdot f_{h1k} \\cdot \\mathrm{diam} } \\\\&= 1.15 \\cdot \\sqrt { \\frac{ 2 \\cdot 1.00 }{ 1 + 1.00 } } \\cdot \\sqrt { 2 \\cdot 9494.00 \\cdot 27.47 \\cdot 4.29 } \\\\&= 1720.23 \\; \\;\\textrm{(N)}\\\\[10pt]\n",
       "\\end{aligned}\n",
       "\\]\\[\n",
       "\\begin{aligned}\n",
       "F_{v_{Rk_{johansen}}} &= \\operatorname{min} { \\left( a ,\\  b ,\\  c ,\\  d ,\\  e ,\\  f \\right) }  = \\operatorname{min} { \\left( 7.07\\ \\mathrm{kN} ,\\  15.79\\ \\mathrm{kN} ,\\  5.31\\ \\mathrm{kN} ,\\  2.64\\ \\mathrm{kN} ,\\  5.60\\ \\mathrm{kN} ,\\  1.72\\ \\mathrm{kN} \\right) } &= 1.72\\ \\mathrm{kN}  \n",
       "\\\\[10pt]\n",
       "\\mathrm{mode}_{rupture} &= F \\; \n",
       "\\end{aligned}\n",
       "\\]\\[\n",
       "\\begin{aligned}\n",
       "F_{ax_{Rk_{reel}}} &= \\operatorname{min} { \\left( \\frac{ F_{ax_{Rk}} }{ 4 } ,\\  \\mathrm{coeflimit} \\cdot F_{v_{Rk_{johansen}}} \\right) }  = \\operatorname{min} { \\left( \\frac{ 1512.00 }{ 4 } ,\\  1 \\cdot 1.72\\ \\mathrm{kN} \\right) } &= 378.00  \n",
       "\\\\[10pt]\n",
       "F_{v_{Rk}} &= F_{v_{Rk_{johansen}}} + F_{ax_{Rk_{reel}}}  = 1.72\\ \\mathrm{kN} + 378.00 &= 2.10\\ \\mathrm{kN}  \n",
       "\\end{aligned}\n",
       "\\]\\[\n",
       "\\begin{aligned}\n",
       "F_{v_{Rk_{ass}}} &= F_{v_{Rk}} \\cdot n_{file} \\cdot n_{ef} \\cdot n_{cisaillement}  = 2.10\\ \\mathrm{kN} \\cdot 1 \\cdot 1 \\cdot 1 &= 2.10\\ \\mathrm{kN}  \n",
       "\\end{aligned}\n",
       "\\]"
      ],
      "text/plain": [
       "<IPython.core.display.Latex object>"
      ]
     },
     "metadata": {},
     "output_type": "display_data"
    }
   ],
   "source": [
    "display(Latex(FvRk[0]))"
   ]
  },
  {
   "cell_type": "markdown",
   "metadata": {},
   "source": [
    "- <font color=\"blue\" size =\"4\">**Charge à reprendre par organe d'assemblage selon Annexe B.5 de l'EN 1995**</font>"
   ]
  },
  {
   "cell_type": "code",
   "execution_count": 47,
   "metadata": {},
   "outputs": [
    {
     "data": {
      "text/latex": [
       "\\[\n",
       "\\begin{aligned}\n",
       "F_{i} &= \\gamma_{i} \\cdot E_{mean_{fin}} \\cdot \\mathrm{aire} \\cdot \\mathrm{distance}_{ai} \\cdot \\mathrm{entraxe} \\cdot \\frac{ V_{z} }{ \\mathrm{EI}_{eff} } \\\\&= 0.13 \\cdot 11.00\\ \\mathrm{GPa} \\cdot 15600.00\\ \\mathrm{mm}^{2} \\cdot 158.72\\ \\mathrm{mm} \\cdot 200.00\\ \\mathrm{mm} \\cdot \\frac{ 6.33\\ \\mathrm{kN} }{ 2.59\\ \\mathrm{MN} \\cdot \\mathrm{m²} } \\\\&= 1.79\\ \\mathrm{kN}  \\\\[10pt]\n",
       "\\end{aligned}\n",
       "\\]"
      ],
      "text/plain": [
       "<IPython.core.display.Latex object>"
      ]
     },
     "metadata": {},
     "output_type": "display_data"
    }
   ],
   "source": [
    "F_i = dalle_ELU.F_i(V_z, connecteur=2)\n",
    "display(Latex(F_i[0]))"
   ]
  },
  {
   "cell_type": "markdown",
   "metadata": {},
   "source": [
    "- <font color=\"blue\" size =\"4\">**Résistance de calcul connecteur**</font>"
   ]
  },
  {
   "cell_type": "code",
   "execution_count": 48,
   "metadata": {},
   "outputs": [
    {
     "data": {
      "text/latex": [
       "\\[\n",
       "\\begin{aligned}\n",
       "F_{Rd} &= \\frac{ F_{Rk} \\cdot k_{mod} }{ \\gamma_{M} }  = \\frac{ 2.10\\ \\mathrm{kN} \\cdot 0.80 }{ 1.30 } &= 1.29\\ \\mathrm{kN} \\; \\;\\textrm{(Valeur de calcul (design))}\n",
       "\\end{aligned}\n",
       "\\]"
      ],
      "text/plain": [
       "<IPython.core.display.Latex object>"
      ]
     },
     "metadata": {},
     "output_type": "display_data"
    }
   ],
   "source": [
    "display(Latex(connecteur.F_Rd(FvRk[1].value*10**-3)[0]))"
   ]
  },
  {
   "cell_type": "markdown",
   "metadata": {},
   "source": [
    "- <font color=\"blue\" size =\"4\">**Taux de travail connecteur**</font>"
   ]
  },
  {
   "cell_type": "code",
   "execution_count": 49,
   "metadata": {},
   "outputs": [
    {
     "data": {
      "text/latex": [
       "\\[\n",
       "\\begin{aligned}\n",
       "\\mathrm{taux}_{cisaillement} &= \\frac{ \\mathrm{Fv}_{Ed} }{ \\mathrm{Fv}_{Rd_{ass}} } \\\\&= \\frac{ 1.79\\ \\mathrm{kN} }{ 1.29\\ \\mathrm{kN} } \\\\&= 1.38  \\\\[10pt]\n",
       "\\end{aligned}\n",
       "\\]"
      ],
      "text/plain": [
       "<IPython.core.display.Latex object>"
      ]
     },
     "metadata": {},
     "output_type": "display_data"
    }
   ],
   "source": [
    "display(Latex(connecteur.taux_cisaillement(Fv_Ed = F_i[1].value*10**-3)[0]))"
   ]
  },
  {
   "cell_type": "code",
   "execution_count": 50,
   "metadata": {},
   "outputs": [
    {
     "ename": "NameError",
     "evalue": "name 'app' is not defined",
     "output_type": "error",
     "traceback": [
      "\u001b[1;31m---------------------------------------------------------------------------\u001b[0m",
      "\u001b[1;31mNameError\u001b[0m                                 Traceback (most recent call last)",
      "Cell \u001b[1;32mIn[50], line 1\u001b[0m\n\u001b[1;32m----> 1\u001b[0m \u001b[43mapp\u001b[49m\u001b[38;5;241m.\u001b[39mexit()\n",
      "\u001b[1;31mNameError\u001b[0m: name 'app' is not defined"
     ]
    }
   ],
   "source": [
    "app.exit()"
   ]
  },
  {
   "cell_type": "code",
   "execution_count": null,
   "metadata": {},
   "outputs": [],
   "source": [
    "# yG = dalle.distance_ai[1] + barre2.h_calcul/2\n",
    "# yG = yG.value *10**3\n",
    "# y = [h for h in range(0, int(barre2.h_calcul.value*10**3)+20, 20)]\n",
    "\n",
    "# sigma_m = []\n",
    "# tau = []\n",
    "# My = M_y.value*10**3\n",
    "# Vz = V_z.value\n",
    "# E_mean_fin_3 = dalle.beam[2].E_mean_fin.value *10**-6\n",
    "# ei_eff = dalle.EI_eff[1].value *10**6\n",
    "# beam_2 = dalle.beam[1]\n",
    "# beam_3 = dalle.beam[2]\n",
    "# h3 = (dalle.beam[1].h_calcul.value/2 - dalle.recouvrement[1].value- dalle.beam[2].h_calcul.value/2)*10**3\n",
    "# print(h3, dalle.beam[1].h_calcul.value, dalle.recouvrement[1].value, dalle.beam[2].h_calcul.value)\n",
    "\n",
    "# tau_value = 0\n",
    "# for h in y:\n",
    "#     for yi in y:\n",
    "#         for index, beam in enumerate(dalle.beam):\n",
    "#             if beam_2.h_calcul.value *10**3 <=yi:\n",
    "#                 if beam is not None:\n",
    "#                     gamma_i = dalle.gamma_i[\"gamma 2\"]\n",
    "#                     E_mean_fin = beam_2.E_mean_fin.value *10**-6\n",
    "#                     b = dalle.beam[1].b_calcul.value *10**3\n",
    "#                     h = dalle.beam[1].h_calcul.value *10**3\n",
    "#                     distance_ai = dalle.distance_ai[1].value *10**3\n",
    "#                     h_z = h\n",
    "#                     for yi in y:\n",
    "#                         if yi < h:\n",
    "#                             h_z = yi\n",
    "#                         else:\n",
    "#                             h_z = h\n",
    "                        \n",
    "#                         tau_2 = (Vz*gamma_i*E_mean_fin*b*h_z*distance_ai)/(ei_eff*b) \n",
    "#                         tau_value = tau_value + tau_2\n",
    "#                         print (tau_value, h_z, gamma_i)\n",
    "#             elif h3 <=yi:\n",
    "#                 if beam is not None:\n",
    "#                     gamma_i = dalle.gamma_i[\"gamma 3\"][1]\n",
    "#                     print(gamma_i)\n",
    "#                     E_mean_fin = beam_3.E_mean_fin.value *10**-6\n",
    "#                     b = dalle.beam[2].b_calcul.value *10**3\n",
    "#                     h = dalle.beam[2].h_calcul.value *10**3\n",
    "#                     distance_ai = dalle.distance_ai[2].value *10**3\n",
    "#                     h_z = h+h3\n",
    "#                     for yi in y:\n",
    "#                         if yi < h_z:\n",
    "#                             h_z = yi\n",
    "#                         else:\n",
    "#                             h_z = h_z\n",
    "#                         print(Vz,gamma_i,E_mean_fin,b,h_z,distance_ai,ei_eff,b)\n",
    "#                         tau_3 = (Vz*gamma_i*E_mean_fin*b*h_z*distance_ai)/(ei_eff*b) \n",
    "#                         tau_value = tau_value + tau_3\n",
    "#                         print (tau_value, h_z, gamma_i)\n",
    "#     tau.append(tau_value)\n",
    "        \n",
    "# for h in y:\n",
    "#     v = yG - h\n",
    "#     sigma_m.append(My * E_mean_fin_3 * v / ei_eff)\n",
    "\n",
    "# plt.figure(figsize=(14,7))\n",
    "# plt.title(\"Contrainte de flexion Sigma,m\")\n",
    "# plt.xlabel(\"Contrainte en MPa\")\n",
    "# plt.ylabel(\"Hauteur de la poutre en mm\")\n",
    "\n",
    "# plt.plot(sigma_m, y)\n",
    "# plt.plot(tau, y)\n",
    "\n",
    "# plt.plot([0] * len(y), y, color='red')\n",
    "# x = np.arange(int(min(sigma_m))-10, int(max(sigma_m))+10, step=2)\n",
    "# plt.plot(x, [yG] * len(x), color='red')\n",
    "\n",
    "# plt.grid(True)\n",
    "# plt.xticks(np.arange(int(min(sigma_m))-5, int(max(sigma_m))+5, step=2))\n",
    "# plt.yticks(np.arange(int(min(y)), int(max(y)+10), step=10))\n",
    "\n",
    "# if abs(int(min(sigma_m))) > abs(int(max(sigma_m))):\n",
    "#     sigma_max  = round(min(sigma_m),2)\n",
    "# else:\n",
    "#     sigma_max = round(max(sigma_m),2)\n",
    "# if abs(int(min(tau))) > abs(int(max(tau))):\n",
    "#     tau_max  = round(min(tau),2)\n",
    "# else:\n",
    "#     tau_max = round(max(tau),2)\n",
    "# plt.text(sigma_max, int(yG) +10, f\"yG: {round(yG,1)}mm\", color=\"red\")\n",
    "# plt.text(sigma_max, int(barre2.h_calcul.value*10**3 / 2 - 50), f\"contrainte max flexion: \\n{sigma_max} MPa\", color=\"blue\")\n",
    "# plt.text(tau_max, int(barre2.h_calcul.value*10**3 / 2 - 50), f\"contrainte max cisaillement : \\n{tau_max} MPa\", color=\"orange\")\n",
    "# plt.show()"
   ]
  }
 ],
 "metadata": {
  "kernelspec": {
   "display_name": "env",
   "language": "python",
   "name": "python3"
  },
  "language_info": {
   "codemirror_mode": {
    "name": "ipython",
    "version": 3
   },
   "file_extension": ".py",
   "mimetype": "text/x-python",
   "name": "python",
   "nbconvert_exporter": "python",
   "pygments_lexer": "ipython3",
   "version": "3.12.2"
  }
 },
 "nbformat": 4,
 "nbformat_minor": 2
}
